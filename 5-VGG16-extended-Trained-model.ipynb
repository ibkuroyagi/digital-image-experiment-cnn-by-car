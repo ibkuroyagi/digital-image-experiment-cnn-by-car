{
 "cells": [
  {
   "cell_type": "markdown",
   "metadata": {},
   "source": [
    "## データ拡張を行う特徴抽出\n",
    "\n",
    "### たたみ込みベースに全結合分類期を追加"
   ]
  },
  {
   "cell_type": "code",
   "execution_count": 1,
   "metadata": {},
   "outputs": [
    {
     "name": "stderr",
     "output_type": "stream",
     "text": [
      "Using TensorFlow backend.\n"
     ]
    }
   ],
   "source": [
    "from keras.applications import VGG16\n",
    "\n",
    "conv_base = VGG16(weights='imagenet',\n",
    "                 include_top=False,\n",
    "                 input_shape=(256, 256, 3))\n",
    "\n",
    "import os\n",
    "import numpy as np\n",
    "import pandas as pd\n",
    "\n",
    "mini_metadata = pd.read_csv('mini_metadata.csv',index_col=0)\n",
    "classes = list(mini_metadata[\"make_model\"].value_counts().index)\n",
    "classes = sorted(classes)\n",
    "classes_num = len(mini_metadata.groupby(\"make_model\"))\n",
    "\n",
    "base_dir = 'mini_pictures'\n",
    "\n",
    "train_dir = os.path.join(base_dir,'train')\n",
    "valid_dir = os.path.join(base_dir,'valid')\n",
    "test_dir = os.path.join(base_dir,'test')"
   ]
  },
  {
   "cell_type": "code",
   "execution_count": 2,
   "metadata": {},
   "outputs": [],
   "source": [
    "from keras import models\n",
    "from keras import layers\n",
    "\n",
    "model = models.Sequential()\n",
    "model.add(conv_base)\n",
    "model.add(layers.Flatten())\n",
    "model.add(layers.Dense(256, activation='relu'))\n",
    "model.add(layers.Dense(classes_num, activation='softmax'))"
   ]
  },
  {
   "cell_type": "code",
   "execution_count": 3,
   "metadata": {},
   "outputs": [
    {
     "name": "stdout",
     "output_type": "stream",
     "text": [
      "Model: \"sequential_1\"\n",
      "_________________________________________________________________\n",
      "Layer (type)                 Output Shape              Param #   \n",
      "=================================================================\n",
      "vgg16 (Model)                (None, 8, 8, 512)         14714688  \n",
      "_________________________________________________________________\n",
      "flatten_1 (Flatten)          (None, 32768)             0         \n",
      "_________________________________________________________________\n",
      "dense_1 (Dense)              (None, 256)               8388864   \n",
      "_________________________________________________________________\n",
      "dense_2 (Dense)              (None, 20)                5140      \n",
      "=================================================================\n",
      "Total params: 23,108,692\n",
      "Trainable params: 23,108,692\n",
      "Non-trainable params: 0\n",
      "_________________________________________________________________\n"
     ]
    }
   ],
   "source": [
    "model.summary()"
   ]
  },
  {
   "cell_type": "code",
   "execution_count": 4,
   "metadata": {},
   "outputs": [
    {
     "name": "stdout",
     "output_type": "stream",
     "text": [
      "This is the number of trainable weights\n",
      "before freezing the conv base: 30\n"
     ]
    }
   ],
   "source": [
    "print('This is the number of trainable weights')\n",
    "print('before freezing the conv base:', len(model.trainable_weights))"
   ]
  },
  {
   "cell_type": "code",
   "execution_count": 5,
   "metadata": {},
   "outputs": [],
   "source": [
    "conv_base.trainable = False"
   ]
  },
  {
   "cell_type": "code",
   "execution_count": 6,
   "metadata": {},
   "outputs": [
    {
     "name": "stdout",
     "output_type": "stream",
     "text": [
      "This is the number of trainable weights\n",
      "after freezing the conv base: 4\n"
     ]
    }
   ],
   "source": [
    "print('This is the number of trainable weights')\n",
    "print('after freezing the conv base:', len(model.trainable_weights))"
   ]
  },
  {
   "cell_type": "markdown",
   "metadata": {},
   "source": [
    "### 凍結されたたたみ込みベースを使ってモデル全体を訓練"
   ]
  },
  {
   "cell_type": "code",
   "execution_count": 7,
   "metadata": {
    "scrolled": true
   },
   "outputs": [
    {
     "name": "stdout",
     "output_type": "stream",
     "text": [
      "Found 1912 images belonging to 20 classes.\n",
      "Found 657 images belonging to 20 classes.\n",
      "Epoch 1/30\n",
      " - 3601s - loss: 2.4818 - acc: 0.3216 - val_loss: 2.0486 - val_acc: 0.5516\n",
      "Epoch 2/30\n",
      " - 3535s - loss: 1.6635 - acc: 0.6491 - val_loss: 1.6314 - val_acc: 0.6955\n",
      "Epoch 3/30\n",
      " - 3453s - loss: 1.1599 - acc: 0.8106 - val_loss: 0.9694 - val_acc: 0.7685\n",
      "Epoch 4/30\n",
      " - 2831s - loss: 0.8180 - acc: 0.9004 - val_loss: 0.8605 - val_acc: 0.8210\n",
      "Epoch 5/30\n",
      " - 1895s - loss: 0.5860 - acc: 0.9414 - val_loss: 0.6968 - val_acc: 0.8401\n",
      "Epoch 6/30\n",
      " - 1899s - loss: 0.4404 - acc: 0.9658 - val_loss: 0.6513 - val_acc: 0.8849\n",
      "Epoch 7/30\n",
      " - 1926s - loss: 0.3216 - acc: 0.9799 - val_loss: 0.5617 - val_acc: 0.9115\n",
      "Epoch 8/30\n",
      " - 1892s - loss: 0.2399 - acc: 0.9893 - val_loss: 0.5498 - val_acc: 0.9363\n",
      "Epoch 9/30\n",
      " - 1898s - loss: 0.1851 - acc: 0.9921 - val_loss: 0.3401 - val_acc: 0.9452\n",
      "Epoch 10/30\n",
      " - 1897s - loss: 0.1388 - acc: 0.9962 - val_loss: 0.2660 - val_acc: 0.9522\n",
      "Epoch 11/30\n",
      " - 1891s - loss: 0.1047 - acc: 0.9994 - val_loss: 0.2581 - val_acc: 0.9633\n",
      "Epoch 12/30\n",
      " - 1896s - loss: 0.0821 - acc: 0.9991 - val_loss: 0.2384 - val_acc: 0.9637\n",
      "Epoch 13/30\n",
      " - 1889s - loss: 0.0619 - acc: 1.0000 - val_loss: 0.1629 - val_acc: 0.9669\n",
      "Epoch 14/30\n",
      " - 1894s - loss: 0.0473 - acc: 0.9997 - val_loss: 0.2224 - val_acc: 0.9666\n",
      "Epoch 15/30\n",
      " - 1892s - loss: 0.0379 - acc: 1.0000 - val_loss: 0.1224 - val_acc: 0.9822\n",
      "Epoch 16/30\n",
      " - 2591s - loss: 0.0284 - acc: 1.0000 - val_loss: 0.1619 - val_acc: 0.9666\n",
      "Epoch 17/30\n",
      " - 3354s - loss: 0.0225 - acc: 1.0000 - val_loss: 0.2220 - val_acc: 0.9631\n",
      "Epoch 18/30\n",
      " - 3263s - loss: 0.0175 - acc: 1.0000 - val_loss: 0.1087 - val_acc: 0.9809\n",
      "Epoch 19/30\n",
      " - 2570s - loss: 0.0132 - acc: 1.0000 - val_loss: 0.1461 - val_acc: 0.9884\n",
      "Epoch 20/30\n",
      " - 1928s - loss: 0.0105 - acc: 1.0000 - val_loss: 0.1033 - val_acc: 0.9930\n",
      "Epoch 21/30\n",
      " - 1900s - loss: 0.0082 - acc: 1.0000 - val_loss: 0.1444 - val_acc: 0.9833\n",
      "Epoch 22/30\n",
      " - 1889s - loss: 0.0063 - acc: 1.0000 - val_loss: 0.1558 - val_acc: 0.9898\n",
      "Epoch 23/30\n",
      " - 1890s - loss: 0.0051 - acc: 1.0000 - val_loss: 0.0841 - val_acc: 0.9898\n",
      "Epoch 24/30\n",
      " - 1890s - loss: 0.0039 - acc: 1.0000 - val_loss: 0.0628 - val_acc: 0.9878\n",
      "Epoch 25/30\n",
      " - 1890s - loss: 0.0030 - acc: 1.0000 - val_loss: 0.1113 - val_acc: 0.9911\n",
      "Epoch 26/30\n",
      " - 1884s - loss: 0.0023 - acc: 1.0000 - val_loss: 0.0446 - val_acc: 0.9924\n",
      "Epoch 27/30\n",
      " - 1889s - loss: 0.0018 - acc: 1.0000 - val_loss: 0.0231 - val_acc: 0.9910\n",
      "Epoch 28/30\n",
      " - 1883s - loss: 0.0014 - acc: 1.0000 - val_loss: 0.0294 - val_acc: 0.9936\n",
      "Epoch 29/30\n",
      " - 1881s - loss: 0.0011 - acc: 1.0000 - val_loss: 0.0690 - val_acc: 0.9878\n",
      "Epoch 30/30\n",
      " - 1884s - loss: 8.9991e-04 - acc: 1.0000 - val_loss: 0.1583 - val_acc: 0.9949\n"
     ]
    }
   ],
   "source": [
    "from keras.preprocessing.image import ImageDataGenerator\n",
    "from keras import optimizers\n",
    "\n",
    "train_datagen = ImageDataGenerator(\n",
    "    rescale=1./255,\n",
    "#     rotation_range=40,\n",
    "#     width_shift_range=0.2,\n",
    "#     height_shift_range=0.2,\n",
    "#     fill_mode='nearest'\n",
    ")\n",
    "\n",
    "# 検証データは水増しするべきで無いことに注意\n",
    "test_datagen = ImageDataGenerator(rescale=1./255)\n",
    "\n",
    "train_generator = train_datagen.flow_from_directory(\n",
    "    train_dir,               #ターゲットディレクトリ\n",
    "    target_size=(256,256),   #全ての画像を256*256に変換\n",
    "    batch_size=32,           #バッチサイズ\n",
    "    class_mode='categorical',#損失関数としてcategorical_crossentropyを使用するため,\n",
    "    classes=classes          #他クラスラベルが必要\n",
    "    )\n",
    "\n",
    "validation_generator = test_datagen.flow_from_directory(\n",
    "    valid_dir,               #ターゲットディレクトリ\n",
    "    target_size=(256,256),   #全ての画像を256*256に変換\n",
    "    batch_size=32,           #バッチサイズ\n",
    "    class_mode='categorical',#損失関数としてcategorical_crossentropyを使用するため,\n",
    "    classes=classes          #他クラスラベルが必要\n",
    "    )\n",
    "\n",
    "model.compile(optimizer=optimizers.RMSprop(lr=2e-5),\n",
    "             loss='categorical_crossentropy',\n",
    "             metrics=['acc'])\n",
    "\n",
    "history = model.fit_generator(\n",
    "    train_generator,\n",
    "    steps_per_epoch=100,\n",
    "    epochs=30,\n",
    "    validation_data=validation_generator,\n",
    "    validation_steps=50,\n",
    "    verbose=2\n",
    ")\n"
   ]
  },
  {
   "cell_type": "code",
   "execution_count": 8,
   "metadata": {},
   "outputs": [
    {
     "data": {
      "text/plain": [
       "<Figure size 640x480 with 1 Axes>"
      ]
     },
     "metadata": {},
     "output_type": "display_data"
    },
    {
     "data": {
      "text/plain": [
       "<Figure size 640x480 with 1 Axes>"
      ]
     },
     "metadata": {},
     "output_type": "display_data"
    }
   ],
   "source": [
    "import matplotlib.pyplot as plt\n",
    "\n",
    "acc = history.history['acc']\n",
    "val_acc = history.history['val_acc']\n",
    "loss = history.history['loss']\n",
    "val_loss = history.history['val_loss']\n",
    "\n",
    "epochs = range(1,len(acc)+1)\n",
    "\n",
    "#正解率をプロット\n",
    "plt.plot(epochs, acc, 'bo', label='Training acc')\n",
    "plt.plot(epochs, val_acc, 'b', label='Validation acc')\n",
    "plt.title('Training and validation accuracy')\n",
    "\n",
    "plt.figure()\n",
    "\n",
    "#損失値をプロット\n",
    "plt.plot(epochs, loss, 'bo', label='Training loss')\n",
    "plt.plot(epochs, val_loss, 'b', label='Validatin loss')\n",
    "plt.title('Training and validation loss')\n",
    "plt.legend()\n",
    "\n",
    "plt.show()"
   ]
  },
  {
   "cell_type": "markdown",
   "metadata": {},
   "source": [
    "## ファインチューニング\n",
    "\n",
    "特徴抽出に用いられる凍結されたたたみ込みベースの出力層をいくつか解凍し、モデルの新しく追加された部分と、解凍した層の両方で訓練を行う\n",
    "\n",
    "* 訓練済みベースネットワークの最後にカスタムネットワークを追加する\n",
    "* ベースネットワークを凍結する\n",
    "* 追加した部分の訓練を行う\n",
    "* ベースネットワークの一部を解凍する\n",
    "* 凍結した層と追加した部分の訓練を同時に行う\n",
    "\n",
    "上で３つ目までが終わっているので、４の、たたみ込みベース(conv_base)を解凍し、その中に含まれる層を個別に凍結する"
   ]
  },
  {
   "cell_type": "code",
   "execution_count": 9,
   "metadata": {},
   "outputs": [
    {
     "name": "stdout",
     "output_type": "stream",
     "text": [
      "Model: \"vgg16\"\n",
      "_________________________________________________________________\n",
      "Layer (type)                 Output Shape              Param #   \n",
      "=================================================================\n",
      "input_1 (InputLayer)         (None, 256, 256, 3)       0         \n",
      "_________________________________________________________________\n",
      "block1_conv1 (Conv2D)        (None, 256, 256, 64)      1792      \n",
      "_________________________________________________________________\n",
      "block1_conv2 (Conv2D)        (None, 256, 256, 64)      36928     \n",
      "_________________________________________________________________\n",
      "block1_pool (MaxPooling2D)   (None, 128, 128, 64)      0         \n",
      "_________________________________________________________________\n",
      "block2_conv1 (Conv2D)        (None, 128, 128, 128)     73856     \n",
      "_________________________________________________________________\n",
      "block2_conv2 (Conv2D)        (None, 128, 128, 128)     147584    \n",
      "_________________________________________________________________\n",
      "block2_pool (MaxPooling2D)   (None, 64, 64, 128)       0         \n",
      "_________________________________________________________________\n",
      "block3_conv1 (Conv2D)        (None, 64, 64, 256)       295168    \n",
      "_________________________________________________________________\n",
      "block3_conv2 (Conv2D)        (None, 64, 64, 256)       590080    \n",
      "_________________________________________________________________\n",
      "block3_conv3 (Conv2D)        (None, 64, 64, 256)       590080    \n",
      "_________________________________________________________________\n",
      "block3_pool (MaxPooling2D)   (None, 32, 32, 256)       0         \n",
      "_________________________________________________________________\n",
      "block4_conv1 (Conv2D)        (None, 32, 32, 512)       1180160   \n",
      "_________________________________________________________________\n",
      "block4_conv2 (Conv2D)        (None, 32, 32, 512)       2359808   \n",
      "_________________________________________________________________\n",
      "block4_conv3 (Conv2D)        (None, 32, 32, 512)       2359808   \n",
      "_________________________________________________________________\n",
      "block4_pool (MaxPooling2D)   (None, 16, 16, 512)       0         \n",
      "_________________________________________________________________\n",
      "block5_conv1 (Conv2D)        (None, 16, 16, 512)       2359808   \n",
      "_________________________________________________________________\n",
      "block5_conv2 (Conv2D)        (None, 16, 16, 512)       2359808   \n",
      "_________________________________________________________________\n",
      "block5_conv3 (Conv2D)        (None, 16, 16, 512)       2359808   \n",
      "_________________________________________________________________\n",
      "block5_pool (MaxPooling2D)   (None, 8, 8, 512)         0         \n",
      "=================================================================\n",
      "Total params: 14,714,688\n",
      "Trainable params: 0\n",
      "Non-trainable params: 14,714,688\n",
      "_________________________________________________________________\n"
     ]
    }
   ],
   "source": [
    "conv_base.summary()"
   ]
  },
  {
   "cell_type": "markdown",
   "metadata": {},
   "source": [
    "### ファインチューニングを行うのは最後の２つか３つの層のみ!\n",
    "つまり、block4_poolまでの層は全て凍結される。\n",
    "\n",
    "block5_conv1,block5_conv2,block5_conv3の３つの層が訓練可能になる"
   ]
  },
  {
   "cell_type": "code",
   "execution_count": 10,
   "metadata": {},
   "outputs": [],
   "source": [
    "conv_base.trainable = True\n",
    "\n",
    "set_trainable = False\n",
    "for layer in conv_base.layers:\n",
    "    if layer.name == 'block5_conv1':\n",
    "        set_trainable = True\n",
    "    if set_trainable:\n",
    "        layer.trainable = True\n",
    "    else:\n",
    "        layer.trainable = False"
   ]
  },
  {
   "cell_type": "code",
   "execution_count": 11,
   "metadata": {},
   "outputs": [],
   "source": [
    "model.compile(optimizer=optimizers.RMSprop(lr=1e-5),#学習率が低いのはファインチューニングを行う３つの層の変更を制限するため\n",
    "             loss='categorical_crossentropy',\n",
    "             metrics=['acc'])"
   ]
  },
  {
   "cell_type": "code",
   "execution_count": 14,
   "metadata": {},
   "outputs": [
    {
     "name": "stdout",
     "output_type": "stream",
     "text": [
      "Epoch 1/30\n",
      "100/100 [==============================] - 3728s 37s/step - loss: 4.9962e-04 - acc: 0.9997 - val_loss: 0.0653 - val_acc: 0.9936\n",
      "Epoch 2/30\n",
      "100/100 [==============================] - 3562s 36s/step - loss: 1.3562e-04 - acc: 1.0000 - val_loss: 0.1307 - val_acc: 0.9930\n",
      "Epoch 3/30\n",
      "100/100 [==============================] - 2193s 22s/step - loss: 8.6592e-06 - acc: 1.0000 - val_loss: 0.0045 - val_acc: 0.9961\n",
      "Epoch 4/30\n",
      "100/100 [==============================] - 2109s 21s/step - loss: 1.1728e-04 - acc: 1.0000 - val_loss: 0.0017 - val_acc: 0.9962\n",
      "Epoch 5/30\n",
      "100/100 [==============================] - 2102s 21s/step - loss: 1.2519e-06 - acc: 1.0000 - val_loss: 0.0018 - val_acc: 0.9943\n",
      "Epoch 6/30\n",
      "100/100 [==============================] - 2100s 21s/step - loss: 4.4568e-05 - acc: 1.0000 - val_loss: 0.0059 - val_acc: 0.9974\n",
      "Epoch 7/30\n",
      "100/100 [==============================] - 2115s 21s/step - loss: 5.7257e-07 - acc: 1.0000 - val_loss: 0.0062 - val_acc: 0.9981\n",
      "Epoch 8/30\n",
      "100/100 [==============================] - 2100s 21s/step - loss: 2.0221e-07 - acc: 1.0000 - val_loss: 0.0141 - val_acc: 0.9987\n",
      "Epoch 9/30\n",
      "100/100 [==============================] - 2106s 21s/step - loss: 8.9358e-08 - acc: 1.0000 - val_loss: 0.0019 - val_acc: 0.9987\n",
      "Epoch 10/30\n",
      "100/100 [==============================] - 2104s 21s/step - loss: 5.7246e-08 - acc: 1.0000 - val_loss: 0.0012 - val_acc: 0.9981\n",
      "Epoch 11/30\n",
      "100/100 [==============================] - 2107s 21s/step - loss: 4.2133e-08 - acc: 1.0000 - val_loss: 0.0037 - val_acc: 0.9981\n",
      "Epoch 12/30\n",
      "100/100 [==============================] - 2104s 21s/step - loss: 3.6036e-08 - acc: 1.0000 - val_loss: 0.0031 - val_acc: 0.9987\n",
      "Epoch 13/30\n",
      "100/100 [==============================] - 2103s 21s/step - loss: 2.8722e-08 - acc: 1.0000 - val_loss: 0.0097 - val_acc: 0.9987\n",
      "Epoch 14/30\n",
      "100/100 [==============================] - 2103s 21s/step - loss: 2.6610e-08 - acc: 1.0000 - val_loss: 9.1333e-05 - val_acc: 0.9981\n",
      "Epoch 15/30\n",
      "100/100 [==============================] - 2098s 21s/step - loss: 2.3507e-08 - acc: 1.0000 - val_loss: 2.1635e-04 - val_acc: 0.9987\n",
      "Epoch 16/30\n",
      "100/100 [==============================] - 2103s 21s/step - loss: 2.1756e-08 - acc: 1.0000 - val_loss: 0.0029 - val_acc: 0.9987\n",
      "Epoch 17/30\n",
      "100/100 [==============================] - 2103s 21s/step - loss: 2.0899e-08 - acc: 1.0000 - val_loss: 1.9562e-04 - val_acc: 0.9981\n",
      "Epoch 18/30\n",
      "100/100 [==============================] - 2104s 21s/step - loss: 1.9396e-08 - acc: 1.0000 - val_loss: 2.4499e-05 - val_acc: 0.9987\n",
      "Epoch 19/30\n",
      "100/100 [==============================] - 2104s 21s/step - loss: 1.8130e-08 - acc: 1.0000 - val_loss: 7.3155e-04 - val_acc: 0.9987\n",
      "Epoch 20/30\n",
      "100/100 [==============================] - 2104s 21s/step - loss: 1.7645e-08 - acc: 1.0000 - val_loss: 2.9879e-04 - val_acc: 0.9987\n",
      "Epoch 21/30\n",
      "100/100 [==============================] - 2159s 22s/step - loss: 1.8253e-08 - acc: 1.0000 - val_loss: 2.8676e-04 - val_acc: 0.9981\n",
      "Epoch 22/30\n",
      "100/100 [==============================] - 3139s 31s/step - loss: 1.6490e-08 - acc: 1.0000 - val_loss: 0.0027 - val_acc: 0.9987\n",
      "Epoch 23/30\n",
      "100/100 [==============================] - 3462s 35s/step - loss: 1.6254e-08 - acc: 1.0000 - val_loss: 2.8435e-04 - val_acc: 0.9981\n",
      "Epoch 24/30\n",
      "100/100 [==============================] - 3140s 31s/step - loss: 1.7050e-08 - acc: 1.0000 - val_loss: 6.0483e-04 - val_acc: 0.9987\n",
      "Epoch 25/30\n",
      "100/100 [==============================] - 2112s 21s/step - loss: 1.5969e-08 - acc: 1.0000 - val_loss: 0.0019 - val_acc: 0.9981\n",
      "Epoch 26/30\n",
      "100/100 [==============================] - 2106s 21s/step - loss: 1.6429e-08 - acc: 1.0000 - val_loss: 0.0206 - val_acc: 0.9987\n",
      "Epoch 27/30\n",
      "100/100 [==============================] - 2110s 21s/step - loss: 1.5609e-08 - acc: 1.0000 - val_loss: 0.0018 - val_acc: 0.9987\n",
      "Epoch 28/30\n",
      "100/100 [==============================] - 2109s 21s/step - loss: 1.5485e-08 - acc: 1.0000 - val_loss: 1.2393e-04 - val_acc: 0.9981\n",
      "Epoch 29/30\n",
      "100/100 [==============================] - 2106s 21s/step - loss: 1.5087e-08 - acc: 1.0000 - val_loss: 0.0023 - val_acc: 0.9987\n",
      "Epoch 30/30\n",
      "100/100 [==============================] - 2141s 21s/step - loss: 1.5075e-08 - acc: 1.0000 - val_loss: 0.0163 - val_acc: 0.9987\n"
     ]
    }
   ],
   "source": [
    "history = model.fit_generator(train_generator,\n",
    "                             steps_per_epoch=100,\n",
    "                             epochs=30,\n",
    "                             validation_data=validation_generator,\n",
    "                             validation_steps=50)"
   ]
  },
  {
   "cell_type": "code",
   "execution_count": 15,
   "metadata": {},
   "outputs": [
    {
     "data": {
      "image/png": "[encoded data removed]",
      "text/plain": [
       "<Figure size 432x288 with 1 Axes>"
      ]
     },
     "metadata": {
      "needs_background": "light"
     },
     "output_type": "display_data"
    },
    {
     "data": {
      "image/png": "[encoded data removed]",
      "text/plain": [
       "<Figure size 432x288 with 1 Axes>"
      ]
     },
     "metadata": {
      "needs_background": "light"
     },
     "output_type": "display_data"
    }
   ],
   "source": [
    "acc = history.history['acc']\n",
    "val_acc = history.history['val_acc']\n",
    "loss = history.history['loss']\n",
    "val_loss = history.history['val_loss']\n",
    "\n",
    "epochs = range(1,len(acc)+1)\n",
    "\n",
    "#正解率をプロット\n",
    "plt.plot(epochs, acc, 'bo', label='Training acc')\n",
    "plt.plot(epochs, val_acc, 'b', label='Validation acc')\n",
    "plt.title('Training and validation accuracy')\n",
    "\n",
    "plt.figure()\n",
    "\n",
    "#損失値をプロット\n",
    "plt.plot(epochs, loss, 'bo', label='Training loss')\n",
    "plt.plot(epochs, val_loss, 'b', label='Validatin loss')\n",
    "plt.title('Training and validation loss')\n",
    "plt.legend()\n",
    "\n",
    "plt.show()"
   ]
  },
  {
   "cell_type": "code",
   "execution_count": 16,
   "metadata": {},
   "outputs": [],
   "source": [
    "model.save(\"VGG16_extended_mini_1.h5\")"
   ]
  }
 ],
 "metadata": {
  "kernelspec": {
   "display_name": "Python 3",
   "language": "python",
   "name": "python3"
  },
  "language_info": {
   "codemirror_mode": {
    "name": "ipython",
    "version": 3
   },
   "file_extension": ".py",
   "mimetype": "text/x-python",
   "name": "python",
   "nbconvert_exporter": "python",
   "pygments_lexer": "ipython3",
   "version": "3.7.3"
  }
 },
 "nbformat": 4,
 "nbformat_minor": 2
}
