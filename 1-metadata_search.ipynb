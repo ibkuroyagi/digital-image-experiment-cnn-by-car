{
 "cells": [
  {
   "cell_type": "markdown",
   "metadata": {},
   "source": [
    "# １ データの確認\n",
    "kaggleからダウンロードしたmetadata.csvの中身を確認し、どのようにラベリングをしていくかを検討するためのコード  \n",
    "git cloneをした場合はすでにmini_metadata.csvが作成されているので、こちらのコードを実行する必要はありません。\n"
   ]
  },
  {
   "cell_type": "code",
   "execution_count": 1,
   "metadata": {
    "scrolled": true
   },
   "outputs": [
    {
     "data": {
      "text/html": [
       "<div>\n",
       "<style scoped>\n",
       "    .dataframe tbody tr th:only-of-type {\n",
       "        vertical-align: middle;\n",
       "    }\n",
       "\n",
       "    .dataframe tbody tr th {\n",
       "        vertical-align: top;\n",
       "    }\n",
       "\n",
       "    .dataframe thead th {\n",
       "        text-align: right;\n",
       "    }\n",
       "</style>\n",
       "<table border=\"1\" class=\"dataframe\">\n",
       "  <thead>\n",
       "    <tr style=\"text-align: right;\">\n",
       "      <th></th>\n",
       "      <th>id</th>\n",
       "      <th>year</th>\n",
       "      <th>make</th>\n",
       "      <th>model</th>\n",
       "      <th>trim1</th>\n",
       "      <th>trim2</th>\n",
       "    </tr>\n",
       "  </thead>\n",
       "  <tbody>\n",
       "    <tr>\n",
       "      <th>6567</th>\n",
       "      <td>ffdf67d8d44b</td>\n",
       "      <td>2014.0</td>\n",
       "      <td>Mercedes-Benz</td>\n",
       "      <td>CLA</td>\n",
       "      <td>CLA</td>\n",
       "      <td>CLA250 w/ Sport Pkg</td>\n",
       "    </tr>\n",
       "    <tr>\n",
       "      <th>6568</th>\n",
       "      <td>ffe45737b4af</td>\n",
       "      <td>2014.0</td>\n",
       "      <td>Mercedes-Benz</td>\n",
       "      <td>E-Class</td>\n",
       "      <td>E-Class</td>\n",
       "      <td>E350 Sport</td>\n",
       "    </tr>\n",
       "    <tr>\n",
       "      <th>6569</th>\n",
       "      <td>fff013bbf988</td>\n",
       "      <td>2014.0</td>\n",
       "      <td>Toyota</td>\n",
       "      <td>Tundra</td>\n",
       "      <td>Tundra</td>\n",
       "      <td>Platinum W/ Towing Pkg</td>\n",
       "    </tr>\n",
       "    <tr>\n",
       "      <th>6570</th>\n",
       "      <td>fff341f26a19</td>\n",
       "      <td>2013.0</td>\n",
       "      <td>Nissan</td>\n",
       "      <td>Altima</td>\n",
       "      <td>Altima</td>\n",
       "      <td>3.5 SL</td>\n",
       "    </tr>\n",
       "    <tr>\n",
       "      <th>6571</th>\n",
       "      <td>fff9b3a5373f</td>\n",
       "      <td>2011.0</td>\n",
       "      <td>Land Rover</td>\n",
       "      <td>Range Rover</td>\n",
       "      <td>Range Rover</td>\n",
       "      <td>Supercharged w/Autobiography Pkg</td>\n",
       "    </tr>\n",
       "  </tbody>\n",
       "</table>\n",
       "</div>"
      ],
      "text/plain": [
       "                id    year           make        model        trim1  \\\n",
       "6567  ffdf67d8d44b  2014.0  Mercedes-Benz          CLA          CLA   \n",
       "6568  ffe45737b4af  2014.0  Mercedes-Benz      E-Class      E-Class   \n",
       "6569  fff013bbf988  2014.0         Toyota       Tundra       Tundra   \n",
       "6570  fff341f26a19  2013.0         Nissan       Altima       Altima   \n",
       "6571  fff9b3a5373f  2011.0     Land Rover  Range Rover  Range Rover   \n",
       "\n",
       "                                 trim2  \n",
       "6567               CLA250 w/ Sport Pkg  \n",
       "6568                        E350 Sport  \n",
       "6569            Platinum W/ Towing Pkg  \n",
       "6570                            3.5 SL  \n",
       "6571  Supercharged w/Autobiography Pkg  "
      ]
     },
     "execution_count": 1,
     "metadata": {},
     "output_type": "execute_result"
    }
   ],
   "source": [
    "import pandas as pd\n",
    "df = pd.read_csv(\"./metadata.csv\")\n",
    "df.tail()"
   ]
  },
  {
   "cell_type": "code",
   "execution_count": 2,
   "metadata": {},
   "outputs": [
    {
     "data": {
      "text/plain": [
       "id       6572\n",
       "year       12\n",
       "make       36\n",
       "model     398\n",
       "trim1     400\n",
       "trim2     770\n",
       "dtype: int64"
      ]
     },
     "execution_count": 2,
     "metadata": {},
     "output_type": "execute_result"
    }
   ],
   "source": [
    "df.nunique()"
   ]
  },
  {
   "cell_type": "code",
   "execution_count": 3,
   "metadata": {},
   "outputs": [
    {
     "data": {
      "text/plain": [
       "make\n",
       "Acura            123\n",
       "Audi              97\n",
       "BMW              188\n",
       "Buick            185\n",
       "Cadillac         157\n",
       "Chevrolet        570\n",
       "Chrysler         147\n",
       "Dodge            202\n",
       "FIAT              74\n",
       "Ford             577\n",
       "GMC              174\n",
       "Honda            572\n",
       "Hyundai          393\n",
       "INFINITI          79\n",
       "Infiniti          80\n",
       "Jaguar            19\n",
       "Jeep             202\n",
       "Kia              392\n",
       "Land Rover        23\n",
       "Lexus            194\n",
       "Lincoln           46\n",
       "MINI              69\n",
       "Maserati           1\n",
       "Mazda            191\n",
       "Mercedes-Benz    188\n",
       "Mercury            3\n",
       "Mitsubishi        54\n",
       "Nissan           497\n",
       "Porsche            1\n",
       "Ram               27\n",
       "Scion             51\n",
       "Smart             59\n",
       "Subaru            43\n",
       "Toyota           647\n",
       "Volkswagen       203\n",
       "Volvo             33\n",
       "Name: make, dtype: int64"
      ]
     },
     "execution_count": 3,
     "metadata": {},
     "output_type": "execute_result"
    }
   ],
   "source": [
    "df.groupby('make').make.count()"
   ]
  },
  {
   "cell_type": "markdown",
   "metadata": {},
   "source": [
    "## 日本でも流通していると思われるメーカーを独断で選別"
   ]
  },
  {
   "cell_type": "code",
   "execution_count": 4,
   "metadata": {},
   "outputs": [
    {
     "name": "stdout",
     "output_type": "stream",
     "text": [
      "['Acura', 'Audi', 'BMW', 'Buick', 'Cadillac', 'Chevrolet', 'Chrysler', 'Dodge', 'FIAT', 'Ford', 'GMC', 'Honda', 'Hyundai', 'INFINITI', 'Infiniti', 'Jaguar', 'Jeep', 'Kia', 'Land Rover', 'Lexus', 'Lincoln', 'MINI', 'Maserati', 'Mazda', 'Mercedes-Benz', 'Mercury', 'Mitsubishi', 'Nissan', 'Porsche', 'Ram', 'Scion', 'Smart', 'Subaru', 'Toyota', 'Volkswagen', 'Volvo']\n",
      "['Audi', 'BMW', 'Honda', 'Jeep', 'Lexus', 'MINI', 'Mazda', 'Mercedes-Benz', 'Mitsubishi', 'Nissan', 'Subaru', 'Toyota', 'Volkswagen', 'Volvo']\n"
     ]
    }
   ],
   "source": [
    "# 独断と偏見で日本で流通している車種のみに選別する\n",
    "all_car = list(df.groupby('make').make.count().index)\n",
    "print(all_car)\n",
    "seleceted_cars = ['Audi', 'BMW','Honda','Jeep','Lexus','MINI','Mazda','Mercedes-Benz','Mitsubishi','Nissan','Subaru','Toyota','Volkswagen','Volvo']\n",
    "print(seleceted_cars)"
   ]
  },
  {
   "cell_type": "markdown",
   "metadata": {},
   "source": [
    "## 選別した車種のモデル (make_model) を最終的な予測結果にする"
   ]
  },
  {
   "cell_type": "code",
   "execution_count": 5,
   "metadata": {},
   "outputs": [],
   "source": [
    "for i,tmp in enumerate(df[\"model\"]):\n",
    "    df.loc[i,[\"model\"]] = str(tmp).lower().replace(' ', '-')"
   ]
  },
  {
   "cell_type": "code",
   "execution_count": 6,
   "metadata": {},
   "outputs": [],
   "source": [
    "df[\"make_model\"] = df[\"make\"]+\"-\"+df[\"model\"]"
   ]
  },
  {
   "cell_type": "code",
   "execution_count": 7,
   "metadata": {
    "scrolled": true
   },
   "outputs": [
    {
     "data": {
      "text/plain": [
       "make_model\n",
       "Acura-ilx                       24\n",
       "Acura-mdx                       26\n",
       "Acura-rdx                        9\n",
       "Acura-rlx                        3\n",
       "Acura-tl                        35\n",
       "Acura-tlx                        4\n",
       "Acura-tsx                       18\n",
       "Acura-tsx-sport-wagon            2\n",
       "Acura-zdx                        2\n",
       "Audi-a3                         11\n",
       "Audi-a3-sportback-e-tron         1\n",
       "Audi-a4                         16\n",
       "Audi-a5                          9\n",
       "Audi-a6                         16\n",
       "Audi-a7                          2\n",
       "Audi-a8                          3\n",
       "Audi-a8-l                        2\n",
       "Audi-allroad                     2\n",
       "Audi-q3                          2\n",
       "Audi-q5                         11\n",
       "Audi-q7                          7\n",
       "Audi-rs-5                        1\n",
       "Audi-s3                          1\n",
       "Audi-s4                          3\n",
       "Audi-s5                          3\n",
       "Audi-sq5                         2\n",
       "Audi-tt                          2\n",
       "Audi-tt-rs                       1\n",
       "Audi-tts                         2\n",
       "BMW-1-series                     9\n",
       "                              ... \n",
       "Toyota-camry-hybrid             26\n",
       "Toyota-corolla                 119\n",
       "Toyota-fj-cruiser                1\n",
       "Toyota-highlander               17\n",
       "Toyota-prius                    97\n",
       "Toyota-prius-c                  52\n",
       "Toyota-prius-plug-in-hybrid     11\n",
       "Toyota-prius-v                  13\n",
       "Toyota-rav4                     56\n",
       "Toyota-sequoia                   1\n",
       "Toyota-sienna                   36\n",
       "Toyota-tacoma                   14\n",
       "Toyota-tundra                   13\n",
       "Toyota-venza                     6\n",
       "Toyota-yaris                    24\n",
       "Volkswagen-beetle               20\n",
       "Volkswagen-cc                   11\n",
       "Volkswagen-golf                  3\n",
       "Volkswagen-golf-gti              3\n",
       "Volkswagen-gti                   2\n",
       "Volkswagen-jetta                74\n",
       "Volkswagen-passat               59\n",
       "Volkswagen-routan                2\n",
       "Volkswagen-tiguan               28\n",
       "Volkswagen-touareg               1\n",
       "Volvo-s60                       20\n",
       "Volvo-v60-cross-country          3\n",
       "Volvo-xc60                       7\n",
       "Volvo-xc70                       1\n",
       "Volvo-xc90                       2\n",
       "Name: make_model, Length: 408, dtype: int64"
      ]
     },
     "execution_count": 7,
     "metadata": {},
     "output_type": "execute_result"
    }
   ],
   "source": [
    "df.groupby(\"make_model\").make_model.count()"
   ]
  },
  {
   "cell_type": "code",
   "execution_count": 9,
   "metadata": {},
   "outputs": [
    {
     "name": "stdout",
     "output_type": "stream",
     "text": [
      "                id    year   make              model              trim1  \\\n",
      "0     057717e667f8  2014.0   Audi                 a4                 A4   \n",
      "1     05b9facbe852  2012.0   Audi                 a4                 A4   \n",
      "2     0c73bef70ead  2013.0   Audi            allroad            Allroad   \n",
      "3     0cdf5b5d0ce1  2014.0   Audi                 a4                 A4   \n",
      "4     147eae56c94a  2014.0   Audi                 q7                 Q7   \n",
      "5     1727aa24a99b  2015.0   Audi                 q5                 Q5   \n",
      "6     17a1f1ab0ac3  2014.0   Audi                 a5                 A5   \n",
      "7     1c1a505c4e49  2014.0   Audi                 a5                 A5   \n",
      "8     29dcd633a24c  2013.0   Audi                 q7                 Q7   \n",
      "9     2be77fac38d9  2013.0   Audi                 q7                 Q7   \n",
      "10    30e0fda8deeb  2015.0   Audi                 a3                 A3   \n",
      "11    360383414441  2014.0   Audi                 a6                 A6   \n",
      "12    364fd5fd7569  2014.0   Audi               a8-l               A8 L   \n",
      "13    37760a1b4706  2013.0   Audi                 s5                 S5   \n",
      "14    3bca821c8c41  2011.0   Audi                 a4                 A4   \n",
      "15    3c6acfceb552  2012.0   Audi              tt-rs              TT RS   \n",
      "16    3edf4f51b428  2013.0   Audi                 a5                 A5   \n",
      "17    3f92ab280ae6  2009.0   Audi                tts                TTS   \n",
      "18    41680fdf745c  2014.0   Audi                 a6                 A6   \n",
      "19    42415ff65013  2015.0   Audi                 a7                 A7   \n",
      "20    430f0cb5666c  2016.0   Audi                 tt                 TT   \n",
      "21    4416c77aa458  2014.0   Audi                 a5                 A5   \n",
      "22    497ae7a50e01  2013.0   Audi                 a4                 A4   \n",
      "23    4a7726cf0fbf  2013.0   Audi                 a4                 A4   \n",
      "24    4db5972142a4  2014.0   Audi                 a4                 A4   \n",
      "25    4df00c060343  2012.0   Audi                 s4                 S4   \n",
      "26    4df1536de792  2016.0   Audi                 tt                 TT   \n",
      "27    4fc2470c0f7b  2010.0   Audi                 q7                 Q7   \n",
      "28    51f1cdf5f539  2014.0   Audi                sq5                SQ5   \n",
      "29    57b35b985be8  2014.0   Audi                 a4                 A4   \n",
      "...            ...     ...    ...                ...                ...   \n",
      "3148  2ffbdce884e6  2012.0  Volvo                s60                S60   \n",
      "3149  35078e8f6fe8  2016.0  Volvo               xc70               XC70   \n",
      "3150  357b743c7f28  2013.0  Volvo                s60                S60   \n",
      "3151  3cf2a769eb68  2016.0  Volvo  v60-cross-country  V60 Cross Country   \n",
      "3152  4109115398e3  2014.0  Volvo                s60                S60   \n",
      "3153  4113e9a59808  2015.0  Volvo                s60                S60   \n",
      "3154  457edb6d3b2a  2012.0  Volvo               xc60               XC60   \n",
      "3155  466a38571748  2013.0  Volvo                s60                S60   \n",
      "3156  4da06870532e  2015.0  Volvo               xc60               XC60   \n",
      "3157  53de78064fd2  2014.0  Volvo                s60                S60   \n",
      "3158  58276d50cf49  2015.0  Volvo                s60                S60   \n",
      "3159  5aecfa6f24e6  2012.0  Volvo                s60                S60   \n",
      "3160  60e6f58b7860  2014.0  Volvo                s60                S60   \n",
      "3161  63468ee860ae  2013.0  Volvo               xc90               XC90   \n",
      "3162  7031c3c1b446  2014.0  Volvo               xc60               XC60   \n",
      "3163  809dce250af2  2012.0  Volvo                s60                S60   \n",
      "3164  85e06b597f26  2012.0  Volvo                s60                S60   \n",
      "3165  86e4913cb334  2012.0  Volvo                s60                S60   \n",
      "3166  900a639596e2  2013.0  Volvo                s60                S60   \n",
      "3167  a6a69b44541b  2014.0  Volvo               xc60               XC60   \n",
      "3168  b62ae45940da  2013.0  Volvo               xc60               XC60   \n",
      "3169  be24152db667  2015.0  Volvo                s60                S60   \n",
      "3170  c255e8df9742  2014.0  Volvo                s60                S60   \n",
      "3171  c91e547a19d9  2014.0  Volvo               xc60               XC60   \n",
      "3172  cae0a8aab5f0  2013.0  Volvo               xc60               XC60   \n",
      "3173  cf205ef654b1  2013.0  Volvo                s60                S60   \n",
      "3174  d50e50f3ed93  2013.0  Volvo               xc90               XC90   \n",
      "3175  d536fa360e06  2016.0  Volvo  v60-cross-country  V60 Cross Country   \n",
      "3176  e7c3c195b6d9  2016.0  Volvo  v60-cross-country  V60 Cross Country   \n",
      "3177  fd5c74a2784e  2013.0  Volvo                s60                S60   \n",
      "\n",
      "                                             trim2               make_model  \n",
      "0         2.0T quattro Premium W/ Cold Weather Pkg                  Audi-a4  \n",
      "1                                     2.0T Premium                  Audi-a4  \n",
      "2                             2.0T quattro Premium             Audi-allroad  \n",
      "3                        2.0T quattro Premium Plus                  Audi-a4  \n",
      "4                             3.0T quattro Premium                  Audi-q7  \n",
      "5                             2.0T quattro Premium                  Audi-q5  \n",
      "6                             2.0T quattro Premium                  Audi-a5  \n",
      "7                        2.0T quattro Premium Plus                  Audi-a5  \n",
      "8     3.0T quattro Premium Plus W/  Technology Pkg                  Audi-q7  \n",
      "9                     3.0T quattro S line Prestige                  Audi-q7  \n",
      "10                            2.0T quattro Premium                  Audi-a3  \n",
      "11                           3.0T quattro Prestige                  Audi-a6  \n",
      "12                                    3.0T quattro                Audi-a8-l  \n",
      "13                       3.0T quattro Premium Plus                  Audi-s5  \n",
      "14                                    2.0T Premium                  Audi-a4  \n",
      "15                   2.5 quattro w/ Technology Pkg               Audi-tt-rs  \n",
      "16                       2.0T quattro Premium Plus                  Audi-a5  \n",
      "17                                    2.0T quattro                 Audi-tts  \n",
      "18                       2.0T quattro Premium Plus                  Audi-a6  \n",
      "19                       3.0T quattro Premium Plus                  Audi-a7  \n",
      "20                                    2.0T quattro                  Audi-tt  \n",
      "21                       2.0T quattro Premium Plus                  Audi-a5  \n",
      "22                            2.0T quattro Premium                  Audi-a4  \n",
      "23                       2.0T quattro Premium Plus                  Audi-a4  \n",
      "24                            2.0T quattro Premium                  Audi-a4  \n",
      "25                       3.0T quattro Premium Plus                  Audi-s4  \n",
      "26                                    2.0T quattro                  Audi-tt  \n",
      "27                    3.0 quattro TDI Premium Plus                  Audi-q7  \n",
      "28                       3.0T quattro Premium Plus                 Audi-sq5  \n",
      "29                       2.0T quattro Premium Plus                  Audi-a4  \n",
      "...                                            ...                      ...  \n",
      "3148                                            T5                Volvo-s60  \n",
      "3149                                    T5 Premier               Volvo-xc70  \n",
      "3150                     T5 Premier W/ Climate Pkg                Volvo-s60  \n",
      "3151                                            T5  Volvo-v60-cross-country  \n",
      "3152                                    T5 Premier                Volvo-s60  \n",
      "3153                                    T5 Premier                Volvo-s60  \n",
      "3154                                           3.2               Volvo-xc60  \n",
      "3155                                            T5                Volvo-s60  \n",
      "3156                            T5 Drive-E Premier               Volvo-xc60  \n",
      "3157                                            T5                Volvo-s60  \n",
      "3158                          T6 R-Design Platinum                Volvo-s60  \n",
      "3159                                            T5                Volvo-s60  \n",
      "3160                                    T5 Premier                Volvo-s60  \n",
      "3161                                  3.2 Platinum               Volvo-xc90  \n",
      "3162                                   3.2 Premier               Volvo-xc60  \n",
      "3163                                            T5                Volvo-s60  \n",
      "3164                                            T5                Volvo-s60  \n",
      "3165                                            T5                Volvo-s60  \n",
      "3166                                    T5 Premier                Volvo-s60  \n",
      "3167                                           3.2               Volvo-xc60  \n",
      "3168                                           3.2               Volvo-xc60  \n",
      "3169                            T5 Drive-E Premier                Volvo-s60  \n",
      "3170                                            T5                Volvo-s60  \n",
      "3171                                  3.2 Platinum               Volvo-xc60  \n",
      "3172                                            T6               Volvo-xc60  \n",
      "3173                                            T5                Volvo-s60  \n",
      "3174                                           3.2               Volvo-xc90  \n",
      "3175                                            T5  Volvo-v60-cross-country  \n",
      "3176                                            T5  Volvo-v60-cross-country  \n",
      "3177                                            T5                Volvo-s60  \n",
      "\n",
      "[3178 rows x 7 columns]\n"
     ]
    }
   ],
   "source": [
    "selected_metadata_df = pd.DataFrame(columns=df.columns)\n",
    "i=0\n",
    "for seleceted_car in seleceted_cars:\n",
    "    tmp = df[df[\"make\"] == seleceted_car]\n",
    "    selected_metadata_df = pd.concat([selected_metadata_df,tmp])\n",
    "    \n",
    "selected_metadata_df.reset_index(inplace=True,drop=True)\n",
    "print(selected_metadata_df)\n",
    "selected_metadata_df.to_csv('selected_metadata.csv')"
   ]
  }
 ],
 "metadata": {
  "kernelspec": {
   "display_name": "Python 3",
   "language": "python",
   "name": "python3"
  },
  "language_info": {
   "codemirror_mode": {
    "name": "ipython",
    "version": 3
   },
   "file_extension": ".py",
   "mimetype": "text/x-python",
   "name": "python",
   "nbconvert_exporter": "python",
   "pygments_lexer": "ipython3",
   "version": "3.7.3"
  }
 },
 "nbformat": 4,
 "nbformat_minor": 2
}
