{
 "cells": [
  {
   "cell_type": "markdown",
   "metadata": {},
   "source": [
    "## データ拡張を行う特徴抽出\n",
    "\n"
   ]
  },
  {
   "cell_type": "code",
   "execution_count": 1,
   "metadata": {},
   "outputs": [
    {
     "name": "stderr",
     "output_type": "stream",
     "text": [
      "Using TensorFlow backend.\n"
     ]
    }
   ],
   "source": [
    "from keras.applications import VGG16\n",
    "from keras.layers import Dense, GlobalAveragePooling2D,Input\n",
    "import os.path,sys\n",
    "from keras.models import Model\n",
    "from keras.applications.vgg16 import VGG16\n",
    "from keras.preprocessing.image import ImageDataGenerator\n",
    "import keras.callbacks\n",
    "from keras.applications import VGG16\n",
    "from keras.optimizers import Adam\n",
    "import os\n",
    "import numpy as np\n",
    "import pandas as pd\n",
    "import matplotlib.pyplot as plt\n",
    "%matplotlib inline\n",
    "import codecs\n",
    "import pickle, json\n",
    "\n",
    "N_CATEGORIES  = 20\n",
    "IMAGE_SIZE = 256\n",
    "BATCH_SIZE = 16\n",
    "\n",
    "mini_metadata = pd.read_csv('mini_metadata.csv',index_col=0)\n",
    "classes = list(mini_metadata[\"make_model\"].value_counts().index)\n",
    "classes = sorted(classes)\n",
    "classes_num = len(mini_metadata.groupby(\"make_model\"))\n",
    "\n",
    "base_dir = 'mini_pictures'\n",
    "\n",
    "train_dir = os.path.join(base_dir,'train')\n",
    "valid_dir = os.path.join(base_dir,'valid')\n",
    "test_dir = os.path.join(base_dir,'test')"
   ]
  },
  {
   "cell_type": "code",
   "execution_count": 2,
   "metadata": {},
   "outputs": [
    {
     "name": "stdout",
     "output_type": "stream",
     "text": [
      "1912 657\n"
     ]
    }
   ],
   "source": [
    "from keras import models\n",
    "from keras import layers\n",
    "from keras.layers import Dense, GlobalAveragePooling2D,Input\n",
    "\n",
    "\n",
    "pictures_files = os.listdir(train_dir)\n",
    "NUM_TRAINING = 0\n",
    "NUM_VALIDATION = 0\n",
    "for i in range(classes_num):\n",
    "    NUM_TRAINING += len(os.listdir(os.path.join(train_dir, pictures_files[i])))\n",
    "    NUM_VALIDATION += len(os.listdir(os.path.join(valid_dir, pictures_files[i])))\n",
    "print(NUM_TRAINING,NUM_VALIDATION)"
   ]
  },
  {
   "cell_type": "markdown",
   "metadata": {},
   "source": [
    "## 転移学習をしたモデルを読み込む"
   ]
  },
  {
   "cell_type": "code",
   "execution_count": 3,
   "metadata": {},
   "outputs": [
    {
     "name": "stdout",
     "output_type": "stream",
     "text": [
      "Model: \"model_4\"\n",
      "_________________________________________________________________\n",
      "Layer (type)                 Output Shape              Param #   \n",
      "=================================================================\n",
      "input_4 (InputLayer)         (None, 256, 256, 3)       0         \n",
      "_________________________________________________________________\n",
      "block1_conv1 (Conv2D)        (None, 256, 256, 64)      1792      \n",
      "_________________________________________________________________\n",
      "block1_conv2 (Conv2D)        (None, 256, 256, 64)      36928     \n",
      "_________________________________________________________________\n",
      "block1_pool (MaxPooling2D)   (None, 128, 128, 64)      0         \n",
      "_________________________________________________________________\n",
      "block2_conv1 (Conv2D)        (None, 128, 128, 128)     73856     \n",
      "_________________________________________________________________\n",
      "block2_conv2 (Conv2D)        (None, 128, 128, 128)     147584    \n",
      "_________________________________________________________________\n",
      "block2_pool (MaxPooling2D)   (None, 64, 64, 128)       0         \n",
      "_________________________________________________________________\n",
      "block3_conv1 (Conv2D)        (None, 64, 64, 256)       295168    \n",
      "_________________________________________________________________\n",
      "block3_conv2 (Conv2D)        (None, 64, 64, 256)       590080    \n",
      "_________________________________________________________________\n",
      "block3_conv3 (Conv2D)        (None, 64, 64, 256)       590080    \n",
      "_________________________________________________________________\n",
      "block3_pool (MaxPooling2D)   (None, 32, 32, 256)       0         \n",
      "_________________________________________________________________\n",
      "block4_conv1 (Conv2D)        (None, 32, 32, 512)       1180160   \n",
      "_________________________________________________________________\n",
      "block4_conv2 (Conv2D)        (None, 32, 32, 512)       2359808   \n",
      "_________________________________________________________________\n",
      "block4_conv3 (Conv2D)        (None, 32, 32, 512)       2359808   \n",
      "_________________________________________________________________\n",
      "block4_pool (MaxPooling2D)   (None, 16, 16, 512)       0         \n",
      "_________________________________________________________________\n",
      "block5_conv1 (Conv2D)        (None, 16, 16, 512)       2359808   \n",
      "_________________________________________________________________\n",
      "block5_conv2 (Conv2D)        (None, 16, 16, 512)       2359808   \n",
      "_________________________________________________________________\n",
      "block5_conv3 (Conv2D)        (None, 16, 16, 512)       2359808   \n",
      "_________________________________________________________________\n",
      "block5_pool (MaxPooling2D)   (None, 8, 8, 512)         0         \n",
      "_________________________________________________________________\n",
      "global_average_pooling2d_5 ( (None, 512)               0         \n",
      "_________________________________________________________________\n",
      "dense_8 (Dense)              (None, 1024)              525312    \n",
      "_________________________________________________________________\n",
      "dense_9 (Dense)              (None, 20)                20500     \n",
      "=================================================================\n",
      "Total params: 15,260,500\n",
      "Trainable params: 545,812\n",
      "Non-trainable params: 14,714,688\n",
      "_________________________________________________________________\n"
     ]
    }
   ],
   "source": [
    "model = models.load_model('models/VGG16_mini_3.h5')\n",
    "model.summary()"
   ]
  },
  {
   "cell_type": "code",
   "execution_count": 4,
   "metadata": {},
   "outputs": [
    {
     "data": {
      "image/png": "[encoded data removed]",
      "text/plain": [
       "<Figure size 432x288 with 1 Axes>"
      ]
     },
     "metadata": {
      "needs_background": "light"
     },
     "output_type": "display_data"
    },
    {
     "data": {
      "image/png": "[encoded data removed]",
      "text/plain": [
       "<Figure size 432x288 with 1 Axes>"
      ]
     },
     "metadata": {
      "needs_background": "light"
     },
     "output_type": "display_data"
    }
   ],
   "source": [
    "f = open('histories/history_VGG16_mini_3.json', 'r')\n",
    "history = json.load(f)\n",
    "f.close()\n",
    "\n",
    "acc = history['accuracy']\n",
    "val_acc = history['val_accuracy']\n",
    "loss = history['loss']\n",
    "val_loss = history['val_loss']\n",
    "\n",
    "epochs = range(len(acc))\n",
    "\n",
    "#正解率をプロット\n",
    "plt.plot(epochs, acc, 'bo', label='Training acc')\n",
    "plt.plot(epochs, val_acc, 'b', label='Validation acc')\n",
    "plt.title('Training and validation accuracy')\n",
    "plt.legend()\n",
    "\n",
    "plt.figure()\n",
    "\n",
    "#損失値をプロット\n",
    "plt.plot(epochs, loss, 'bo', label='Training loss')\n",
    "plt.plot(epochs, val_loss, 'b', label='Validatin loss')\n",
    "plt.title('Training and validation loss')\n",
    "plt.legend()\n",
    "\n",
    "plt.show()"
   ]
  },
  {
   "cell_type": "markdown",
   "metadata": {},
   "source": [
    "## ファインチューニング\n",
    "\n",
    "特徴抽出に用いられる凍結されたたたみ込みベースの出力層をいくつか解凍し、モデルの新しく追加された部分と、解凍した層の両方で訓練を行う\n",
    "\n",
    "* 訓練済みベースネットワークの最後にカスタムネットワークを追加する\n",
    "* ベースネットワークを凍結する\n",
    "* 追加した部分の訓練を行う\n",
    "* ベースネットワークの一部を解凍する\n",
    "* 凍結した層と追加した部分の訓練を同時に行う\n",
    "\n",
    "上で３つ目までが終わっているので、４の、たたみ込みベース(conv_base)を解凍し、その中に含まれる層を個別に凍結する"
   ]
  },
  {
   "cell_type": "markdown",
   "metadata": {},
   "source": [
    "### ファインチューニングを行うのは後半の層が多い。もしくは、前半の学習率は小さくし、後半の学習率を高くする場合が多い\n",
    "今回はblock4_poolまでの層は全て凍結される。\n",
    "\n",
    "block5_conv1,block5_conv2,block5_conv3の３つの層が訓練可能になる"
   ]
  },
  {
   "cell_type": "markdown",
   "metadata": {},
   "source": [
    "## ベースネットワークの一部を解凍する  \n",
    "解凍前の状態を確認"
   ]
  },
  {
   "cell_type": "code",
   "execution_count": 5,
   "metadata": {},
   "outputs": [
    {
     "name": "stdout",
     "output_type": "stream",
     "text": [
      "Model: \"model_4\"\n",
      "_________________________________________________________________\n",
      "Layer (type)                 Output Shape              Param #   \n",
      "=================================================================\n",
      "input_4 (InputLayer)         (None, 256, 256, 3)       0         \n",
      "_________________________________________________________________\n",
      "block1_conv1 (Conv2D)        (None, 256, 256, 64)      1792      \n",
      "_________________________________________________________________\n",
      "block1_conv2 (Conv2D)        (None, 256, 256, 64)      36928     \n",
      "_________________________________________________________________\n",
      "block1_pool (MaxPooling2D)   (None, 128, 128, 64)      0         \n",
      "_________________________________________________________________\n",
      "block2_conv1 (Conv2D)        (None, 128, 128, 128)     73856     \n",
      "_________________________________________________________________\n",
      "block2_conv2 (Conv2D)        (None, 128, 128, 128)     147584    \n",
      "_________________________________________________________________\n",
      "block2_pool (MaxPooling2D)   (None, 64, 64, 128)       0         \n",
      "_________________________________________________________________\n",
      "block3_conv1 (Conv2D)        (None, 64, 64, 256)       295168    \n",
      "_________________________________________________________________\n",
      "block3_conv2 (Conv2D)        (None, 64, 64, 256)       590080    \n",
      "_________________________________________________________________\n",
      "block3_conv3 (Conv2D)        (None, 64, 64, 256)       590080    \n",
      "_________________________________________________________________\n",
      "block3_pool (MaxPooling2D)   (None, 32, 32, 256)       0         \n",
      "_________________________________________________________________\n",
      "block4_conv1 (Conv2D)        (None, 32, 32, 512)       1180160   \n",
      "_________________________________________________________________\n",
      "block4_conv2 (Conv2D)        (None, 32, 32, 512)       2359808   \n",
      "_________________________________________________________________\n",
      "block4_conv3 (Conv2D)        (None, 32, 32, 512)       2359808   \n",
      "_________________________________________________________________\n",
      "block4_pool (MaxPooling2D)   (None, 16, 16, 512)       0         \n",
      "_________________________________________________________________\n",
      "block5_conv1 (Conv2D)        (None, 16, 16, 512)       2359808   \n",
      "_________________________________________________________________\n",
      "block5_conv2 (Conv2D)        (None, 16, 16, 512)       2359808   \n",
      "_________________________________________________________________\n",
      "block5_conv3 (Conv2D)        (None, 16, 16, 512)       2359808   \n",
      "_________________________________________________________________\n",
      "block5_pool (MaxPooling2D)   (None, 8, 8, 512)         0         \n",
      "_________________________________________________________________\n",
      "global_average_pooling2d_5 ( (None, 512)               0         \n",
      "_________________________________________________________________\n",
      "dense_8 (Dense)              (None, 1024)              525312    \n",
      "_________________________________________________________________\n",
      "dense_9 (Dense)              (None, 20)                20500     \n",
      "=================================================================\n",
      "Total params: 15,260,500\n",
      "Trainable params: 545,812\n",
      "Non-trainable params: 14,714,688\n",
      "_________________________________________________________________\n"
     ]
    }
   ],
   "source": [
    "model.summary()"
   ]
  },
  {
   "cell_type": "code",
   "execution_count": 6,
   "metadata": {},
   "outputs": [],
   "source": [
    "model.trainable = True\n",
    "\n",
    "set_trainable = False\n",
    "for layer in model.layers:\n",
    "    if layer.name == 'block5_conv1':\n",
    "        set_trainable = True\n",
    "    if set_trainable:\n",
    "        layer.trainable = True\n",
    "    else:\n",
    "        layer.trainable = False     \n",
    "\n",
    "#コンパイルをしないとsummaryをしても反映されないので注意\n",
    "model.compile(optimizer=Adam(lr=1e-5),#学習率が低いのはファインチューニングを行う３つの層の変更を制限するため\n",
    "             loss='categorical_crossentropy',\n",
    "             metrics=['acc'])"
   ]
  },
  {
   "cell_type": "markdown",
   "metadata": {},
   "source": [
    "解凍後の状態を確認"
   ]
  },
  {
   "cell_type": "code",
   "execution_count": 7,
   "metadata": {},
   "outputs": [
    {
     "name": "stdout",
     "output_type": "stream",
     "text": [
      "Model: \"model_4\"\n",
      "_________________________________________________________________\n",
      "Layer (type)                 Output Shape              Param #   \n",
      "=================================================================\n",
      "input_4 (InputLayer)         (None, 256, 256, 3)       0         \n",
      "_________________________________________________________________\n",
      "block1_conv1 (Conv2D)        (None, 256, 256, 64)      1792      \n",
      "_________________________________________________________________\n",
      "block1_conv2 (Conv2D)        (None, 256, 256, 64)      36928     \n",
      "_________________________________________________________________\n",
      "block1_pool (MaxPooling2D)   (None, 128, 128, 64)      0         \n",
      "_________________________________________________________________\n",
      "block2_conv1 (Conv2D)        (None, 128, 128, 128)     73856     \n",
      "_________________________________________________________________\n",
      "block2_conv2 (Conv2D)        (None, 128, 128, 128)     147584    \n",
      "_________________________________________________________________\n",
      "block2_pool (MaxPooling2D)   (None, 64, 64, 128)       0         \n",
      "_________________________________________________________________\n",
      "block3_conv1 (Conv2D)        (None, 64, 64, 256)       295168    \n",
      "_________________________________________________________________\n",
      "block3_conv2 (Conv2D)        (None, 64, 64, 256)       590080    \n",
      "_________________________________________________________________\n",
      "block3_conv3 (Conv2D)        (None, 64, 64, 256)       590080    \n",
      "_________________________________________________________________\n",
      "block3_pool (MaxPooling2D)   (None, 32, 32, 256)       0         \n",
      "_________________________________________________________________\n",
      "block4_conv1 (Conv2D)        (None, 32, 32, 512)       1180160   \n",
      "_________________________________________________________________\n",
      "block4_conv2 (Conv2D)        (None, 32, 32, 512)       2359808   \n",
      "_________________________________________________________________\n",
      "block4_conv3 (Conv2D)        (None, 32, 32, 512)       2359808   \n",
      "_________________________________________________________________\n",
      "block4_pool (MaxPooling2D)   (None, 16, 16, 512)       0         \n",
      "_________________________________________________________________\n",
      "block5_conv1 (Conv2D)        (None, 16, 16, 512)       2359808   \n",
      "_________________________________________________________________\n",
      "block5_conv2 (Conv2D)        (None, 16, 16, 512)       2359808   \n",
      "_________________________________________________________________\n",
      "block5_conv3 (Conv2D)        (None, 16, 16, 512)       2359808   \n",
      "_________________________________________________________________\n",
      "block5_pool (MaxPooling2D)   (None, 8, 8, 512)         0         \n",
      "_________________________________________________________________\n",
      "global_average_pooling2d_5 ( (None, 512)               0         \n",
      "_________________________________________________________________\n",
      "dense_8 (Dense)              (None, 1024)              525312    \n",
      "_________________________________________________________________\n",
      "dense_9 (Dense)              (None, 20)                20500     \n",
      "=================================================================\n",
      "Total params: 15,260,500\n",
      "Trainable params: 7,625,236\n",
      "Non-trainable params: 7,635,264\n",
      "_________________________________________________________________\n"
     ]
    }
   ],
   "source": [
    "model.summary()"
   ]
  },
  {
   "cell_type": "markdown",
   "metadata": {},
   "source": [
    "## 凍結した層と追加した部分の訓練を同時に行う"
   ]
  },
  {
   "cell_type": "code",
   "execution_count": 8,
   "metadata": {},
   "outputs": [
    {
     "name": "stdout",
     "output_type": "stream",
     "text": [
      "Found 1912 images belonging to 20 classes.\n",
      "Found 657 images belonging to 20 classes.\n",
      "Epoch 1/30\n",
      "119/119 [==============================] - 1307s 11s/step - loss: 0.0266 - acc: 0.9921 - val_loss: 0.0077 - val_acc: 0.9695\n",
      "Epoch 2/30\n",
      "119/119 [==============================] - 1350s 11s/step - loss: 0.0031 - acc: 0.9995 - val_loss: 0.0028 - val_acc: 0.9750\n",
      "Epoch 3/30\n",
      "119/119 [==============================] - 1236s 10s/step - loss: 7.4486e-04 - acc: 1.0000 - val_loss: 0.0330 - val_acc: 0.9782\n",
      "Epoch 4/30\n",
      "119/119 [==============================] - 1108s 9s/step - loss: 5.0396e-04 - acc: 1.0000 - val_loss: 0.0660 - val_acc: 0.9782\n",
      "Epoch 5/30\n",
      "119/119 [==============================] - 1116s 9s/step - loss: 3.9771e-04 - acc: 1.0000 - val_loss: 0.0093 - val_acc: 0.9782\n",
      "Epoch 6/30\n",
      "119/119 [==============================] - 1114s 9s/step - loss: 3.3127e-04 - acc: 1.0000 - val_loss: 0.0055 - val_acc: 0.9782\n",
      "Epoch 7/30\n",
      "119/119 [==============================] - 1118s 9s/step - loss: 2.9977e-04 - acc: 1.0000 - val_loss: 8.1807e-04 - val_acc: 0.9813\n",
      "Epoch 8/30\n",
      "119/119 [==============================] - 1112s 9s/step - loss: 2.4113e-04 - acc: 1.0000 - val_loss: 0.0031 - val_acc: 0.9813\n",
      "Epoch 9/30\n",
      "119/119 [==============================] - 1120s 9s/step - loss: 2.2197e-04 - acc: 1.0000 - val_loss: 0.0939 - val_acc: 0.9813\n",
      "Epoch 10/30\n",
      "119/119 [==============================] - 1126s 9s/step - loss: 1.8600e-04 - acc: 1.0000 - val_loss: 0.0041 - val_acc: 0.9844\n",
      "Epoch 11/30\n",
      "119/119 [==============================] - 1126s 9s/step - loss: 1.7118e-04 - acc: 1.0000 - val_loss: 0.0068 - val_acc: 0.9813\n",
      "Epoch 12/30\n",
      "119/119 [==============================] - 1134s 10s/step - loss: 1.4664e-04 - acc: 1.0000 - val_loss: 0.0320 - val_acc: 0.9797\n",
      "Epoch 13/30\n",
      "119/119 [==============================] - 1117s 9s/step - loss: 1.3264e-04 - acc: 1.0000 - val_loss: 0.0052 - val_acc: 0.9875\n",
      "Epoch 14/30\n",
      "119/119 [==============================] - 1128s 9s/step - loss: 1.1870e-04 - acc: 1.0000 - val_loss: 0.0050 - val_acc: 0.9797\n",
      "Epoch 15/30\n",
      "119/119 [==============================] - 1121s 9s/step - loss: 1.0617e-04 - acc: 1.0000 - val_loss: 0.0098 - val_acc: 0.9844\n",
      "Epoch 16/30\n",
      "119/119 [==============================] - 1117s 9s/step - loss: 9.9114e-05 - acc: 1.0000 - val_loss: 3.5869e-04 - val_acc: 0.9844\n",
      "Epoch 17/30\n",
      "119/119 [==============================] - 1123s 9s/step - loss: 8.9280e-05 - acc: 1.0000 - val_loss: 0.0088 - val_acc: 0.9813\n",
      "Epoch 18/30\n",
      "119/119 [==============================] - 1124s 9s/step - loss: 7.9081e-05 - acc: 1.0000 - val_loss: 0.0100 - val_acc: 0.9860\n",
      "Epoch 19/30\n",
      "119/119 [==============================] - 1119s 9s/step - loss: 7.5890e-05 - acc: 1.0000 - val_loss: 0.3080 - val_acc: 0.9891\n",
      "Epoch 20/30\n",
      "119/119 [==============================] - 1120s 9s/step - loss: 6.4876e-05 - acc: 1.0000 - val_loss: 7.9760e-04 - val_acc: 0.9860\n",
      "Epoch 21/30\n",
      "119/119 [==============================] - 1124s 9s/step - loss: 5.8975e-05 - acc: 1.0000 - val_loss: 0.4499 - val_acc: 0.9813\n",
      "Epoch 22/30\n",
      "119/119 [==============================] - 1125s 9s/step - loss: 5.7785e-05 - acc: 1.0000 - val_loss: 7.5791e-04 - val_acc: 0.9844\n",
      "Epoch 23/30\n",
      "119/119 [==============================] - 1122s 9s/step - loss: 5.0050e-05 - acc: 1.0000 - val_loss: 0.3429 - val_acc: 0.9891\n",
      "Epoch 24/30\n",
      "119/119 [==============================] - 1144s 10s/step - loss: 4.7067e-05 - acc: 1.0000 - val_loss: 0.0416 - val_acc: 0.9860\n",
      "Epoch 25/30\n",
      "119/119 [==============================] - 1148s 10s/step - loss: 4.4019e-05 - acc: 1.0000 - val_loss: 0.0016 - val_acc: 0.9828\n",
      "Epoch 26/30\n",
      "119/119 [==============================] - 1138s 10s/step - loss: 3.9416e-05 - acc: 1.0000 - val_loss: 0.3357 - val_acc: 0.9906\n",
      "Epoch 27/30\n",
      "119/119 [==============================] - 1144s 10s/step - loss: 3.5473e-05 - acc: 1.0000 - val_loss: 0.0392 - val_acc: 0.9813\n",
      "Epoch 28/30\n",
      "119/119 [==============================] - 1132s 10s/step - loss: 3.2454e-05 - acc: 1.0000 - val_loss: 2.2928e-04 - val_acc: 0.9875\n",
      "Epoch 29/30\n",
      "119/119 [==============================] - 1134s 10s/step - loss: 3.2615e-05 - acc: 1.0000 - val_loss: 0.0028 - val_acc: 0.9891\n",
      "Epoch 30/30\n",
      "119/119 [==============================] - 1135s 10s/step - loss: 2.7884e-05 - acc: 1.0000 - val_loss: 5.7442e-04 - val_acc: 0.9828\n"
     ]
    }
   ],
   "source": [
    "from keras.preprocessing.image import ImageDataGenerator\n",
    "\n",
    "train_datagen = ImageDataGenerator(\n",
    "    rescale=1./255,\n",
    ")\n",
    "\n",
    "# 検証データは水増しするべきで無いことに注意\n",
    "test_datagen = ImageDataGenerator(rescale=1./255)\n",
    "\n",
    "train_generator = train_datagen.flow_from_directory(\n",
    "    train_dir,               #ターゲットディレクトリ\n",
    "    target_size=(IMAGE_SIZE,IMAGE_SIZE),   #全ての画像を256*256に変換\n",
    "    batch_size=BATCH_SIZE,           #バッチサイズ\n",
    "    class_mode='categorical',#損失関数としてcategorical_crossentropyを使用するため,\n",
    "    classes=classes          #他クラスラベルが必要\n",
    "    )\n",
    "\n",
    "validation_generator = test_datagen.flow_from_directory(\n",
    "    valid_dir,               #ターゲットディレクトリ\n",
    "    target_size=(IMAGE_SIZE,IMAGE_SIZE),   #全ての画像を256*256に変換\n",
    "    batch_size=BATCH_SIZE,           #バッチサイズ\n",
    "    class_mode='categorical',#損失関数としてcategorical_crossentropyを使用するため,\n",
    "    classes=classes          #他クラスラベルが必要\n",
    "    )\n",
    "\n",
    "history = model.fit_generator(train_generator,\n",
    "                             steps_per_epoch=NUM_TRAINING//BATCH_SIZE,\n",
    "                             epochs=30,\n",
    "                             validation_data=validation_generator,\n",
    "                             validation_steps=NUM_VALIDATION//BATCH_SIZE)\n"
   ]
  },
  {
   "cell_type": "code",
   "execution_count": 9,
   "metadata": {},
   "outputs": [],
   "source": [
    "with open('histories/history_VGG16_mini_extended_fine12.pkl', 'wb') as f:\n",
    "    pickle.dump(history.history, f)\n",
    "    \n",
    "model.save('models/VGG16_mini_extended_fine12.h5')"
   ]
  },
  {
   "cell_type": "code",
   "execution_count": 10,
   "metadata": {},
   "outputs": [
    {
     "data": {
      "image/png": "[encoded data removed]",
      "text/plain": [
       "<Figure size 432x288 with 1 Axes>"
      ]
     },
     "metadata": {
      "needs_background": "light"
     },
     "output_type": "display_data"
    },
    {
     "data": {
      "image/png": "[encoded data removed]",
      "text/plain": [
       "<Figure size 432x288 with 1 Axes>"
      ]
     },
     "metadata": {
      "needs_background": "light"
     },
     "output_type": "display_data"
    }
   ],
   "source": [
    "%matplotlib inline\n",
    "f = codecs.open('histories/history_VGG16_mini_extended_fine12.pkl', 'r','utf-8', 'ignore')\n",
    "history = pickle.load(f)\n",
    "f.close()\n",
    "\n",
    "acc = history['acc']\n",
    "val_acc = history['val_acc']\n",
    "loss = history['loss']\n",
    "val_loss = history['val_loss']\n",
    "\n",
    "epochs = range(1,len(acc)+1)\n",
    "\n",
    "#正解率をプロット\n",
    "plt.plot(epochs, acc, 'bo', label='Training acc')\n",
    "plt.plot(epochs, val_acc, 'b', label='Validation acc')\n",
    "plt.title('Training and validation accuracy')\n",
    "\n",
    "plt.figure()\n",
    "\n",
    "#損失値をプロット\n",
    "plt.plot(epochs, loss, 'bo', label='Training loss')\n",
    "plt.plot(epochs, val_loss, 'b', label='Validatin loss')\n",
    "plt.title('Training and validation loss')\n",
    "plt.legend()\n",
    "\n",
    "plt.show()"
   ]
  },
  {
   "cell_type": "markdown",
   "metadata": {},
   "source": [
    "## 追加のファインチューニング  \n",
    "先ほどはblock5までだったが、さらにblock4までを追加でチューニングをする  "
   ]
  },
  {
   "cell_type": "code",
   "execution_count": 3,
   "metadata": {},
   "outputs": [
    {
     "name": "stdout",
     "output_type": "stream",
     "text": [
      "Model: \"model_4\"\n",
      "_________________________________________________________________\n",
      "Layer (type)                 Output Shape              Param #   \n",
      "=================================================================\n",
      "input_4 (InputLayer)         (None, 256, 256, 3)       0         \n",
      "_________________________________________________________________\n",
      "block1_conv1 (Conv2D)        (None, 256, 256, 64)      1792      \n",
      "_________________________________________________________________\n",
      "block1_conv2 (Conv2D)        (None, 256, 256, 64)      36928     \n",
      "_________________________________________________________________\n",
      "block1_pool (MaxPooling2D)   (None, 128, 128, 64)      0         \n",
      "_________________________________________________________________\n",
      "block2_conv1 (Conv2D)        (None, 128, 128, 128)     73856     \n",
      "_________________________________________________________________\n",
      "block2_conv2 (Conv2D)        (None, 128, 128, 128)     147584    \n",
      "_________________________________________________________________\n",
      "block2_pool (MaxPooling2D)   (None, 64, 64, 128)       0         \n",
      "_________________________________________________________________\n",
      "block3_conv1 (Conv2D)        (None, 64, 64, 256)       295168    \n",
      "_________________________________________________________________\n",
      "block3_conv2 (Conv2D)        (None, 64, 64, 256)       590080    \n",
      "_________________________________________________________________\n",
      "block3_conv3 (Conv2D)        (None, 64, 64, 256)       590080    \n",
      "_________________________________________________________________\n",
      "block3_pool (MaxPooling2D)   (None, 32, 32, 256)       0         \n",
      "_________________________________________________________________\n",
      "block4_conv1 (Conv2D)        (None, 32, 32, 512)       1180160   \n",
      "_________________________________________________________________\n",
      "block4_conv2 (Conv2D)        (None, 32, 32, 512)       2359808   \n",
      "_________________________________________________________________\n",
      "block4_conv3 (Conv2D)        (None, 32, 32, 512)       2359808   \n",
      "_________________________________________________________________\n",
      "block4_pool (MaxPooling2D)   (None, 16, 16, 512)       0         \n",
      "_________________________________________________________________\n",
      "block5_conv1 (Conv2D)        (None, 16, 16, 512)       2359808   \n",
      "_________________________________________________________________\n",
      "block5_conv2 (Conv2D)        (None, 16, 16, 512)       2359808   \n",
      "_________________________________________________________________\n",
      "block5_conv3 (Conv2D)        (None, 16, 16, 512)       2359808   \n",
      "_________________________________________________________________\n",
      "block5_pool (MaxPooling2D)   (None, 8, 8, 512)         0         \n",
      "_________________________________________________________________\n",
      "global_average_pooling2d_5 ( (None, 512)               0         \n",
      "_________________________________________________________________\n",
      "dense_8 (Dense)              (None, 1024)              525312    \n",
      "_________________________________________________________________\n",
      "dense_9 (Dense)              (None, 20)                20500     \n",
      "=================================================================\n",
      "Total params: 15,260,500\n",
      "Trainable params: 13,525,012\n",
      "Non-trainable params: 1,735,488\n",
      "_________________________________________________________________\n"
     ]
    }
   ],
   "source": [
    "model = models.load_model('models/VGG16_mini_extended_fine12.h5')\n",
    "model.trainable = True\n",
    "\n",
    "set_trainable = False\n",
    "for layer in model.layers:\n",
    "    if layer.name == 'block4_conv1':\n",
    "        set_trainable = True\n",
    "    if set_trainable:\n",
    "        layer.trainable = True\n",
    "    else:\n",
    "        layer.trainable = False     \n",
    "\n",
    "#コンパイルをしないとsummaryをしても反映されないので注意\n",
    "model.compile(optimizer=Adam(lr=1e-5),#学習率が低いのはファインチューニングを行う３つの層の変更を制限するため\n",
    "             loss='categorical_crossentropy',\n",
    "             metrics=['acc'])\n",
    "model.summary()"
   ]
  },
  {
   "cell_type": "markdown",
   "metadata": {},
   "source": [
    "## 凍結した層と追加した部分の訓練を行う"
   ]
  },
  {
   "cell_type": "code",
   "execution_count": 5,
   "metadata": {},
   "outputs": [
    {
     "name": "stdout",
     "output_type": "stream",
     "text": [
      "Epoch 1/30\n",
      "119/119 [==============================] - 1605s 13s/step - loss: 0.0522 - acc: 0.9831 - val_loss: 0.2468 - val_acc: 0.9573\n",
      "Epoch 2/30\n",
      "119/119 [==============================] - 1573s 13s/step - loss: 0.0042 - acc: 0.9989 - val_loss: 0.0984 - val_acc: 0.9610\n",
      "Epoch 3/30\n",
      "119/119 [==============================] - 1575s 13s/step - loss: 0.0700 - acc: 0.9778 - val_loss: 0.3303 - val_acc: 0.9392\n",
      "Epoch 4/30\n",
      "119/119 [==============================] - 1574s 13s/step - loss: 0.0394 - acc: 0.9884 - val_loss: 0.1346 - val_acc: 0.9719\n",
      "Epoch 5/30\n",
      "119/119 [==============================] - 1584s 13s/step - loss: 0.0014 - acc: 1.0000 - val_loss: 0.0084 - val_acc: 0.9797\n",
      "Epoch 6/30\n",
      "119/119 [==============================] - 1579s 13s/step - loss: 2.4388e-04 - acc: 1.0000 - val_loss: 6.4795e-04 - val_acc: 0.9782\n",
      "Epoch 7/30\n",
      "119/119 [==============================] - 1572s 13s/step - loss: 1.8070e-04 - acc: 1.0000 - val_loss: 0.1365 - val_acc: 0.9828\n",
      "Epoch 8/30\n",
      "119/119 [==============================] - 1583s 13s/step - loss: 1.6212e-04 - acc: 1.0000 - val_loss: 0.0033 - val_acc: 0.9797\n",
      "Epoch 9/30\n",
      "119/119 [==============================] - 1577s 13s/step - loss: 1.2488e-04 - acc: 1.0000 - val_loss: 0.0127 - val_acc: 0.9875\n",
      "Epoch 10/30\n",
      "119/119 [==============================] - 1575s 13s/step - loss: 1.2086e-04 - acc: 1.0000 - val_loss: 0.0026 - val_acc: 0.9750\n",
      "Epoch 11/30\n",
      "119/119 [==============================] - 1575s 13s/step - loss: 9.7504e-05 - acc: 1.0000 - val_loss: 0.0022 - val_acc: 0.9844\n",
      "Epoch 12/30\n",
      "119/119 [==============================] - 1574s 13s/step - loss: 9.3204e-05 - acc: 1.0000 - val_loss: 0.0058 - val_acc: 0.9860\n",
      "Epoch 13/30\n",
      "119/119 [==============================] - 1571s 13s/step - loss: 7.8165e-05 - acc: 1.0000 - val_loss: 8.4018e-04 - val_acc: 0.9844\n",
      "Epoch 14/30\n",
      "119/119 [==============================] - 1570s 13s/step - loss: 7.6972e-05 - acc: 1.0000 - val_loss: 4.5243e-04 - val_acc: 0.9844\n",
      "Epoch 15/30\n",
      "119/119 [==============================] - 1569s 13s/step - loss: 6.6932e-05 - acc: 1.0000 - val_loss: 0.0013 - val_acc: 0.9906\n",
      "Epoch 16/30\n",
      "119/119 [==============================] - 1570s 13s/step - loss: 5.7547e-05 - acc: 1.0000 - val_loss: 3.0041e-04 - val_acc: 0.9906\n",
      "Epoch 17/30\n",
      "119/119 [==============================] - 1577s 13s/step - loss: 5.7136e-05 - acc: 1.0000 - val_loss: 0.0100 - val_acc: 0.9875\n",
      "Epoch 18/30\n",
      "119/119 [==============================] - 1570s 13s/step - loss: 5.1127e-05 - acc: 1.0000 - val_loss: 0.0214 - val_acc: 0.9844\n",
      "Epoch 19/30\n",
      "119/119 [==============================] - 1571s 13s/step - loss: 4.4044e-05 - acc: 1.0000 - val_loss: 8.0984e-04 - val_acc: 0.9860\n",
      "Epoch 20/30\n",
      "119/119 [==============================] - 1578s 13s/step - loss: 4.6160e-05 - acc: 1.0000 - val_loss: 0.0011 - val_acc: 0.9875\n",
      "Epoch 21/30\n",
      "119/119 [==============================] - 1573s 13s/step - loss: 3.8301e-05 - acc: 1.0000 - val_loss: 0.0095 - val_acc: 0.9891\n",
      "Epoch 22/30\n",
      "119/119 [==============================] - 1567s 13s/step - loss: 3.9462e-05 - acc: 1.0000 - val_loss: 2.3443e-04 - val_acc: 0.9891\n",
      "Epoch 23/30\n",
      "119/119 [==============================] - 1574s 13s/step - loss: 3.3426e-05 - acc: 1.0000 - val_loss: 0.0018 - val_acc: 0.9875\n",
      "Epoch 24/30\n",
      "119/119 [==============================] - 1568s 13s/step - loss: 3.3130e-05 - acc: 1.0000 - val_loss: 0.0021 - val_acc: 0.9844\n",
      "Epoch 25/30\n",
      "119/119 [==============================] - 1579s 13s/step - loss: 2.9871e-05 - acc: 1.0000 - val_loss: 0.0795 - val_acc: 0.9938\n",
      "Epoch 26/30\n",
      "119/119 [==============================] - 1572s 13s/step - loss: 2.7740e-05 - acc: 1.0000 - val_loss: 3.4964e-05 - val_acc: 0.9844\n",
      "Epoch 27/30\n",
      "119/119 [==============================] - 1571s 13s/step - loss: 2.6024e-05 - acc: 1.0000 - val_loss: 1.1985e-04 - val_acc: 0.9906\n",
      "Epoch 28/30\n",
      "119/119 [==============================] - 1573s 13s/step - loss: 2.4636e-05 - acc: 1.0000 - val_loss: 6.2452e-04 - val_acc: 0.9875\n",
      "Epoch 29/30\n",
      "119/119 [==============================] - 1576s 13s/step - loss: 2.2758e-05 - acc: 1.0000 - val_loss: 0.0024 - val_acc: 0.9844\n",
      "Epoch 30/30\n",
      "119/119 [==============================] - 1573s 13s/step - loss: 2.0782e-05 - acc: 1.0000 - val_loss: 1.3475e-04 - val_acc: 0.9906\n"
     ]
    }
   ],
   "source": [
    "history = model.fit_generator(train_generator,\n",
    "                             steps_per_epoch=NUM_TRAINING//BATCH_SIZE,\n",
    "                             epochs=30,\n",
    "                             validation_data=validation_generator,\n",
    "                             validation_steps=NUM_VALIDATION//BATCH_SIZE)"
   ]
  },
  {
   "cell_type": "code",
   "execution_count": 6,
   "metadata": {},
   "outputs": [
    {
     "data": {
      "image/png": "[encoded data removed]",
      "text/plain": [
       "<Figure size 432x288 with 1 Axes>"
      ]
     },
     "metadata": {
      "needs_background": "light"
     },
     "output_type": "display_data"
    },
    {
     "data": {
      "image/png": "[encoded data removed]",
      "text/plain": [
       "<Figure size 432x288 with 1 Axes>"
      ]
     },
     "metadata": {
      "needs_background": "light"
     },
     "output_type": "display_data"
    }
   ],
   "source": [
    "with open('histories/history_VGG16_mini_extended_fine13.pkl', 'wb') as f:\n",
    "    pickle.dump(history.history, f)\n",
    "    \n",
    "model.save('models/VGG16_mini_extended_fine13.h5')\n",
    "f = codecs.open('histories/history_VGG16_mini_extended_fine13.pkl', 'r','utf-8', 'ignore')\n",
    "history = pickle.load(f)\n",
    "f.close()\n",
    "\n",
    "acc = history['acc']\n",
    "val_acc = history['val_acc']\n",
    "loss = history['loss']\n",
    "val_loss = history['val_loss']\n",
    "\n",
    "epochs = range(1,len(acc)+1)\n",
    "\n",
    "#正解率をプロット\n",
    "plt.plot(epochs, acc, 'bo', label='Training acc')\n",
    "plt.plot(epochs, val_acc, 'b', label='Validation acc')\n",
    "plt.title('Training and validation accuracy')\n",
    "\n",
    "plt.figure()\n",
    "\n",
    "#損失値をプロット\n",
    "plt.plot(epochs, loss, 'bo', label='Training loss')\n",
    "plt.plot(epochs, val_loss, 'b', label='Validatin loss')\n",
    "plt.title('Training and validation loss')\n",
    "plt.legend()\n",
    "\n",
    "plt.show()"
   ]
  },
  {
   "cell_type": "code",
   "execution_count": null,
   "metadata": {},
   "outputs": [],
   "source": []
  }
 ],
 "metadata": {
  "kernelspec": {
   "display_name": "Python 3",
   "language": "python",
   "name": "python3"
  },
  "language_info": {
   "codemirror_mode": {
    "name": "ipython",
    "version": 3
   },
   "file_extension": ".py",
   "mimetype": "text/x-python",
   "name": "python",
   "nbconvert_exporter": "python",
   "pygments_lexer": "ipython3",
   "version": "3.7.3"
  }
 },
 "nbformat": 4,
 "nbformat_minor": 2
}
