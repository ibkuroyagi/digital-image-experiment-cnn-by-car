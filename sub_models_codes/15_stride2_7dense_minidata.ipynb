{
 "cells": [
  {
   "cell_type": "code",
   "execution_count": 1,
   "metadata": {},
   "outputs": [
    {
     "name": "stdout",
     "output_type": "stream",
     "text": [
      "['Audi-a3', 'Audi-a5', 'Audi-q5', 'BMW-1-series', 'BMW-x5', 'Honda-pilot', 'Lexus-is-250', 'MINI-countryman', 'Mazda-mazda5', 'Mercedes-Benz-gla', 'Mercedes-Benz-m-class', 'Mitsubishi-outlander', 'Nissan-370z', 'Nissan-rogue-select', 'Subaru-forester', 'Subaru-outback', 'Subaru-xv-crosstrek', 'Toyota-prius-plug-in-hybrid', 'Volkswagen-cc', 'Volvo-xc60']\n",
      "20\n",
      "BMW-x5                         13\n",
      "Subaru-forester                12\n",
      "Mercedes-Benz-m-class          12\n",
      "Audi-q5                        11\n",
      "Mercedes-Benz-gla              11\n",
      "Audi-a3                        11\n",
      "Toyota-prius-plug-in-hybrid    11\n",
      "MINI-countryman                11\n",
      "Volkswagen-cc                  11\n",
      "Mazda-mazda5                   11\n",
      "Honda-pilot                    10\n",
      "Nissan-370z                    10\n",
      "Mitsubishi-outlander           10\n",
      "BMW-1-series                    9\n",
      "Audi-a5                         9\n",
      "Nissan-rogue-select             8\n",
      "Subaru-outback                  8\n",
      "Lexus-is-250                    8\n",
      "Volvo-xc60                      7\n",
      "Subaru-xv-crosstrek             6\n",
      "Name: make_model, dtype: int64\n"
     ]
    }
   ],
   "source": [
    "import pandas as pd\n",
    "import os\n",
    "\n",
    "# mac.osで動かすためのおまじない\n",
    "os.environ['KMP_DUPLICATE_LIB_OK']='True'\n",
    "\n",
    "base_dir = \"mini_pictures\"\n",
    "train_dir = os.path.join(base_dir,\"train\")\n",
    "valid_dir = os.path.join(base_dir,\"valid\")\n",
    "test_dir = os.path.join(base_dir,\"test\")\n",
    "mini_metadata = pd.read_csv('mini_metadata.csv',index_col=0)\n",
    "classes = list(mini_metadata[\"make_model\"].value_counts().index)\n",
    "classes = sorted(classes)\n",
    "classes_num = len(mini_metadata.groupby(\"make_model\"))\n",
    "print(classes)\n",
    "print(classes_num)\n",
    "# mini_metadata.groupby(\"make_model\").nunique()\n",
    "print(mini_metadata[\"make_model\"].value_counts())"
   ]
  },
  {
   "cell_type": "code",
   "execution_count": 2,
   "metadata": {},
   "outputs": [
    {
     "name": "stderr",
     "output_type": "stream",
     "text": [
      "Using TensorFlow backend.\n",
      "/Users/tatsuki/opt/anaconda3/lib/python3.7/site-packages/tensorflow/python/framework/dtypes.py:516: FutureWarning: Passing (type, 1) or '1type' as a synonym of type is deprecated; in a future version of numpy, it will be understood as (type, (1,)) / '(1,)type'.\n",
      "  _np_qint8 = np.dtype([(\"qint8\", np.int8, 1)])\n",
      "/Users/tatsuki/opt/anaconda3/lib/python3.7/site-packages/tensorflow/python/framework/dtypes.py:517: FutureWarning: Passing (type, 1) or '1type' as a synonym of type is deprecated; in a future version of numpy, it will be understood as (type, (1,)) / '(1,)type'.\n",
      "  _np_quint8 = np.dtype([(\"quint8\", np.uint8, 1)])\n",
      "/Users/tatsuki/opt/anaconda3/lib/python3.7/site-packages/tensorflow/python/framework/dtypes.py:518: FutureWarning: Passing (type, 1) or '1type' as a synonym of type is deprecated; in a future version of numpy, it will be understood as (type, (1,)) / '(1,)type'.\n",
      "  _np_qint16 = np.dtype([(\"qint16\", np.int16, 1)])\n",
      "/Users/tatsuki/opt/anaconda3/lib/python3.7/site-packages/tensorflow/python/framework/dtypes.py:519: FutureWarning: Passing (type, 1) or '1type' as a synonym of type is deprecated; in a future version of numpy, it will be understood as (type, (1,)) / '(1,)type'.\n",
      "  _np_quint16 = np.dtype([(\"quint16\", np.uint16, 1)])\n",
      "/Users/tatsuki/opt/anaconda3/lib/python3.7/site-packages/tensorflow/python/framework/dtypes.py:520: FutureWarning: Passing (type, 1) or '1type' as a synonym of type is deprecated; in a future version of numpy, it will be understood as (type, (1,)) / '(1,)type'.\n",
      "  _np_qint32 = np.dtype([(\"qint32\", np.int32, 1)])\n",
      "/Users/tatsuki/opt/anaconda3/lib/python3.7/site-packages/tensorflow/python/framework/dtypes.py:525: FutureWarning: Passing (type, 1) or '1type' as a synonym of type is deprecated; in a future version of numpy, it will be understood as (type, (1,)) / '(1,)type'.\n",
      "  np_resource = np.dtype([(\"resource\", np.ubyte, 1)])\n",
      "/Users/tatsuki/opt/anaconda3/lib/python3.7/site-packages/tensorboard/compat/tensorflow_stub/dtypes.py:541: FutureWarning: Passing (type, 1) or '1type' as a synonym of type is deprecated; in a future version of numpy, it will be understood as (type, (1,)) / '(1,)type'.\n",
      "  _np_qint8 = np.dtype([(\"qint8\", np.int8, 1)])\n",
      "/Users/tatsuki/opt/anaconda3/lib/python3.7/site-packages/tensorboard/compat/tensorflow_stub/dtypes.py:542: FutureWarning: Passing (type, 1) or '1type' as a synonym of type is deprecated; in a future version of numpy, it will be understood as (type, (1,)) / '(1,)type'.\n",
      "  _np_quint8 = np.dtype([(\"quint8\", np.uint8, 1)])\n",
      "/Users/tatsuki/opt/anaconda3/lib/python3.7/site-packages/tensorboard/compat/tensorflow_stub/dtypes.py:543: FutureWarning: Passing (type, 1) or '1type' as a synonym of type is deprecated; in a future version of numpy, it will be understood as (type, (1,)) / '(1,)type'.\n",
      "  _np_qint16 = np.dtype([(\"qint16\", np.int16, 1)])\n",
      "/Users/tatsuki/opt/anaconda3/lib/python3.7/site-packages/tensorboard/compat/tensorflow_stub/dtypes.py:544: FutureWarning: Passing (type, 1) or '1type' as a synonym of type is deprecated; in a future version of numpy, it will be understood as (type, (1,)) / '(1,)type'.\n",
      "  _np_quint16 = np.dtype([(\"quint16\", np.uint16, 1)])\n",
      "/Users/tatsuki/opt/anaconda3/lib/python3.7/site-packages/tensorboard/compat/tensorflow_stub/dtypes.py:545: FutureWarning: Passing (type, 1) or '1type' as a synonym of type is deprecated; in a future version of numpy, it will be understood as (type, (1,)) / '(1,)type'.\n",
      "  _np_qint32 = np.dtype([(\"qint32\", np.int32, 1)])\n",
      "/Users/tatsuki/opt/anaconda3/lib/python3.7/site-packages/tensorboard/compat/tensorflow_stub/dtypes.py:550: FutureWarning: Passing (type, 1) or '1type' as a synonym of type is deprecated; in a future version of numpy, it will be understood as (type, (1,)) / '(1,)type'.\n",
      "  np_resource = np.dtype([(\"resource\", np.ubyte, 1)])\n"
     ]
    },
    {
     "name": "stdout",
     "output_type": "stream",
     "text": [
      "WARNING:tensorflow:From /Users/tatsuki/opt/anaconda3/lib/python3.7/site-packages/keras/backend/tensorflow_backend.py:74: The name tf.get_default_graph is deprecated. Please use tf.compat.v1.get_default_graph instead.\n",
      "\n",
      "WARNING:tensorflow:From /Users/tatsuki/opt/anaconda3/lib/python3.7/site-packages/keras/backend/tensorflow_backend.py:517: The name tf.placeholder is deprecated. Please use tf.compat.v1.placeholder instead.\n",
      "\n",
      "WARNING:tensorflow:From /Users/tatsuki/opt/anaconda3/lib/python3.7/site-packages/keras/backend/tensorflow_backend.py:4138: The name tf.random_uniform is deprecated. Please use tf.random.uniform instead.\n",
      "\n",
      "WARNING:tensorflow:From /Users/tatsuki/opt/anaconda3/lib/python3.7/site-packages/keras/backend/tensorflow_backend.py:3976: The name tf.nn.max_pool is deprecated. Please use tf.nn.max_pool2d instead.\n",
      "\n",
      "WARNING:tensorflow:From /Users/tatsuki/opt/anaconda3/lib/python3.7/site-packages/keras/backend/tensorflow_backend.py:133: The name tf.placeholder_with_default is deprecated. Please use tf.compat.v1.placeholder_with_default instead.\n",
      "\n",
      "WARNING:tensorflow:From /Users/tatsuki/opt/anaconda3/lib/python3.7/site-packages/keras/backend/tensorflow_backend.py:3445: calling dropout (from tensorflow.python.ops.nn_ops) with keep_prob is deprecated and will be removed in a future version.\n",
      "Instructions for updating:\n",
      "Please use `rate` instead of `keep_prob`. Rate should be set to `rate = 1 - keep_prob`.\n"
     ]
    }
   ],
   "source": [
    "from keras import layers\n",
    "from keras import models\n",
    "\n",
    "# 特徴を抽出\n",
    "# model.add(layers.Conv2D(フィルターの種類の数, (フィルターの大きさ), activation='活性化関数',\n",
    "#                input_shape=ここの中身はいじらない(縦, 横, 色の数(奥行き))))\n",
    "model_3_1 = models.Sequential()\n",
    "model_3_1.add(layers.Conv2D(32, (3, 3), activation='relu',\n",
    "                       input_shape=(256, 256, 3)))\n",
    "# 過学習を防ぐためMaxPooling2Dで大事そうなやつだけにして情報を減らす\n",
    "model_3_1.add(layers.MaxPooling2D((2, 2)))\n",
    "model_3_1.add(layers.Conv2D(64, (3, 3), activation='relu'))\n",
    "model_3_1.add(layers.MaxPooling2D((2, 2)))\n",
    "model_3_1.add(layers.Conv2D(128, (3, 3), activation='relu'))\n",
    "model_3_1.add(layers.MaxPooling2D((2, 2)))\n",
    "model_3_1.add(layers.Conv2D(128, (3, 3), activation='relu'))\n",
    "\n",
    "model_3_1.add(layers.Conv2D(32, (3, 3),strides=(2, 2),activation='relu'))\n",
    "model_3_1.add(layers.MaxPooling2D((2, 2)))\n",
    "model_3_1.add(layers.Dropout(0.3))\n",
    "# 特徴をもとにどのクラスに分類するのかの識別器\n",
    "model_3_1.add(layers.Flatten())\n",
    "# denseは全結合、情報を圧縮する。最初の引数は圧縮した後の数\n",
    "model_3_1.add(layers.Dense(256, activation='relu'))\n",
    "model_3_1.add(layers.Dense(classes_num, activation='softmax'))"
   ]
  },
  {
   "cell_type": "code",
   "execution_count": 3,
   "metadata": {},
   "outputs": [
    {
     "name": "stdout",
     "output_type": "stream",
     "text": [
      "_________________________________________________________________\n",
      "Layer (type)                 Output Shape              Param #   \n",
      "=================================================================\n",
      "conv2d_1 (Conv2D)            (None, 254, 254, 32)      896       \n",
      "_________________________________________________________________\n",
      "max_pooling2d_1 (MaxPooling2 (None, 127, 127, 32)      0         \n",
      "_________________________________________________________________\n",
      "conv2d_2 (Conv2D)            (None, 125, 125, 64)      18496     \n",
      "_________________________________________________________________\n",
      "max_pooling2d_2 (MaxPooling2 (None, 62, 62, 64)        0         \n",
      "_________________________________________________________________\n",
      "conv2d_3 (Conv2D)            (None, 60, 60, 128)       73856     \n",
      "_________________________________________________________________\n",
      "max_pooling2d_3 (MaxPooling2 (None, 30, 30, 128)       0         \n",
      "_________________________________________________________________\n",
      "conv2d_4 (Conv2D)            (None, 28, 28, 128)       147584    \n",
      "_________________________________________________________________\n",
      "conv2d_5 (Conv2D)            (None, 13, 13, 32)        36896     \n",
      "_________________________________________________________________\n",
      "max_pooling2d_4 (MaxPooling2 (None, 6, 6, 32)          0         \n",
      "_________________________________________________________________\n",
      "dropout_1 (Dropout)          (None, 6, 6, 32)          0         \n",
      "_________________________________________________________________\n",
      "flatten_1 (Flatten)          (None, 1152)              0         \n",
      "_________________________________________________________________\n",
      "dense_1 (Dense)              (None, 256)               295168    \n",
      "_________________________________________________________________\n",
      "dense_2 (Dense)              (None, 20)                5140      \n",
      "=================================================================\n",
      "Total params: 578,036\n",
      "Trainable params: 578,036\n",
      "Non-trainable params: 0\n",
      "_________________________________________________________________\n"
     ]
    }
   ],
   "source": [
    "model_3_1.summary()"
   ]
  },
  {
   "cell_type": "code",
   "execution_count": 4,
   "metadata": {},
   "outputs": [
    {
     "name": "stdout",
     "output_type": "stream",
     "text": [
      "WARNING:tensorflow:From /Users/tatsuki/opt/anaconda3/lib/python3.7/site-packages/keras/optimizers.py:790: The name tf.train.Optimizer is deprecated. Please use tf.compat.v1.train.Optimizer instead.\n",
      "\n",
      "WARNING:tensorflow:From /Users/tatsuki/opt/anaconda3/lib/python3.7/site-packages/keras/backend/tensorflow_backend.py:3295: The name tf.log is deprecated. Please use tf.math.log instead.\n",
      "\n"
     ]
    }
   ],
   "source": [
    "from keras import optimizers\n",
    "\n",
    "# categorical_crossentropy,lr=学習率\n",
    "# entropyは情報の不確かさの尺度で小さいほど、確かっぽい感じがする\n",
    "# entropyを使うことで不確かが数値で計算ができるのがよき\n",
    "# これをめちゃくちゃ小さくできれば多分確からしいからそこを目指したい\n",
    "model_3_1.compile(loss='categorical_crossentropy',\n",
    "             optimizer=optimizers.Adam(lr=1e-4),\n",
    "             metrics=['acc'])"
   ]
  },
  {
   "cell_type": "code",
   "execution_count": 5,
   "metadata": {},
   "outputs": [
    {
     "name": "stdout",
     "output_type": "stream",
     "text": [
      "Found 1917 images belonging to 20 classes.\n",
      "Found 636 images belonging to 20 classes.\n"
     ]
    }
   ],
   "source": [
    "from keras.preprocessing.image import ImageDataGenerator\n",
    "#すべての画像を1/255スケーリング(大きさではなくて光の大きさ)\n",
    "# deeplearningは計算して重みの更新をするから使う数値は小さい方が良い\n",
    "train_datagen = ImageDataGenerator(rescale=1./255)\n",
    "test_datagen = ImageDataGenerator(rescale=1./255)\n",
    "\n",
    "#flow_from_directoryでは、categoricalのラベリングにclassesを参照して、ディレクトリ名から自動的にone-hotエンコードされる\n",
    "# ここは頑張りましょう、flow_from_directoryと検索したり、本読んだり\n",
    "train_generator = train_datagen.flow_from_directory(\n",
    "    train_dir,               #ターゲットディレクトリ\n",
    "    target_size=(256, 256),  #すべての画像サイズを256*256に変換\n",
    "    batch_size=32,           #バッチサイズ\n",
    "    class_mode='categorical',\n",
    "    classes=classes)#categorical_crossentropyを使用するため多クラスラベルが必要\n",
    "\n",
    "validation_generator = test_datagen.flow_from_directory(\n",
    "    valid_dir,               #ヴァリデーションディレクトリ\n",
    "    target_size=(256, 256),  #すべての画像サイズを256*256に変換\n",
    "    batch_size=32,           #バッチサイズ、重りの更新をするときになんかごとに重りを変更するか的な\n",
    "    class_mode='categorical',\n",
    "    classes=classes)#categorical_crossentropyを使用するため多クラスラベルが必要\n",
    "\n",
    "\n",
    "\n",
    "\n"
   ]
  },
  {
   "cell_type": "code",
   "execution_count": 6,
   "metadata": {},
   "outputs": [
    {
     "name": "stdout",
     "output_type": "stream",
     "text": [
      "WARNING:tensorflow:From /Users/tatsuki/opt/anaconda3/lib/python3.7/site-packages/tensorflow/python/ops/math_grad.py:1250: add_dispatch_support.<locals>.wrapper (from tensorflow.python.ops.array_ops) is deprecated and will be removed in a future version.\n",
      "Instructions for updating:\n",
      "Use tf.where in 2.0, which has the same broadcast rule as np.where\n",
      "Epoch 1/30\n",
      "59/59 [==============================] - 191s 3s/step - loss: 2.9936 - acc: 0.0482 - val_loss: 2.9728 - val_acc: 0.1135\n",
      "Epoch 2/30\n",
      "59/59 [==============================] - 182s 3s/step - loss: 2.9829 - acc: 0.0674 - val_loss: 2.9670 - val_acc: 0.0530\n",
      "Epoch 3/30\n",
      "59/59 [==============================] - 179s 3s/step - loss: 2.9689 - acc: 0.0796 - val_loss: 2.9292 - val_acc: 0.1523\n",
      "Epoch 4/30\n",
      "59/59 [==============================] - 180s 3s/step - loss: 2.9186 - acc: 0.1046 - val_loss: 2.8299 - val_acc: 0.1507\n",
      "Epoch 5/30\n",
      "59/59 [==============================] - 179s 3s/step - loss: 2.7892 - acc: 0.1444 - val_loss: 2.6790 - val_acc: 0.1854\n",
      "Epoch 6/30\n",
      "59/59 [==============================] - 178s 3s/step - loss: 2.6359 - acc: 0.1978 - val_loss: 2.5042 - val_acc: 0.2450\n",
      "Epoch 7/30\n",
      "59/59 [==============================] - 180s 3s/step - loss: 2.4354 - acc: 0.2636 - val_loss: 2.3602 - val_acc: 0.2666\n",
      "Epoch 8/30\n",
      "59/59 [==============================] - 179s 3s/step - loss: 2.2164 - acc: 0.3204 - val_loss: 2.0908 - val_acc: 0.3626\n",
      "Epoch 9/30\n",
      "59/59 [==============================] - 177s 3s/step - loss: 2.0322 - acc: 0.3720 - val_loss: 1.9357 - val_acc: 0.4189\n",
      "Epoch 10/30\n",
      "59/59 [==============================] - 177s 3s/step - loss: 1.8488 - acc: 0.4275 - val_loss: 1.7964 - val_acc: 0.4603\n",
      "Epoch 11/30\n",
      "59/59 [==============================] - 177s 3s/step - loss: 1.6613 - acc: 0.4766 - val_loss: 1.6288 - val_acc: 0.5050\n",
      "Epoch 12/30\n",
      "59/59 [==============================] - 177s 3s/step - loss: 1.5415 - acc: 0.5122 - val_loss: 1.5434 - val_acc: 0.5066\n",
      "Epoch 13/30\n",
      "59/59 [==============================] - 178s 3s/step - loss: 1.4092 - acc: 0.5524 - val_loss: 1.3525 - val_acc: 0.5844\n",
      "Epoch 14/30\n",
      "59/59 [==============================] - 179s 3s/step - loss: 1.2145 - acc: 0.6034 - val_loss: 1.2806 - val_acc: 0.5513\n",
      "Epoch 15/30\n",
      "59/59 [==============================] - 180s 3s/step - loss: 1.0961 - acc: 0.6413 - val_loss: 1.2139 - val_acc: 0.6291\n",
      "Epoch 16/30\n",
      "59/59 [==============================] - 179s 3s/step - loss: 1.0025 - acc: 0.6699 - val_loss: 1.1196 - val_acc: 0.6407\n",
      "Epoch 17/30\n",
      "59/59 [==============================] - 178s 3s/step - loss: 0.9163 - acc: 0.7129 - val_loss: 1.0214 - val_acc: 0.6788\n",
      "Epoch 18/30\n",
      "59/59 [==============================] - 690s 12s/step - loss: 0.8068 - acc: 0.7411 - val_loss: 0.9945 - val_acc: 0.6705\n",
      "Epoch 19/30\n",
      "59/59 [==============================] - 179s 3s/step - loss: 0.7654 - acc: 0.7518 - val_loss: 0.8828 - val_acc: 0.7301\n",
      "Epoch 20/30\n",
      "59/59 [==============================] - 179s 3s/step - loss: 0.6717 - acc: 0.7878 - val_loss: 0.7856 - val_acc: 0.7533\n",
      "Epoch 21/30\n",
      "59/59 [==============================] - 179s 3s/step - loss: 0.6270 - acc: 0.7942 - val_loss: 0.8222 - val_acc: 0.7303\n",
      "Epoch 22/30\n",
      "59/59 [==============================] - 179s 3s/step - loss: 0.5581 - acc: 0.8226 - val_loss: 0.7012 - val_acc: 0.7533\n",
      "Epoch 23/30\n",
      "59/59 [==============================] - 179s 3s/step - loss: 0.4819 - acc: 0.8429 - val_loss: 0.6686 - val_acc: 0.7781\n",
      "Epoch 24/30\n",
      "59/59 [==============================] - 180s 3s/step - loss: 0.4315 - acc: 0.8690 - val_loss: 0.6130 - val_acc: 0.7980\n",
      "Epoch 25/30\n",
      "59/59 [==============================] - 179s 3s/step - loss: 0.4203 - acc: 0.8606 - val_loss: 0.6422 - val_acc: 0.7881\n",
      "Epoch 26/30\n",
      "59/59 [==============================] - 179s 3s/step - loss: 0.3777 - acc: 0.8748 - val_loss: 0.5740 - val_acc: 0.8228\n",
      "Epoch 27/30\n",
      "59/59 [==============================] - 178s 3s/step - loss: 0.3410 - acc: 0.8937 - val_loss: 0.5387 - val_acc: 0.8046\n",
      "Epoch 28/30\n",
      "59/59 [==============================] - 178s 3s/step - loss: 0.2944 - acc: 0.9035 - val_loss: 0.4858 - val_acc: 0.8526\n",
      "Epoch 29/30\n",
      "59/59 [==============================] - 179s 3s/step - loss: 0.3091 - acc: 0.9007 - val_loss: 0.5551 - val_acc: 0.8344\n",
      "Epoch 30/30\n",
      "59/59 [==============================] - 179s 3s/step - loss: 0.2804 - acc: 0.9146 - val_loss: 0.4858 - val_acc: 0.8377\n"
     ]
    }
   ],
   "source": [
    "history = model_3_1.fit_generator(train_generator,\n",
    "                             steps_per_epoch=1917//32,\n",
    "                             epochs=30,\n",
    "                             validation_data=validation_generator,\n",
    "                             validation_steps=636//32)\n",
    "import json\n",
    "with open('stride2_mini_history.json', 'w') as f:\n",
    "    json.dump(history.history, f)"
   ]
  },
  {
   "cell_type": "code",
   "execution_count": 7,
   "metadata": {},
   "outputs": [],
   "source": [
    "import json\n",
    "f = open('stride2_mini_history.json', 'r')\n",
    "history = json.load(f)\n",
    "f.close()"
   ]
  },
  {
   "cell_type": "code",
   "execution_count": 8,
   "metadata": {},
   "outputs": [],
   "source": [
    "model_3_1.save(\"stride2_mini.h5\")"
   ]
  },
  {
   "cell_type": "code",
   "execution_count": 9,
   "metadata": {},
   "outputs": [
    {
     "data": {
      "image/png": "[encoded data removed]",
      "text/plain": [
       "<Figure size 432x288 with 1 Axes>"
      ]
     },
     "metadata": {
      "needs_background": "light"
     },
     "output_type": "display_data"
    },
    {
     "data": {
      "image/png": "[encoded data removed]",
      "text/plain": [
       "<Figure size 432x288 with 1 Axes>"
      ]
     },
     "metadata": {
      "needs_background": "light"
     },
     "output_type": "display_data"
    }
   ],
   "source": [
    "import matplotlib.pyplot as plt\n",
    "%matplotlib inline\n",
    "\n",
    "acc = history['acc']\n",
    "val_acc = history['val_acc']\n",
    "loss = history['loss']\n",
    "val_loss = history['val_loss']\n",
    "\n",
    "epochs = range(1,len(acc)+1)\n",
    "\n",
    "#正解率をプロット\n",
    "plt.plot(epochs, acc, 'bo', label='Training acc')\n",
    "plt.plot(epochs, val_acc, 'b', label='Validation acc')\n",
    "plt.title('Training and validation accuracy')\n",
    "\n",
    "\n",
    "\n",
    "#損失値をプロット\n",
    "plt.figure()# 2枚目の図の下地\n",
    "plt.plot(epochs, loss, 'bo', label='Training loss')\n",
    "plt.plot(epochs, val_loss, 'b', label='Validatin loss')\n",
    "plt.title('Training and validation loss')\n",
    "plt.legend()\n",
    "\n",
    "plt.show()"
   ]
  },
  {
   "cell_type": "code",
   "execution_count": null,
   "metadata": {},
   "outputs": [],
   "source": [
    "history = model_3_1_100.fit_generator(train_generator,\n",
    "                             steps_per_epoch=1917//32,\n",
    "                             epochs=30,\n",
    "                             validation_data=validation_generator,\n",
    "                             validation_steps=636//32)\n",
    "import json\n",
    "with open('stride2_ep100_mini_history.json', 'w') as f:\n",
    "    json.dump(history.history, f)"
   ]
  }
 ],
 "metadata": {
  "kernelspec": {
   "display_name": "Python 3",
   "language": "python",
   "name": "python3"
  },
  "language_info": {
   "codemirror_mode": {
    "name": "ipython",
    "version": 3
   },
   "file_extension": ".py",
   "mimetype": "text/x-python",
   "name": "python",
   "nbconvert_exporter": "python",
   "pygments_lexer": "ipython3",
   "version": "3.7.3"
  }
 },
 "nbformat": 4,
 "nbformat_minor": 2
}
