{
 "cells": [
  {
   "cell_type": "code",
   "execution_count": 1,
   "metadata": {},
   "outputs": [
    {
     "name": "stdout",
     "output_type": "stream",
     "text": [
      "['Audi-a5', 'BMW-1-series', 'Honda-pilot', 'Lexus-is-250', 'MINI-countryman', 'Mitsubishi-outlander', 'Nissan-rogue-select', 'Subaru-outback', 'Subaru-xv-crosstrek', 'Volvo-xc60']\n",
      "10\n",
      "MINI-countryman         11\n",
      "Mitsubishi-outlander    10\n",
      "Honda-pilot             10\n",
      "BMW-1-series             9\n",
      "Audi-a5                  9\n",
      "Nissan-rogue-select      8\n",
      "Lexus-is-250             8\n",
      "Subaru-outback           8\n",
      "Volvo-xc60               7\n",
      "Subaru-xv-crosstrek      6\n",
      "Name: make_model, dtype: int64\n"
     ]
    }
   ],
   "source": [
    "import pandas as pd\n",
    "import os\n",
    "\n",
    "# mac.osで動かすためのおまじない\n",
    "os.environ['KMP_DUPLICATE_LIB_OK']='True'\n",
    "\n",
    "base_dir = \"mini_pictures_2\"\n",
    "train_dir = os.path.join(base_dir,\"train\")\n",
    "valid_dir = os.path.join(base_dir,\"valid\")\n",
    "test_dir = os.path.join(base_dir,\"test\")\n",
    "mini_metadata_2 = pd.read_csv('mini_metadata_2.csv',index_col=0)\n",
    "classes = list(mini_metadata_2[\"make_model\"].value_counts().index)\n",
    "classes = sorted(classes)\n",
    "classes_num = len(mini_metadata_2.groupby(\"make_model\"))\n",
    "print(classes)\n",
    "print(classes_num)\n",
    "# mini_metadata.groupby(\"make_model\").nunique()\n",
    "print(mini_metadata_2[\"make_model\"].value_counts())"
   ]
  },
  {
   "cell_type": "code",
   "execution_count": 14,
   "metadata": {},
   "outputs": [],
   "source": [
    "from keras import layers\n",
    "from keras import models\n",
    "\n",
    "# 特徴を抽出\n",
    "# model.add(layers.Conv2D(フィルターの種類の数, (フィルターの大きさ), activation='活性化関数',\n",
    "#                input_shape=ここの中身はいじらない(縦, 横, 色の数(奥行き))))\n",
    "model_3= models.Sequential()\n",
    "# denseは全結合、情報を圧縮する。最初の引数は圧縮した後の数\n",
    "model_3.add(layers.Conv2D(32, (3, 3), activation='relu',\n",
    "                       input_shape=(256, 256, 3)))\n",
    "model_3.add(layers.Flatten())\n",
    "model_3.add(layers.Dense(classes_num, activation='softmax'))"
   ]
  },
  {
   "cell_type": "code",
   "execution_count": 15,
   "metadata": {},
   "outputs": [
    {
     "name": "stdout",
     "output_type": "stream",
     "text": [
      "_________________________________________________________________\n",
      "Layer (type)                 Output Shape              Param #   \n",
      "=================================================================\n",
      "conv2d_1 (Conv2D)            (None, 254, 254, 32)      896       \n",
      "_________________________________________________________________\n",
      "flatten_1 (Flatten)          (None, 2064512)           0         \n",
      "_________________________________________________________________\n",
      "dense_7 (Dense)              (None, 10)                20645130  \n",
      "=================================================================\n",
      "Total params: 20,646,026\n",
      "Trainable params: 20,646,026\n",
      "Non-trainable params: 0\n",
      "_________________________________________________________________\n"
     ]
    }
   ],
   "source": [
    "model_3.summary()"
   ]
  },
  {
   "cell_type": "code",
   "execution_count": 16,
   "metadata": {},
   "outputs": [],
   "source": [
    "from keras import optimizers\n",
    "\n",
    "# categorical_crossentropy,lr=学習率\n",
    "# entropyは情報の不確かさの尺度で小さいほど、確かっぽい感じがする\n",
    "# entropyを使うことで不確かが数値で計算ができるのがよき\n",
    "# これをめちゃくちゃ小さくできれば多分確からしいからそこを目指したい\n",
    "model_3.compile(loss='categorical_crossentropy',\n",
    "             optimizer=optimizers.Adam(lr=1e-4),\n",
    "             metrics=['acc'])"
   ]
  },
  {
   "cell_type": "code",
   "execution_count": 17,
   "metadata": {},
   "outputs": [
    {
     "name": "stdout",
     "output_type": "stream",
     "text": [
      "Found 845 images belonging to 10 classes.\n",
      "Found 257 images belonging to 10 classes.\n"
     ]
    }
   ],
   "source": [
    "from keras.preprocessing.image import ImageDataGenerator\n",
    "#すべての画像を1/255スケーリング(大きさではなくて光の大きさ)\n",
    "# deeplearningは計算して重みの更新をするから使う数値は小さい方が良い\n",
    "train_datagen = ImageDataGenerator(rescale=1./255)\n",
    "test_datagen = ImageDataGenerator(rescale=1./255)\n",
    "\n",
    "#flow_from_directoryでは、categoricalのラベリングにclassesを参照して、ディレクトリ名から自動的にone-hotエンコードされる\n",
    "# ここは頑張りましょう、flow_from_directoryと検索したり、本読んだり\n",
    "train_generator = train_datagen.flow_from_directory(\n",
    "    train_dir,               #ターゲットディレクトリ\n",
    "    target_size=(256, 256),  #すべての画像サイズを256*256に変換\n",
    "    batch_size=32,           #バッチサイズ\n",
    "    class_mode='categorical',\n",
    "    classes=classes)#categorical_crossentropyを使用するため多クラスラベルが必要\n",
    "\n",
    "validation_generator = test_datagen.flow_from_directory(\n",
    "    valid_dir,               #ヴァリデーションディレクトリ\n",
    "    target_size=(256, 256),  #すべての画像サイズを256*256に変換\n",
    "    batch_size=32,           #バッチサイズ、重りの更新をするときになんかごとに重りを変更するか的な\n",
    "    class_mode='categorical',\n",
    "    classes=classes)#categorical_crossentropyを使用するため多クラスラベルが必要\n",
    "\n",
    "\n"
   ]
  },
  {
   "cell_type": "code",
   "execution_count": 21,
   "metadata": {},
   "outputs": [
    {
     "name": "stdout",
     "output_type": "stream",
     "text": [
      "Epoch 1/30\n",
      "26/26 [==============================] - 53s 2s/step - loss: 12.7515 - acc: 0.1116 - val_loss: 13.5285 - val_acc: 0.1422\n",
      "Epoch 2/30\n",
      "26/26 [==============================] - 48s 2s/step - loss: 11.8196 - acc: 0.1853 - val_loss: 11.4782 - val_acc: 0.1689\n",
      "Epoch 3/30\n",
      "26/26 [==============================] - 48s 2s/step - loss: 11.4339 - acc: 0.2476 - val_loss: 11.9998 - val_acc: 0.2444\n",
      "Epoch 4/30\n",
      "26/26 [==============================] - 52s 2s/step - loss: 11.1828 - acc: 0.2967 - val_loss: 11.5119 - val_acc: 0.2711\n",
      "Epoch 5/30\n",
      "26/26 [==============================] - 52s 2s/step - loss: 11.2582 - acc: 0.2969 - val_loss: 11.6099 - val_acc: 0.2622\n",
      "Epoch 6/30\n",
      "26/26 [==============================] - 54s 2s/step - loss: 11.1150 - acc: 0.3099 - val_loss: 11.5634 - val_acc: 0.2756\n",
      "Epoch 7/30\n",
      "26/26 [==============================] - 53s 2s/step - loss: 11.1429 - acc: 0.3089 - val_loss: 11.5365 - val_acc: 0.2852\n",
      "Epoch 8/30\n",
      "26/26 [==============================] - 49s 2s/step - loss: 11.2026 - acc: 0.3051 - val_loss: 11.5434 - val_acc: 0.2844\n",
      "Epoch 9/30\n",
      "26/26 [==============================] - 49s 2s/step - loss: 11.2522 - acc: 0.3020 - val_loss: 11.4039 - val_acc: 0.2933\n",
      "Epoch 10/30\n",
      "26/26 [==============================] - 48s 2s/step - loss: 10.9646 - acc: 0.3198 - val_loss: 11.4676 - val_acc: 0.2889\n",
      "Epoch 11/30\n",
      "26/26 [==============================] - 52s 2s/step - loss: 11.1157 - acc: 0.3104 - val_loss: 11.3959 - val_acc: 0.2933\n",
      "Epoch 12/30\n",
      "26/26 [==============================] - 48s 2s/step - loss: 10.9411 - acc: 0.3212 - val_loss: 11.1818 - val_acc: 0.3067\n",
      "Epoch 13/30\n",
      "26/26 [==============================] - 48s 2s/step - loss: 11.2748 - acc: 0.3005 - val_loss: 11.6096 - val_acc: 0.2800\n",
      "Epoch 14/30\n",
      "26/26 [==============================] - 52s 2s/step - loss: 10.8361 - acc: 0.3277 - val_loss: 11.8953 - val_acc: 0.2622\n",
      "Epoch 15/30\n",
      "26/26 [==============================] - 53s 2s/step - loss: 11.4570 - acc: 0.2892 - val_loss: 11.3230 - val_acc: 0.2978\n",
      "Epoch 16/30\n",
      "26/26 [==============================] - 55s 2s/step - loss: 11.3134 - acc: 0.2981 - val_loss: 11.5254 - val_acc: 0.2852\n",
      "Epoch 17/30\n",
      "26/26 [==============================] - 51s 2s/step - loss: 10.9450 - acc: 0.3210 - val_loss: 11.3940 - val_acc: 0.2933\n",
      "Epoch 18/30\n",
      "26/26 [==============================] - 58s 2s/step - loss: 11.3206 - acc: 0.2977 - val_loss: 11.3933 - val_acc: 0.2933\n",
      "Epoch 19/30\n",
      "26/26 [==============================] - 53s 2s/step - loss: 11.1849 - acc: 0.3061 - val_loss: 11.6792 - val_acc: 0.2756\n",
      "Epoch 20/30\n",
      "26/26 [==============================] - 52s 2s/step - loss: 10.6808 - acc: 0.3374 - val_loss: 11.1061 - val_acc: 0.3111\n",
      "Epoch 21/30\n",
      "26/26 [==============================] - 51s 2s/step - loss: 11.2860 - acc: 0.2998 - val_loss: 11.8230 - val_acc: 0.2667\n",
      "Epoch 22/30\n",
      "26/26 [==============================] - 50s 2s/step - loss: 11.2085 - acc: 0.3046 - val_loss: 11.4643 - val_acc: 0.2889\n",
      "Epoch 23/30\n",
      "26/26 [==============================] - 52s 2s/step - loss: 11.1036 - acc: 0.3111 - val_loss: 11.4642 - val_acc: 0.2889\n",
      "Epoch 24/30\n",
      "26/26 [==============================] - 52s 2s/step - loss: 11.1890 - acc: 0.3058 - val_loss: 11.4641 - val_acc: 0.2889\n",
      "Epoch 25/30\n",
      "26/26 [==============================] - 62s 2s/step - loss: 11.2939 - acc: 0.2993 - val_loss: 11.5239 - val_acc: 0.2852\n",
      "Epoch 26/30\n",
      "26/26 [==============================] - 54s 2s/step - loss: 11.0842 - acc: 0.3123 - val_loss: 11.7503 - val_acc: 0.2711\n",
      "Epoch 27/30\n",
      "26/26 [==============================] - 52s 2s/step - loss: 10.9909 - acc: 0.3181 - val_loss: 10.7481 - val_acc: 0.3333\n",
      "Epoch 28/30\n",
      "26/26 [==============================] - 52s 2s/step - loss: 11.3247 - acc: 0.2974 - val_loss: 12.0362 - val_acc: 0.2533\n",
      "Epoch 29/30\n",
      "26/26 [==============================] - 55s 2s/step - loss: 11.2278 - acc: 0.3034 - val_loss: 11.6782 - val_acc: 0.2756\n",
      "Epoch 30/30\n",
      "26/26 [==============================] - 53s 2s/step - loss: 11.1387 - acc: 0.3089 - val_loss: 10.6755 - val_acc: 0.3378\n"
     ]
    }
   ],
   "source": [
    "history = model_3.fit_generator(train_generator,\n",
    "                             steps_per_epoch=845//32,\n",
    "                             epochs=30,\n",
    "                             validation_data=validation_generator,\n",
    "                             validation_steps=257//32)\n",
    "import json\n",
    "with open('2_dense_mini_2_history.json', 'w') as f:\n",
    "    json.dump(history.history, f)"
   ]
  },
  {
   "cell_type": "code",
   "execution_count": 22,
   "metadata": {},
   "outputs": [],
   "source": [
    "import json\n",
    "f = open('2_dense_mini_2_history.json', 'r')\n",
    "history = json.load(f)\n",
    "f.close()"
   ]
  },
  {
   "cell_type": "code",
   "execution_count": 23,
   "metadata": {},
   "outputs": [],
   "source": [
    "model_3.save(\"2_dense_mini_2.h5\")"
   ]
  },
  {
   "cell_type": "code",
   "execution_count": 24,
   "metadata": {},
   "outputs": [
    {
     "data": {
      "image/png": "[encoded data removed]",
      "text/plain": [
       "<Figure size 432x288 with 1 Axes>"
      ]
     },
     "metadata": {
      "needs_background": "light"
     },
     "output_type": "display_data"
    },
    {
     "data": {
      "image/png": "[encoded data removed]",
      "text/plain": [
       "<Figure size 432x288 with 1 Axes>"
      ]
     },
     "metadata": {
      "needs_background": "light"
     },
     "output_type": "display_data"
    }
   ],
   "source": [
    "import matplotlib.pyplot as plt\n",
    "%matplotlib inline\n",
    "\n",
    "acc = history['acc']\n",
    "val_acc = history['val_acc']\n",
    "loss = history['loss']\n",
    "val_loss = history['val_loss']\n",
    "\n",
    "epochs = range(1,len(acc)+1)\n",
    "\n",
    "#正解率をプロット\n",
    "plt.plot(epochs, acc, 'bo', label='Training acc')\n",
    "plt.plot(epochs, val_acc, 'b', label='Validation acc')\n",
    "plt.title('Training and validation accuracy')\n",
    "\n",
    "\n",
    "\n",
    "#損失値をプロット\n",
    "plt.figure()# 2枚目の図の下地\n",
    "plt.plot(epochs, loss, 'bo', label='Training loss')\n",
    "plt.plot(epochs, val_loss, 'b', label='Validatin loss')\n",
    "plt.title('Training and validation loss')\n",
    "plt.legend()\n",
    "\n",
    "plt.show()"
   ]
  },
  {
   "cell_type": "code",
   "execution_count": null,
   "metadata": {},
   "outputs": [],
   "source": []
  },
  {
   "cell_type": "code",
   "execution_count": null,
   "metadata": {},
   "outputs": [],
   "source": []
  }
 ],
 "metadata": {
  "kernelspec": {
   "display_name": "Python 3",
   "language": "python",
   "name": "python3"
  },
  "language_info": {
   "codemirror_mode": {
    "name": "ipython",
    "version": 3
   },
   "file_extension": ".py",
   "mimetype": "text/x-python",
   "name": "python",
   "nbconvert_exporter": "python",
   "pygments_lexer": "ipython3",
   "version": "3.7.4"
  }
 },
 "nbformat": 4,
 "nbformat_minor": 2
}
