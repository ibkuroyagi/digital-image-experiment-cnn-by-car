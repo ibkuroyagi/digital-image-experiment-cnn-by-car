{
 "cells": [
  {
   "cell_type": "code",
   "execution_count": 1,
   "metadata": {},
   "outputs": [
    {
     "name": "stdout",
     "output_type": "stream",
     "text": [
      "['Audi-a3', 'Audi-a5', 'Audi-q5', 'BMW-1-series', 'BMW-x5', 'Honda-pilot', 'Lexus-is-250', 'MINI-countryman', 'Mazda-mazda5', 'Mercedes-Benz-gla', 'Mercedes-Benz-m-class', 'Mitsubishi-outlander', 'Nissan-370z', 'Nissan-rogue-select', 'Subaru-forester', 'Subaru-outback', 'Subaru-xv-crosstrek', 'Toyota-prius-plug-in-hybrid', 'Volkswagen-cc', 'Volvo-xc60']\n",
      "20\n",
      "BMW-x5                         13\n",
      "Mercedes-Benz-m-class          12\n",
      "Subaru-forester                12\n",
      "Audi-a3                        11\n",
      "Audi-q5                        11\n",
      "MINI-countryman                11\n",
      "Toyota-prius-plug-in-hybrid    11\n",
      "Mazda-mazda5                   11\n",
      "Mercedes-Benz-gla              11\n",
      "Volkswagen-cc                  11\n",
      "Honda-pilot                    10\n",
      "Nissan-370z                    10\n",
      "Mitsubishi-outlander           10\n",
      "Audi-a5                         9\n",
      "BMW-1-series                    9\n",
      "Subaru-outback                  8\n",
      "Lexus-is-250                    8\n",
      "Nissan-rogue-select             8\n",
      "Volvo-xc60                      7\n",
      "Subaru-xv-crosstrek             6\n",
      "Name: make_model, dtype: int64\n"
     ]
    }
   ],
   "source": [
    "import pandas as pd\n",
    "import os\n",
    "\n",
    "# mac.osで動かすためのおまじない\n",
    "os.environ['KMP_DUPLICATE_LIB_OK']='True'\n",
    "\n",
    "base_dir = \"mini_pictures\"\n",
    "train_dir = os.path.join(base_dir,\"train\")\n",
    "valid_dir = os.path.join(base_dir,\"valid\")\n",
    "test_dir = os.path.join(base_dir,\"test\")\n",
    "mini_metadata = pd.read_csv('mini_metadata.csv',index_col=0)\n",
    "classes = list(mini_metadata[\"make_model\"].value_counts().index)\n",
    "classes = sorted(classes)\n",
    "classes_num = len(mini_metadata.groupby(\"make_model\"))\n",
    "print(classes)\n",
    "print(classes_num)\n",
    "# mini_metadata.groupby(\"make_model\").nunique()\n",
    "print(mini_metadata[\"make_model\"].value_counts())"
   ]
  },
  {
   "cell_type": "code",
   "execution_count": 2,
   "metadata": {},
   "outputs": [
    {
     "name": "stderr",
     "output_type": "stream",
     "text": [
      "Using TensorFlow backend.\n",
      "/Users/tatsuki/opt/anaconda3/lib/python3.7/site-packages/tensorflow/python/framework/dtypes.py:516: FutureWarning: Passing (type, 1) or '1type' as a synonym of type is deprecated; in a future version of numpy, it will be understood as (type, (1,)) / '(1,)type'.\n",
      "  _np_qint8 = np.dtype([(\"qint8\", np.int8, 1)])\n",
      "/Users/tatsuki/opt/anaconda3/lib/python3.7/site-packages/tensorflow/python/framework/dtypes.py:517: FutureWarning: Passing (type, 1) or '1type' as a synonym of type is deprecated; in a future version of numpy, it will be understood as (type, (1,)) / '(1,)type'.\n",
      "  _np_quint8 = np.dtype([(\"quint8\", np.uint8, 1)])\n",
      "/Users/tatsuki/opt/anaconda3/lib/python3.7/site-packages/tensorflow/python/framework/dtypes.py:518: FutureWarning: Passing (type, 1) or '1type' as a synonym of type is deprecated; in a future version of numpy, it will be understood as (type, (1,)) / '(1,)type'.\n",
      "  _np_qint16 = np.dtype([(\"qint16\", np.int16, 1)])\n",
      "/Users/tatsuki/opt/anaconda3/lib/python3.7/site-packages/tensorflow/python/framework/dtypes.py:519: FutureWarning: Passing (type, 1) or '1type' as a synonym of type is deprecated; in a future version of numpy, it will be understood as (type, (1,)) / '(1,)type'.\n",
      "  _np_quint16 = np.dtype([(\"quint16\", np.uint16, 1)])\n",
      "/Users/tatsuki/opt/anaconda3/lib/python3.7/site-packages/tensorflow/python/framework/dtypes.py:520: FutureWarning: Passing (type, 1) or '1type' as a synonym of type is deprecated; in a future version of numpy, it will be understood as (type, (1,)) / '(1,)type'.\n",
      "  _np_qint32 = np.dtype([(\"qint32\", np.int32, 1)])\n",
      "/Users/tatsuki/opt/anaconda3/lib/python3.7/site-packages/tensorflow/python/framework/dtypes.py:525: FutureWarning: Passing (type, 1) or '1type' as a synonym of type is deprecated; in a future version of numpy, it will be understood as (type, (1,)) / '(1,)type'.\n",
      "  np_resource = np.dtype([(\"resource\", np.ubyte, 1)])\n",
      "/Users/tatsuki/opt/anaconda3/lib/python3.7/site-packages/tensorboard/compat/tensorflow_stub/dtypes.py:541: FutureWarning: Passing (type, 1) or '1type' as a synonym of type is deprecated; in a future version of numpy, it will be understood as (type, (1,)) / '(1,)type'.\n",
      "  _np_qint8 = np.dtype([(\"qint8\", np.int8, 1)])\n",
      "/Users/tatsuki/opt/anaconda3/lib/python3.7/site-packages/tensorboard/compat/tensorflow_stub/dtypes.py:542: FutureWarning: Passing (type, 1) or '1type' as a synonym of type is deprecated; in a future version of numpy, it will be understood as (type, (1,)) / '(1,)type'.\n",
      "  _np_quint8 = np.dtype([(\"quint8\", np.uint8, 1)])\n",
      "/Users/tatsuki/opt/anaconda3/lib/python3.7/site-packages/tensorboard/compat/tensorflow_stub/dtypes.py:543: FutureWarning: Passing (type, 1) or '1type' as a synonym of type is deprecated; in a future version of numpy, it will be understood as (type, (1,)) / '(1,)type'.\n",
      "  _np_qint16 = np.dtype([(\"qint16\", np.int16, 1)])\n",
      "/Users/tatsuki/opt/anaconda3/lib/python3.7/site-packages/tensorboard/compat/tensorflow_stub/dtypes.py:544: FutureWarning: Passing (type, 1) or '1type' as a synonym of type is deprecated; in a future version of numpy, it will be understood as (type, (1,)) / '(1,)type'.\n",
      "  _np_quint16 = np.dtype([(\"quint16\", np.uint16, 1)])\n",
      "/Users/tatsuki/opt/anaconda3/lib/python3.7/site-packages/tensorboard/compat/tensorflow_stub/dtypes.py:545: FutureWarning: Passing (type, 1) or '1type' as a synonym of type is deprecated; in a future version of numpy, it will be understood as (type, (1,)) / '(1,)type'.\n",
      "  _np_qint32 = np.dtype([(\"qint32\", np.int32, 1)])\n",
      "/Users/tatsuki/opt/anaconda3/lib/python3.7/site-packages/tensorboard/compat/tensorflow_stub/dtypes.py:550: FutureWarning: Passing (type, 1) or '1type' as a synonym of type is deprecated; in a future version of numpy, it will be understood as (type, (1,)) / '(1,)type'.\n",
      "  np_resource = np.dtype([(\"resource\", np.ubyte, 1)])\n"
     ]
    },
    {
     "name": "stdout",
     "output_type": "stream",
     "text": [
      "WARNING:tensorflow:From /Users/tatsuki/opt/anaconda3/lib/python3.7/site-packages/keras/backend/tensorflow_backend.py:74: The name tf.get_default_graph is deprecated. Please use tf.compat.v1.get_default_graph instead.\n",
      "\n",
      "WARNING:tensorflow:From /Users/tatsuki/opt/anaconda3/lib/python3.7/site-packages/keras/backend/tensorflow_backend.py:517: The name tf.placeholder is deprecated. Please use tf.compat.v1.placeholder instead.\n",
      "\n",
      "WARNING:tensorflow:From /Users/tatsuki/opt/anaconda3/lib/python3.7/site-packages/keras/backend/tensorflow_backend.py:4138: The name tf.random_uniform is deprecated. Please use tf.random.uniform instead.\n",
      "\n"
     ]
    }
   ],
   "source": [
    "from keras import layers\n",
    "from keras import models\n",
    "\n",
    "# 特徴を抽出\n",
    "# model.add(layers.Conv2D(フィルターの種類の数, (フィルターの大きさ), activation='活性化関数',\n",
    "#                input_shape=ここの中身はいじらない(縦, 横, 色の数(奥行き))))\n",
    "model_13= models.Sequential()\n",
    "# denseは全結合、情報を圧縮する。最初の引数は圧縮した後の数\n",
    "model_13.add(layers.Conv2D(32, (3, 3), activation='relu',\n",
    "                       input_shape=(256, 256, 3)))\n",
    "model_13.add(layers.Conv2D(64, (3, 3),activation='relu'))\n",
    "model_13.add(layers.Conv2D(32, (3, 3),activation='relu'))\n",
    "model_13.add(layers.Flatten())\n",
    "model_13.add(layers.Dense(classes_num, activation='softmax'))"
   ]
  },
  {
   "cell_type": "code",
   "execution_count": 3,
   "metadata": {},
   "outputs": [
    {
     "name": "stdout",
     "output_type": "stream",
     "text": [
      "_________________________________________________________________\n",
      "Layer (type)                 Output Shape              Param #   \n",
      "=================================================================\n",
      "conv2d_1 (Conv2D)            (None, 254, 254, 32)      896       \n",
      "_________________________________________________________________\n",
      "conv2d_2 (Conv2D)            (None, 252, 252, 64)      18496     \n",
      "_________________________________________________________________\n",
      "conv2d_3 (Conv2D)            (None, 250, 250, 32)      18464     \n",
      "_________________________________________________________________\n",
      "flatten_1 (Flatten)          (None, 2000000)           0         \n",
      "_________________________________________________________________\n",
      "dense_1 (Dense)              (None, 20)                40000020  \n",
      "=================================================================\n",
      "Total params: 40,037,876\n",
      "Trainable params: 40,037,876\n",
      "Non-trainable params: 0\n",
      "_________________________________________________________________\n"
     ]
    }
   ],
   "source": [
    "model_13.summary()"
   ]
  },
  {
   "cell_type": "code",
   "execution_count": 4,
   "metadata": {},
   "outputs": [
    {
     "name": "stdout",
     "output_type": "stream",
     "text": [
      "WARNING:tensorflow:From /Users/tatsuki/opt/anaconda3/lib/python3.7/site-packages/keras/optimizers.py:790: The name tf.train.Optimizer is deprecated. Please use tf.compat.v1.train.Optimizer instead.\n",
      "\n",
      "WARNING:tensorflow:From /Users/tatsuki/opt/anaconda3/lib/python3.7/site-packages/keras/backend/tensorflow_backend.py:3295: The name tf.log is deprecated. Please use tf.math.log instead.\n",
      "\n"
     ]
    }
   ],
   "source": [
    "from keras import optimizers\n",
    "\n",
    "# categorical_crossentropy,lr=学習率\n",
    "# entropyは情報の不確かさの尺度で小さいほど、確かっぽい感じがする\n",
    "# entropyを使うことで不確かが数値で計算ができるのがよき\n",
    "# これをめちゃくちゃ小さくできれば多分確からしいからそこを目指したい\n",
    "model_13.compile(loss='categorical_crossentropy',\n",
    "             optimizer=optimizers.Adam(lr=1e-4),\n",
    "             metrics=['acc'])"
   ]
  },
  {
   "cell_type": "code",
   "execution_count": 5,
   "metadata": {},
   "outputs": [
    {
     "name": "stdout",
     "output_type": "stream",
     "text": [
      "Found 1917 images belonging to 20 classes.\n",
      "Found 636 images belonging to 20 classes.\n"
     ]
    }
   ],
   "source": [
    "from keras.preprocessing.image import ImageDataGenerator\n",
    "#すべての画像を1/255スケーリング(大きさではなくて光の大きさ)\n",
    "# deeplearningは計算して重みの更新をするから使う数値は小さい方が良い\n",
    "train_datagen = ImageDataGenerator(rescale=1./255)\n",
    "test_datagen = ImageDataGenerator(rescale=1./255)\n",
    "\n",
    "#flow_from_directoryでは、categoricalのラベリングにclassesを参照して、ディレクトリ名から自動的にone-hotエンコードされる\n",
    "# ここは頑張りましょう、flow_from_directoryと検索したり、本読んだり\n",
    "train_generator = train_datagen.flow_from_directory(\n",
    "    train_dir,               #ターゲットディレクトリ\n",
    "    target_size=(256, 256),  #すべての画像サイズを256*256に変換\n",
    "    batch_size=32,           #バッチサイズ\n",
    "    class_mode='categorical',\n",
    "    classes=classes)#categorical_crossentropyを使用するため多クラスラベルが必要\n",
    "\n",
    "validation_generator = test_datagen.flow_from_directory(\n",
    "    valid_dir,               #ヴァリデーションディレクトリ\n",
    "    target_size=(256, 256),  #すべての画像サイズを256*256に変換\n",
    "    batch_size=32,           #バッチサイズ、重りの更新をするときになんかごとに重りを変更するか的な\n",
    "    class_mode='categorical',\n",
    "    classes=classes)#categorical_crossentropyを使用するため多クラスラベルが必要\n",
    "\n",
    "\n",
    "\n"
   ]
  },
  {
   "cell_type": "code",
   "execution_count": 6,
   "metadata": {},
   "outputs": [
    {
     "name": "stdout",
     "output_type": "stream",
     "text": [
      "WARNING:tensorflow:From /Users/tatsuki/opt/anaconda3/lib/python3.7/site-packages/tensorflow/python/ops/math_grad.py:1250: add_dispatch_support.<locals>.wrapper (from tensorflow.python.ops.array_ops) is deprecated and will be removed in a future version.\n",
      "Instructions for updating:\n",
      "Use tf.where in 2.0, which has the same broadcast rule as np.where\n",
      "WARNING:tensorflow:From /Users/tatsuki/opt/anaconda3/lib/python3.7/site-packages/keras/backend/tensorflow_backend.py:986: The name tf.assign_add is deprecated. Please use tf.compat.v1.assign_add instead.\n",
      "\n",
      "Epoch 1/30\n",
      "59/59 [==============================] - 459s 8s/step - loss: 6.7799 - acc: 0.1700 - val_loss: 2.2045 - val_acc: 0.4046\n",
      "Epoch 2/30\n",
      "59/59 [==============================] - 418s 7s/step - loss: 1.1603 - acc: 0.7247 - val_loss: 0.7259 - val_acc: 0.7831\n",
      "Epoch 3/30\n",
      "59/59 [==============================] - 419s 7s/step - loss: 0.1226 - acc: 0.9808 - val_loss: 0.3003 - val_acc: 0.9172\n",
      "Epoch 4/30\n",
      "59/59 [==============================] - 419s 7s/step - loss: 0.0158 - acc: 0.9995 - val_loss: 0.2513 - val_acc: 0.9255\n",
      "Epoch 5/30\n",
      "59/59 [==============================] - 420s 7s/step - loss: 0.0030 - acc: 1.0000 - val_loss: 0.2351 - val_acc: 0.9139\n",
      "Epoch 6/30\n",
      "59/59 [==============================] - 417s 7s/step - loss: 0.0016 - acc: 1.0000 - val_loss: 0.1984 - val_acc: 0.9338\n",
      "Epoch 7/30\n",
      "59/59 [==============================] - 417s 7s/step - loss: 9.6318e-04 - acc: 1.0000 - val_loss: 0.2254 - val_acc: 0.9338\n",
      "Epoch 8/30\n",
      "59/59 [==============================] - 418s 7s/step - loss: 6.8998e-04 - acc: 1.0000 - val_loss: 0.2078 - val_acc: 0.9172\n",
      "Epoch 9/30\n",
      "59/59 [==============================] - 421s 7s/step - loss: 5.3120e-04 - acc: 1.0000 - val_loss: 0.2437 - val_acc: 0.9023\n",
      "Epoch 10/30\n",
      "59/59 [==============================] - 418s 7s/step - loss: 3.9764e-04 - acc: 1.0000 - val_loss: 0.1727 - val_acc: 0.9371\n",
      "Epoch 11/30\n",
      "59/59 [==============================] - 417s 7s/step - loss: 3.2895e-04 - acc: 1.0000 - val_loss: 0.2275 - val_acc: 0.9073\n",
      "Epoch 12/30\n",
      "59/59 [==============================] - 418s 7s/step - loss: 2.5711e-04 - acc: 1.0000 - val_loss: 0.1822 - val_acc: 0.9338\n",
      "Epoch 13/30\n",
      "59/59 [==============================] - 420s 7s/step - loss: 2.2298e-04 - acc: 1.0000 - val_loss: 0.2291 - val_acc: 0.9238\n",
      "Epoch 14/30\n",
      "59/59 [==============================] - 418s 7s/step - loss: 1.7537e-04 - acc: 1.0000 - val_loss: 0.1930 - val_acc: 0.9205\n",
      "Epoch 15/30\n",
      "59/59 [==============================] - 422s 7s/step - loss: 1.5418e-04 - acc: 1.0000 - val_loss: 0.2257 - val_acc: 0.9139\n",
      "Epoch 16/30\n",
      "59/59 [==============================] - 418s 7s/step - loss: 1.3644e-04 - acc: 1.0000 - val_loss: 0.1773 - val_acc: 0.9255\n",
      "Epoch 17/30\n",
      "59/59 [==============================] - 417s 7s/step - loss: 1.0856e-04 - acc: 1.0000 - val_loss: 0.2035 - val_acc: 0.9288\n",
      "Epoch 18/30\n",
      "59/59 [==============================] - 421s 7s/step - loss: 1.0097e-04 - acc: 1.0000 - val_loss: 0.1900 - val_acc: 0.9305\n",
      "Epoch 19/30\n",
      "59/59 [==============================] - 419s 7s/step - loss: 8.5395e-05 - acc: 1.0000 - val_loss: 0.2032 - val_acc: 0.9222\n",
      "Epoch 20/30\n",
      "59/59 [==============================] - 419s 7s/step - loss: 7.7064e-05 - acc: 1.0000 - val_loss: 0.2049 - val_acc: 0.9255\n",
      "Epoch 21/30\n",
      "59/59 [==============================] - 418s 7s/step - loss: 6.7349e-05 - acc: 1.0000 - val_loss: 0.2017 - val_acc: 0.9227\n",
      "Epoch 22/30\n",
      "59/59 [==============================] - 418s 7s/step - loss: 6.0338e-05 - acc: 1.0000 - val_loss: 0.2143 - val_acc: 0.9189\n",
      "Epoch 23/30\n",
      "59/59 [==============================] - 420s 7s/step - loss: 5.3949e-05 - acc: 1.0000 - val_loss: 0.2019 - val_acc: 0.9272\n",
      "Epoch 24/30\n",
      "59/59 [==============================] - 417s 7s/step - loss: 4.7405e-05 - acc: 1.0000 - val_loss: 0.1939 - val_acc: 0.9272\n",
      "Epoch 25/30\n",
      "59/59 [==============================] - 418s 7s/step - loss: 4.3514e-05 - acc: 1.0000 - val_loss: 0.2160 - val_acc: 0.9205\n",
      "Epoch 26/30\n",
      "59/59 [==============================] - 419s 7s/step - loss: 4.0448e-05 - acc: 1.0000 - val_loss: 0.1920 - val_acc: 0.9321\n",
      "Epoch 27/30\n",
      "59/59 [==============================] - 418s 7s/step - loss: 3.5265e-05 - acc: 1.0000 - val_loss: 0.2110 - val_acc: 0.9172\n",
      "Epoch 28/30\n",
      "59/59 [==============================] - 419s 7s/step - loss: 3.2653e-05 - acc: 1.0000 - val_loss: 0.1961 - val_acc: 0.9338\n",
      "Epoch 29/30\n",
      "59/59 [==============================] - 418s 7s/step - loss: 3.0735e-05 - acc: 1.0000 - val_loss: 0.2026 - val_acc: 0.9189\n",
      "Epoch 30/30\n",
      "59/59 [==============================] - 421s 7s/step - loss: 2.7420e-05 - acc: 1.0000 - val_loss: 0.2303 - val_acc: 0.9172\n"
     ]
    }
   ],
   "source": [
    "history = model_13.fit_generator(train_generator,\n",
    "                             steps_per_epoch=1917//32,\n",
    "                             epochs=30,\n",
    "                             validation_data=validation_generator,\n",
    "                             validation_steps=636//32)\n",
    "import json\n",
    "with open('4_dense_mini_history.json', 'w') as f:\n",
    "    json.dump(history.history, f)"
   ]
  },
  {
   "cell_type": "code",
   "execution_count": 7,
   "metadata": {},
   "outputs": [],
   "source": [
    "import json\n",
    "f = open('4_dense_mini_history.json', 'r')\n",
    "history = json.load(f)\n",
    "f.close()"
   ]
  },
  {
   "cell_type": "code",
   "execution_count": 8,
   "metadata": {},
   "outputs": [],
   "source": [
    "model_13.save(\"4_dense_mini.h5\")"
   ]
  },
  {
   "cell_type": "code",
   "execution_count": 9,
   "metadata": {},
   "outputs": [
    {
     "data": {
      "image/png": "[encoded data removed]",
      "text/plain": [
       "<Figure size 432x288 with 1 Axes>"
      ]
     },
     "metadata": {
      "needs_background": "light"
     },
     "output_type": "display_data"
    },
    {
     "data": {
      "image/png": "[encoded data removed]",
      "text/plain": [
       "<Figure size 432x288 with 1 Axes>"
      ]
     },
     "metadata": {
      "needs_background": "light"
     },
     "output_type": "display_data"
    }
   ],
   "source": [
    "import matplotlib.pyplot as plt\n",
    "%matplotlib inline\n",
    "\n",
    "acc = history['acc']\n",
    "val_acc = history['val_acc']\n",
    "loss = history['loss']\n",
    "val_loss = history['val_loss']\n",
    "\n",
    "epochs = range(1,len(acc)+1)\n",
    "\n",
    "#正解率をプロット\n",
    "plt.plot(epochs, acc, 'bo', label='Training acc')\n",
    "plt.plot(epochs, val_acc, 'b', label='Validation acc')\n",
    "plt.title('Training and validation accuracy')\n",
    "\n",
    "\n",
    "\n",
    "#損失値をプロット\n",
    "plt.figure()# 2枚目の図の下地\n",
    "plt.plot(epochs, loss, 'bo', label='Training loss')\n",
    "plt.plot(epochs, val_loss, 'b', label='Validatin loss')\n",
    "plt.title('Training and validation loss')\n",
    "plt.legend()\n",
    "\n",
    "plt.show()"
   ]
  },
  {
   "cell_type": "code",
   "execution_count": null,
   "metadata": {},
   "outputs": [],
   "source": []
  }
 ],
 "metadata": {
  "kernelspec": {
   "display_name": "Python 3",
   "language": "python",
   "name": "python3"
  },
  "language_info": {
   "codemirror_mode": {
    "name": "ipython",
    "version": 3
   },
   "file_extension": ".py",
   "mimetype": "text/x-python",
   "name": "python",
   "nbconvert_exporter": "python",
   "pygments_lexer": "ipython3",
   "version": "3.7.4"
  }
 },
 "nbformat": 4,
 "nbformat_minor": 2
}
