{
 "cells": [
  {
   "cell_type": "code",
   "execution_count": 1,
   "metadata": {
    "scrolled": true
   },
   "outputs": [
    {
     "data": {
      "text/html": [
       "<div>\n",
       "<style scoped>\n",
       "    .dataframe tbody tr th:only-of-type {\n",
       "        vertical-align: middle;\n",
       "    }\n",
       "\n",
       "    .dataframe tbody tr th {\n",
       "        vertical-align: top;\n",
       "    }\n",
       "\n",
       "    .dataframe thead th {\n",
       "        text-align: right;\n",
       "    }\n",
       "</style>\n",
       "<table border=\"1\" class=\"dataframe\">\n",
       "  <thead>\n",
       "    <tr style=\"text-align: right;\">\n",
       "      <th></th>\n",
       "      <th>id</th>\n",
       "      <th>year</th>\n",
       "      <th>make</th>\n",
       "      <th>model</th>\n",
       "      <th>trim1</th>\n",
       "      <th>trim2</th>\n",
       "    </tr>\n",
       "  </thead>\n",
       "  <tbody>\n",
       "    <tr>\n",
       "      <th>6567</th>\n",
       "      <td>ffdf67d8d44b</td>\n",
       "      <td>2014.0</td>\n",
       "      <td>Mercedes-Benz</td>\n",
       "      <td>CLA</td>\n",
       "      <td>CLA</td>\n",
       "      <td>CLA250 w/ Sport Pkg</td>\n",
       "    </tr>\n",
       "    <tr>\n",
       "      <th>6568</th>\n",
       "      <td>ffe45737b4af</td>\n",
       "      <td>2014.0</td>\n",
       "      <td>Mercedes-Benz</td>\n",
       "      <td>E-Class</td>\n",
       "      <td>E-Class</td>\n",
       "      <td>E350 Sport</td>\n",
       "    </tr>\n",
       "    <tr>\n",
       "      <th>6569</th>\n",
       "      <td>fff013bbf988</td>\n",
       "      <td>2014.0</td>\n",
       "      <td>Toyota</td>\n",
       "      <td>Tundra</td>\n",
       "      <td>Tundra</td>\n",
       "      <td>Platinum W/ Towing Pkg</td>\n",
       "    </tr>\n",
       "    <tr>\n",
       "      <th>6570</th>\n",
       "      <td>fff341f26a19</td>\n",
       "      <td>2013.0</td>\n",
       "      <td>Nissan</td>\n",
       "      <td>Altima</td>\n",
       "      <td>Altima</td>\n",
       "      <td>3.5 SL</td>\n",
       "    </tr>\n",
       "    <tr>\n",
       "      <th>6571</th>\n",
       "      <td>fff9b3a5373f</td>\n",
       "      <td>2011.0</td>\n",
       "      <td>Land Rover</td>\n",
       "      <td>Range Rover</td>\n",
       "      <td>Range Rover</td>\n",
       "      <td>Supercharged w/Autobiography Pkg</td>\n",
       "    </tr>\n",
       "  </tbody>\n",
       "</table>\n",
       "</div>"
      ],
      "text/plain": [
       "                id    year           make        model        trim1  \\\n",
       "6567  ffdf67d8d44b  2014.0  Mercedes-Benz          CLA          CLA   \n",
       "6568  ffe45737b4af  2014.0  Mercedes-Benz      E-Class      E-Class   \n",
       "6569  fff013bbf988  2014.0         Toyota       Tundra       Tundra   \n",
       "6570  fff341f26a19  2013.0         Nissan       Altima       Altima   \n",
       "6571  fff9b3a5373f  2011.0     Land Rover  Range Rover  Range Rover   \n",
       "\n",
       "                                 trim2  \n",
       "6567               CLA250 w/ Sport Pkg  \n",
       "6568                        E350 Sport  \n",
       "6569            Platinum W/ Towing Pkg  \n",
       "6570                            3.5 SL  \n",
       "6571  Supercharged w/Autobiography Pkg  "
      ]
     },
     "execution_count": 1,
     "metadata": {},
     "output_type": "execute_result"
    }
   ],
   "source": [
    "import pandas as pd\n",
    "df = pd.read_csv(\"./metadata.csv\")\n",
    "df.tail()"
   ]
  },
  {
   "cell_type": "code",
   "execution_count": 2,
   "metadata": {},
   "outputs": [
    {
     "data": {
      "text/plain": [
       "id       6572\n",
       "year       12\n",
       "make       36\n",
       "model     398\n",
       "trim1     400\n",
       "trim2     770\n",
       "dtype: int64"
      ]
     },
     "execution_count": 2,
     "metadata": {},
     "output_type": "execute_result"
    }
   ],
   "source": [
    "df.nunique()"
   ]
  },
  {
   "cell_type": "code",
   "execution_count": 3,
   "metadata": {},
   "outputs": [
    {
     "data": {
      "text/plain": [
       "make\n",
       "Acura            123\n",
       "Audi              97\n",
       "BMW              188\n",
       "Buick            185\n",
       "Cadillac         157\n",
       "Chevrolet        570\n",
       "Chrysler         147\n",
       "Dodge            202\n",
       "FIAT              74\n",
       "Ford             577\n",
       "GMC              174\n",
       "Honda            572\n",
       "Hyundai          393\n",
       "INFINITI          79\n",
       "Infiniti          80\n",
       "Jaguar            19\n",
       "Jeep             202\n",
       "Kia              392\n",
       "Land Rover        23\n",
       "Lexus            194\n",
       "Lincoln           46\n",
       "MINI              69\n",
       "Maserati           1\n",
       "Mazda            191\n",
       "Mercedes-Benz    188\n",
       "Mercury            3\n",
       "Mitsubishi        54\n",
       "Nissan           497\n",
       "Porsche            1\n",
       "Ram               27\n",
       "Scion             51\n",
       "Smart             59\n",
       "Subaru            43\n",
       "Toyota           647\n",
       "Volkswagen       203\n",
       "Volvo             33\n",
       "Name: make, dtype: int64"
      ]
     },
     "execution_count": 3,
     "metadata": {},
     "output_type": "execute_result"
    }
   ],
   "source": [
    "df.groupby('make').make.count()"
   ]
  },
  {
   "cell_type": "code",
   "execution_count": 4,
   "metadata": {},
   "outputs": [
    {
     "name": "stdout",
     "output_type": "stream",
     "text": [
      "['Acura', 'Audi', 'BMW', 'Buick', 'Cadillac', 'Chevrolet', 'Chrysler', 'Dodge', 'FIAT', 'Ford', 'GMC', 'Honda', 'Hyundai', 'INFINITI', 'Infiniti', 'Jaguar', 'Jeep', 'Kia', 'Land Rover', 'Lexus', 'Lincoln', 'MINI', 'Maserati', 'Mazda', 'Mercedes-Benz', 'Mercury', 'Mitsubishi', 'Nissan', 'Porsche', 'Ram', 'Scion', 'Smart', 'Subaru', 'Toyota', 'Volkswagen', 'Volvo']\n",
      "['Audi', 'BMW', 'Honda', 'Jeep', 'Lexus', 'MINI', 'Mazda', 'Mercedes-Benz', 'Mitsubishi', 'Nissan', 'Subaru', 'Toyota', 'Volkswagen', 'Volvo']\n"
     ]
    }
   ],
   "source": [
    "#日本で流通している車種のみに選別する\n",
    "all_car = list(df.groupby('make').make.count().index)\n",
    "print(all_car)\n",
    "column = ['Audi', 'BMW','Honda','Jeep','Lexus','MINI','Mazda','Mercedes-Benz','Mitsubishi','Nissan','Subaru','Toyota','Volkswagen','Volvo']\n",
    "print(column)"
   ]
  },
  {
   "cell_type": "code",
   "execution_count": 5,
   "metadata": {},
   "outputs": [
    {
     "ename": "AttributeError",
     "evalue": "'float' object has no attribute 'lower'",
     "output_type": "error",
     "traceback": [
      "\u001b[1;31m---------------------------------------------------------------------------\u001b[0m",
      "\u001b[1;31mAttributeError\u001b[0m                            Traceback (most recent call last)",
      "\u001b[1;32m<ipython-input-5-336e54f5fa2b>\u001b[0m in \u001b[0;36m<module>\u001b[1;34m\u001b[0m\n\u001b[0;32m      2\u001b[0m \u001b[0ma\u001b[0m \u001b[1;33m=\u001b[0m \u001b[0mdf\u001b[0m\u001b[1;33m[\u001b[0m\u001b[1;34m\"model\"\u001b[0m\u001b[1;33m]\u001b[0m\u001b[1;33m.\u001b[0m\u001b[0mreplace\u001b[0m\u001b[1;33m(\u001b[0m\u001b[1;34m' '\u001b[0m\u001b[1;33m,\u001b[0m \u001b[1;34m'-'\u001b[0m\u001b[1;33m)\u001b[0m\u001b[1;33m\u001b[0m\u001b[1;33m\u001b[0m\u001b[0m\n\u001b[0;32m      3\u001b[0m \u001b[1;32mfor\u001b[0m \u001b[0mi\u001b[0m\u001b[1;33m,\u001b[0m\u001b[0mtmp\u001b[0m \u001b[1;32min\u001b[0m \u001b[0menumerate\u001b[0m\u001b[1;33m(\u001b[0m\u001b[0mdf\u001b[0m\u001b[1;33m[\u001b[0m\u001b[1;34m\"model\"\u001b[0m\u001b[1;33m]\u001b[0m\u001b[1;33m)\u001b[0m\u001b[1;33m:\u001b[0m\u001b[1;33m\u001b[0m\u001b[1;33m\u001b[0m\u001b[0m\n\u001b[1;32m----> 4\u001b[1;33m     \u001b[0mdf\u001b[0m\u001b[1;33m.\u001b[0m\u001b[0mloc\u001b[0m\u001b[1;33m[\u001b[0m\u001b[0mi\u001b[0m\u001b[1;33m,\u001b[0m\u001b[1;33m[\u001b[0m\u001b[1;34m\"model\"\u001b[0m\u001b[1;33m]\u001b[0m\u001b[1;33m]\u001b[0m \u001b[1;33m=\u001b[0m \u001b[0mstr\u001b[0m\u001b[1;33m(\u001b[0m\u001b[0mtmp\u001b[0m\u001b[1;33m.\u001b[0m\u001b[0mlower\u001b[0m\u001b[1;33m(\u001b[0m\u001b[1;33m)\u001b[0m\u001b[1;33m)\u001b[0m\u001b[1;33m.\u001b[0m\u001b[0mreplace\u001b[0m\u001b[1;33m(\u001b[0m\u001b[1;34m' '\u001b[0m\u001b[1;33m,\u001b[0m \u001b[1;34m'-'\u001b[0m\u001b[1;33m)\u001b[0m\u001b[1;33m\u001b[0m\u001b[1;33m\u001b[0m\u001b[0m\n\u001b[0m",
      "\u001b[1;31mAttributeError\u001b[0m: 'float' object has no attribute 'lower'"
     ]
    }
   ],
   "source": [
    "# f_replace = lambda x: x.replace(' ', '-')\n",
    "a = df[\"model\"].replace(' ', '-')\n",
    "for i,tmp in enumerate(df[\"model\"]):\n",
    "    df.loc[i,[\"model\"]] = str(tmp.lower()).replace(' ', '-')"
   ]
  },
  {
   "cell_type": "code",
   "execution_count": null,
   "metadata": {},
   "outputs": [],
   "source": [
    "df[\"make_model\"] = df[\"make\"]+\"-\"+df[\"model\"]"
   ]
  },
  {
   "cell_type": "code",
   "execution_count": null,
   "metadata": {
    "scrolled": true
   },
   "outputs": [],
   "source": [
    "df.groupby(\"make_model\").make_model.count()"
   ]
  },
  {
   "cell_type": "code",
   "execution_count": null,
   "metadata": {},
   "outputs": [],
   "source": [
    "# BM = df[\"make\"] == \"BMW\"\n",
    "true_true_love = pd.DataFrame(columns=df.columns)\n",
    "print(true_true_love)\n",
    "i=0\n",
    "for a in column:\n",
    "    true_love = df[df[\"make\"] == a]\n",
    "#     print(true_love)\n",
    "    true_true_love = pd.concat([true_true_love,true_love])\n",
    "    \n",
    "true_true_love.reset_index(inplace=True,drop=True)\n",
    "print(true_true_love)\n",
    "true_true_love.to_csv('selected_metadata.csv')"
   ]
  },
  {
   "cell_type": "code",
   "execution_count": null,
   "metadata": {},
   "outputs": [],
   "source": []
  }
 ],
 "metadata": {
  "kernelspec": {
   "display_name": "Python 3",
   "language": "python",
   "name": "python3"
  },
  "language_info": {
   "codemirror_mode": {
    "name": "ipython",
    "version": 3
   },
   "file_extension": ".py",
   "mimetype": "text/x-python",
   "name": "python",
   "nbconvert_exporter": "python",
   "pygments_lexer": "ipython3",
   "version": "3.7.3"
  }
 },
 "nbformat": 4,
 "nbformat_minor": 2
}
