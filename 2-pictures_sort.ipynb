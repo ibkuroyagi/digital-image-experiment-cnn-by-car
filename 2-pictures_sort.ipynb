{
 "cells": [
  {
   "cell_type": "markdown",
   "metadata": {},
   "source": [
    "# git clone をした場合はすでにmini_picturesディレクトリがダウンロードされているのでこのコードは実行不要です。"
   ]
  },
  {
   "cell_type": "markdown",
   "metadata": {},
   "source": [
    "### もしライブラリがないなどのエラーが出た場合は\n",
    "``` !pip install 〇〇 ```\n",
    "と入力をすればライブラリがanacondaにインストールされて実行できるようになる\n",
    "#### pipの前に!が必要であることに注意"
   ]
  },
  {
   "cell_type": "markdown",
   "metadata": {},
   "source": [
    "## 2.pictureディレクトリから使用する写真を選択し、各make_modelごとにディレクトリ分けをする"
   ]
  },
  {
   "cell_type": "code",
   "execution_count": 1,
   "metadata": {},
   "outputs": [],
   "source": [
    "import os, random, shutil\n",
    "import pandas as pd\n",
    "from sklearn.model_selection import train_test_split\n",
    "\n",
    "pictures_path = \"./pictures\" #pictures = train.zip + test.zip の中身の写真がすべて入っているディレクトリ\n",
    "pictures_files = os.listdir(pictures_path)"
   ]
  },
  {
   "cell_type": "code",
   "execution_count": 2,
   "metadata": {},
   "outputs": [
    {
     "name": "stdout",
     "output_type": "stream",
     "text": [
      "['0004d4463b50_01.jpg', '0004d4463b50_02.jpg', '0004d4463b50_03.jpg', '0004d4463b50_04.jpg', '0004d4463b50_05.jpg', '0004d4463b50_06.jpg', '0004d4463b50_07.jpg', '0004d4463b50_08.jpg', '0004d4463b50_09.jpg', '0004d4463b50_10.jpg']\n"
     ]
    }
   ],
   "source": [
    "pictures_files_file = [f for f in pictures_files if os.path.isfile(os.path.join(pictures_path, f))]\n",
    "print(pictures_files_file[:10])  # ect [\"nvan03vjkj3_01.jpg\", ..., ]\n",
    "pictures_id = [file.split(\"_\")[0] for file in pictures_files_file]"
   ]
  },
  {
   "cell_type": "code",
   "execution_count": 6,
   "metadata": {},
   "outputs": [
    {
     "data": {
      "text/plain": [
       "105152"
      ]
     },
     "execution_count": 6,
     "metadata": {},
     "output_type": "execute_result"
    }
   ],
   "source": [
    "len(pictures_id)"
   ]
  },
  {
   "cell_type": "code",
   "execution_count": 7,
   "metadata": {},
   "outputs": [],
   "source": [
    "selected_df = pd.read_csv('selected_metadata.csv',index_col=0)"
   ]
  },
  {
   "cell_type": "code",
   "execution_count": 8,
   "metadata": {},
   "outputs": [
    {
     "data": {
      "text/html": [
       "<div>\n",
       "<style scoped>\n",
       "    .dataframe tbody tr th:only-of-type {\n",
       "        vertical-align: middle;\n",
       "    }\n",
       "\n",
       "    .dataframe tbody tr th {\n",
       "        vertical-align: top;\n",
       "    }\n",
       "\n",
       "    .dataframe thead th {\n",
       "        text-align: right;\n",
       "    }\n",
       "</style>\n",
       "<table border=\"1\" class=\"dataframe\">\n",
       "  <thead>\n",
       "    <tr style=\"text-align: right;\">\n",
       "      <th></th>\n",
       "      <th>id</th>\n",
       "      <th>year</th>\n",
       "      <th>make</th>\n",
       "      <th>model</th>\n",
       "      <th>trim1</th>\n",
       "      <th>trim2</th>\n",
       "      <th>make_model</th>\n",
       "    </tr>\n",
       "  </thead>\n",
       "  <tbody>\n",
       "    <tr>\n",
       "      <th>0</th>\n",
       "      <td>057717e667f8</td>\n",
       "      <td>2014.0</td>\n",
       "      <td>Audi</td>\n",
       "      <td>a4</td>\n",
       "      <td>A4</td>\n",
       "      <td>2.0T quattro Premium W/ Cold Weather Pkg</td>\n",
       "      <td>Audi-a4</td>\n",
       "    </tr>\n",
       "    <tr>\n",
       "      <th>1</th>\n",
       "      <td>05b9facbe852</td>\n",
       "      <td>2012.0</td>\n",
       "      <td>Audi</td>\n",
       "      <td>a4</td>\n",
       "      <td>A4</td>\n",
       "      <td>2.0T Premium</td>\n",
       "      <td>Audi-a4</td>\n",
       "    </tr>\n",
       "    <tr>\n",
       "      <th>2</th>\n",
       "      <td>0c73bef70ead</td>\n",
       "      <td>2013.0</td>\n",
       "      <td>Audi</td>\n",
       "      <td>allroad</td>\n",
       "      <td>Allroad</td>\n",
       "      <td>2.0T quattro Premium</td>\n",
       "      <td>Audi-allroad</td>\n",
       "    </tr>\n",
       "    <tr>\n",
       "      <th>3</th>\n",
       "      <td>0cdf5b5d0ce1</td>\n",
       "      <td>2014.0</td>\n",
       "      <td>Audi</td>\n",
       "      <td>a4</td>\n",
       "      <td>A4</td>\n",
       "      <td>2.0T quattro Premium Plus</td>\n",
       "      <td>Audi-a4</td>\n",
       "    </tr>\n",
       "    <tr>\n",
       "      <th>4</th>\n",
       "      <td>147eae56c94a</td>\n",
       "      <td>2014.0</td>\n",
       "      <td>Audi</td>\n",
       "      <td>q7</td>\n",
       "      <td>Q7</td>\n",
       "      <td>3.0T quattro Premium</td>\n",
       "      <td>Audi-q7</td>\n",
       "    </tr>\n",
       "  </tbody>\n",
       "</table>\n",
       "</div>"
      ],
      "text/plain": [
       "             id    year  make    model    trim1  \\\n",
       "0  057717e667f8  2014.0  Audi       a4       A4   \n",
       "1  05b9facbe852  2012.0  Audi       a4       A4   \n",
       "2  0c73bef70ead  2013.0  Audi  allroad  Allroad   \n",
       "3  0cdf5b5d0ce1  2014.0  Audi       a4       A4   \n",
       "4  147eae56c94a  2014.0  Audi       q7       Q7   \n",
       "\n",
       "                                      trim2    make_model  \n",
       "0  2.0T quattro Premium W/ Cold Weather Pkg       Audi-a4  \n",
       "1                              2.0T Premium       Audi-a4  \n",
       "2                      2.0T quattro Premium  Audi-allroad  \n",
       "3                 2.0T quattro Premium Plus       Audi-a4  \n",
       "4                      3.0T quattro Premium       Audi-q7  "
      ]
     },
     "execution_count": 8,
     "metadata": {},
     "output_type": "execute_result"
    }
   ],
   "source": [
    "selected_df.head()"
   ]
  },
  {
   "cell_type": "code",
   "execution_count": 9,
   "metadata": {},
   "outputs": [],
   "source": [
    "# selectd_pictures(写真ファイルの文字列リスト)を作成\n",
    "selectd_pictures = []\n",
    "for i,_id in enumerate(pictures_id):\n",
    "    if _id in list(selected_df.id):\n",
    "        selectd_pictures.append(pictures_files_file[i])\n",
    "# print(len(selectd_pictures))\n",
    "# print(selectd_pictures)"
   ]
  },
  {
   "cell_type": "code",
   "execution_count": 10,
   "metadata": {},
   "outputs": [],
   "source": [
    "(train_and_valid_pictures, test_pictures, _, _) = train_test_split( selectd_pictures, selectd_pictures, test_size=0.2, random_state=0)\n",
    "(train_pictures, valid_pictures, _, _) = train_test_split( train_and_valid_pictures, train_and_valid_pictures, test_size=0.25, random_state=0)\n",
    "\n",
    "# データが統一されることを期待するので、seed=0で固定する"
   ]
  },
  {
   "cell_type": "code",
   "execution_count": 11,
   "metadata": {},
   "outputs": [
    {
     "name": "stdout",
     "output_type": "stream",
     "text": [
      "30508 10170 10170\n"
     ]
    }
   ],
   "source": [
    "print(len(train_pictures),len(valid_pictures),len(test_pictures))"
   ]
  },
  {
   "cell_type": "code",
   "execution_count": 12,
   "metadata": {},
   "outputs": [],
   "source": [
    "#「trainデータに含まれていない、かつ、(testまたはvalid)データに含まれている」という画像が存在しないことを確認する\n",
    "train_pictures_id = [file.split(\"_\")[0] for file in train_pictures]\n",
    "valid_pictures_id = [file.split(\"_\")[0] for file in valid_pictures]\n",
    "test_pictures_id = [file.split(\"_\")[0] for file in test_pictures]\n",
    "\n",
    "import collections\n",
    "c1 = collections.Counter(train_pictures_id)\n",
    "c2 = collections.Counter(valid_pictures_id)\n",
    "c3 = collections.Counter(test_pictures_id)"
   ]
  },
  {
   "cell_type": "code",
   "execution_count": 13,
   "metadata": {},
   "outputs": [],
   "source": [
    "def count_id_from_dict(df,c,col_name):\n",
    "    for key, val in c.items():\n",
    "        df.loc[df[df['id'] == key ].index,[col_name]] = val\n",
    "    return df"
   ]
  },
  {
   "cell_type": "code",
   "execution_count": 16,
   "metadata": {},
   "outputs": [
    {
     "data": {
      "text/html": [
       "<div>\n",
       "<style scoped>\n",
       "    .dataframe tbody tr th:only-of-type {\n",
       "        vertical-align: middle;\n",
       "    }\n",
       "\n",
       "    .dataframe tbody tr th {\n",
       "        vertical-align: top;\n",
       "    }\n",
       "\n",
       "    .dataframe thead th {\n",
       "        text-align: right;\n",
       "    }\n",
       "</style>\n",
       "<table border=\"1\" class=\"dataframe\">\n",
       "  <thead>\n",
       "    <tr style=\"text-align: right;\">\n",
       "      <th></th>\n",
       "      <th>id</th>\n",
       "      <th>year</th>\n",
       "      <th>make</th>\n",
       "      <th>model</th>\n",
       "      <th>trim1</th>\n",
       "      <th>trim2</th>\n",
       "      <th>make_model</th>\n",
       "      <th>train_count</th>\n",
       "      <th>valid_count</th>\n",
       "      <th>test_count</th>\n",
       "    </tr>\n",
       "  </thead>\n",
       "  <tbody>\n",
       "    <tr>\n",
       "      <th>0</th>\n",
       "      <td>057717e667f8</td>\n",
       "      <td>2014.0</td>\n",
       "      <td>Audi</td>\n",
       "      <td>a4</td>\n",
       "      <td>A4</td>\n",
       "      <td>2.0T quattro Premium W/ Cold Weather Pkg</td>\n",
       "      <td>Audi-a4</td>\n",
       "      <td>0</td>\n",
       "      <td>0</td>\n",
       "      <td>0</td>\n",
       "    </tr>\n",
       "    <tr>\n",
       "      <th>1</th>\n",
       "      <td>05b9facbe852</td>\n",
       "      <td>2012.0</td>\n",
       "      <td>Audi</td>\n",
       "      <td>a4</td>\n",
       "      <td>A4</td>\n",
       "      <td>2.0T Premium</td>\n",
       "      <td>Audi-a4</td>\n",
       "      <td>0</td>\n",
       "      <td>0</td>\n",
       "      <td>0</td>\n",
       "    </tr>\n",
       "    <tr>\n",
       "      <th>2</th>\n",
       "      <td>0c73bef70ead</td>\n",
       "      <td>2013.0</td>\n",
       "      <td>Audi</td>\n",
       "      <td>allroad</td>\n",
       "      <td>Allroad</td>\n",
       "      <td>2.0T quattro Premium</td>\n",
       "      <td>Audi-allroad</td>\n",
       "      <td>0</td>\n",
       "      <td>0</td>\n",
       "      <td>0</td>\n",
       "    </tr>\n",
       "    <tr>\n",
       "      <th>3</th>\n",
       "      <td>0cdf5b5d0ce1</td>\n",
       "      <td>2014.0</td>\n",
       "      <td>Audi</td>\n",
       "      <td>a4</td>\n",
       "      <td>A4</td>\n",
       "      <td>2.0T quattro Premium Plus</td>\n",
       "      <td>Audi-a4</td>\n",
       "      <td>0</td>\n",
       "      <td>0</td>\n",
       "      <td>0</td>\n",
       "    </tr>\n",
       "    <tr>\n",
       "      <th>4</th>\n",
       "      <td>147eae56c94a</td>\n",
       "      <td>2014.0</td>\n",
       "      <td>Audi</td>\n",
       "      <td>q7</td>\n",
       "      <td>Q7</td>\n",
       "      <td>3.0T quattro Premium</td>\n",
       "      <td>Audi-q7</td>\n",
       "      <td>0</td>\n",
       "      <td>0</td>\n",
       "      <td>0</td>\n",
       "    </tr>\n",
       "  </tbody>\n",
       "</table>\n",
       "</div>"
      ],
      "text/plain": [
       "             id    year  make    model    trim1  \\\n",
       "0  057717e667f8  2014.0  Audi       a4       A4   \n",
       "1  05b9facbe852  2012.0  Audi       a4       A4   \n",
       "2  0c73bef70ead  2013.0  Audi  allroad  Allroad   \n",
       "3  0cdf5b5d0ce1  2014.0  Audi       a4       A4   \n",
       "4  147eae56c94a  2014.0  Audi       q7       Q7   \n",
       "\n",
       "                                      trim2    make_model  train_count  \\\n",
       "0  2.0T quattro Premium W/ Cold Weather Pkg       Audi-a4            0   \n",
       "1                              2.0T Premium       Audi-a4            0   \n",
       "2                      2.0T quattro Premium  Audi-allroad            0   \n",
       "3                 2.0T quattro Premium Plus       Audi-a4            0   \n",
       "4                      3.0T quattro Premium       Audi-q7            0   \n",
       "\n",
       "   valid_count  test_count  \n",
       "0            0           0  \n",
       "1            0           0  \n",
       "2            0           0  \n",
       "3            0           0  \n",
       "4            0           0  "
      ]
     },
     "execution_count": 16,
     "metadata": {},
     "output_type": "execute_result"
    }
   ],
   "source": [
    "selected_df[\"train_count\"] = 0\n",
    "selected_df[\"valid_count\"] = 0\n",
    "selected_df[\"test_count\"] = 0\n",
    "selected_df.head()"
   ]
  },
  {
   "cell_type": "code",
   "execution_count": 18,
   "metadata": {},
   "outputs": [],
   "source": [
    "selected_df = count_id_from_dict(selected_df,c1,\"train_count\")\n",
    "selected_df = count_id_from_dict(selected_df,c2,\"valid_count\")\n",
    "selected_df = count_id_from_dict(selected_df,c3,\"test_count\")\n",
    "selected_df.head()"
   ]
  },
  {
   "cell_type": "code",
   "execution_count": 19,
   "metadata": {},
   "outputs": [
    {
     "data": {
      "text/html": [
       "<div>\n",
       "<style scoped>\n",
       "    .dataframe tbody tr th:only-of-type {\n",
       "        vertical-align: middle;\n",
       "    }\n",
       "\n",
       "    .dataframe tbody tr th {\n",
       "        vertical-align: top;\n",
       "    }\n",
       "\n",
       "    .dataframe thead th {\n",
       "        text-align: right;\n",
       "    }\n",
       "</style>\n",
       "<table border=\"1\" class=\"dataframe\">\n",
       "  <thead>\n",
       "    <tr style=\"text-align: right;\">\n",
       "      <th></th>\n",
       "      <th>year</th>\n",
       "      <th>train_count</th>\n",
       "      <th>valid_count</th>\n",
       "      <th>test_count</th>\n",
       "    </tr>\n",
       "    <tr>\n",
       "      <th>make_model</th>\n",
       "      <th></th>\n",
       "      <th></th>\n",
       "      <th></th>\n",
       "      <th></th>\n",
       "    </tr>\n",
       "  </thead>\n",
       "  <tbody>\n",
       "    <tr>\n",
       "      <th>Audi-a3</th>\n",
       "      <td>22167.0</td>\n",
       "      <td>106</td>\n",
       "      <td>42</td>\n",
       "      <td>28</td>\n",
       "    </tr>\n",
       "    <tr>\n",
       "      <th>Audi-a3-sportback-e-tron</th>\n",
       "      <td>2016.0</td>\n",
       "      <td>8</td>\n",
       "      <td>2</td>\n",
       "      <td>6</td>\n",
       "    </tr>\n",
       "    <tr>\n",
       "      <th>Audi-a4</th>\n",
       "      <td>32214.0</td>\n",
       "      <td>139</td>\n",
       "      <td>61</td>\n",
       "      <td>56</td>\n",
       "    </tr>\n",
       "    <tr>\n",
       "      <th>Audi-a5</th>\n",
       "      <td>18122.0</td>\n",
       "      <td>87</td>\n",
       "      <td>28</td>\n",
       "      <td>29</td>\n",
       "    </tr>\n",
       "    <tr>\n",
       "      <th>Audi-a6</th>\n",
       "      <td>32210.0</td>\n",
       "      <td>161</td>\n",
       "      <td>53</td>\n",
       "      <td>42</td>\n",
       "    </tr>\n",
       "  </tbody>\n",
       "</table>\n",
       "</div>"
      ],
      "text/plain": [
       "                             year  train_count  valid_count  test_count\n",
       "make_model                                                             \n",
       "Audi-a3                   22167.0          106           42          28\n",
       "Audi-a3-sportback-e-tron   2016.0            8            2           6\n",
       "Audi-a4                   32214.0          139           61          56\n",
       "Audi-a5                   18122.0           87           28          29\n",
       "Audi-a6                   32210.0          161           53          42"
      ]
     },
     "execution_count": 19,
     "metadata": {},
     "output_type": "execute_result"
    }
   ],
   "source": [
    "check_data = selected_df.groupby(\"make_model\").sum()\n",
    "check_data.head()"
   ]
  },
  {
   "cell_type": "code",
   "execution_count": 15,
   "metadata": {
    "scrolled": true
   },
   "outputs": [
    {
     "name": "stdout",
     "output_type": "stream",
     "text": [
      "                    year  train_count  valid_count  test_count\n",
      "make_model                                                    \n",
      "Honda-civic     440884.0         2070          739         695\n",
      "Honda-accord    324156.0         1576          479         521\n",
      "Toyota-camry    249685.0         1166          417         401\n",
      "Toyota-corolla  239678.0         1148          371         385\n",
      "Toyota-prius    195286.0          965          303         284\n",
      "0\n",
      "1\n",
      "1\n"
     ]
    }
   ],
   "source": [
    "# selected_df.groupby(\"train_count\").count()\n",
    "check_data = selected_df.groupby(\"make_model\").sum().sort_values(\"train_count\", ascending=False)\n",
    "print(check_data[:5])\n",
    "print(sum(check_data.train_count==0)) #0にならなければならない\n",
    "print(sum(check_data.valid_count==0))  #任意の数(0であることが望ましい)\n",
    "print(sum(check_data.test_count==0))  #任意の数\n",
    "#以上より,「trainデータに含まれていない、かつ、(testまたはvalid)データに含まれている」という画像が存在しないことを確認した。"
   ]
  },
  {
   "cell_type": "code",
   "execution_count": 13,
   "metadata": {},
   "outputs": [],
   "source": [
    "from tqdm import tqdm #進捗が分かるだけなので、なくてもよい\n",
    "# selected_df...metadata.csvのdatafarame\n",
    "# make_models...最終的にターゲットのクラス名となる、dataframeのカラム名\n",
    "# train_pictures_id...選択した写真のidのリスト\n",
    "# train_pictures...選択した写真のファイル名\n",
    "# train_dir...各make_modelをまとめるディレクトリ\n",
    "# pictures_path...画像コピー元のディレクトリ\n",
    "def copy_and_move_dir(selected_df, make_models, pictures_path, train_pictures_id, train_pictures, train_dir):\n",
    "    for make_model in tqdm(make_models):\n",
    "        selectd_pictures = []\n",
    "        for i,_id in enumerate(train_pictures_id):\n",
    "            if _id in list(selected_df[selected_df[\"make_model\"]==make_model].id):\n",
    "                selectd_pictures.append(train_pictures[i])\n",
    "        make_model_dir = os.path.join(train_dir, make_model)\n",
    "        os.mkdir(make_model_dir)    \n",
    "        for fname in selectd_pictures:\n",
    "            src = os.path.join(pictures_path, fname)\n",
    "            dst = os.path.join(make_model_dir, make_model+\"_\"+fname)\n",
    "            shutil.copyfile(src, dst)"
   ]
  },
  {
   "cell_type": "code",
   "execution_count": 16,
   "metadata": {
    "scrolled": true
   },
   "outputs": [
    {
     "name": "stdout",
     "output_type": "stream",
     "text": [
      "197\n",
      "['Audi-a4' 'Audi-allroad' 'Audi-q7' 'Audi-q5' 'Audi-a5' 'Audi-a3'\n",
      " 'Audi-a6' 'Audi-a8-l' 'Audi-s5' 'Audi-tt-rs' 'Audi-tts' 'Audi-a7'\n",
      " 'Audi-tt' 'Audi-s4' 'Audi-sq5' 'Audi-rs-5' 'Audi-a8'\n",
      " 'Audi-a3-sportback-e-tron' 'Audi-q3' 'Audi-s3' 'BMW-3-series' 'BMW-x1'\n",
      " 'BMW-1-series' 'BMW-5-series' 'BMW-x5' 'BMW-z4' 'BMW-2-series' 'BMW-x5-m'\n",
      " 'BMW-i3' 'BMW-x6' 'BMW-x3' 'BMW-4-series' 'BMW-7-series' 'BMW-m6'\n",
      " 'BMW-6-series' 'BMW-m3' 'BMW-x4' 'Honda-civic' 'Honda-accord'\n",
      " 'Honda-cr-v' 'Honda-fit' 'Honda-accord-crosstour' 'Honda-accord-plug-in'\n",
      " 'Honda-hr-v' 'Honda-crosstour' 'Honda-odyssey' 'Honda-accord-hybrid'\n",
      " 'Honda-pilot' 'Honda-cr-z' 'Honda-element' 'Honda-ridgeline'\n",
      " 'Honda-insight' 'Jeep-wrangler-unlimited' 'Jeep-compass'\n",
      " 'Jeep-grand-cherokee' 'Jeep-renegade' 'Jeep-cherokee' 'Jeep-patriot'\n",
      " 'Jeep-wrangler' 'Jeep-liberty' 'Lexus-es-300h' 'Lexus-gx-460'\n",
      " 'Lexus-rx-350' 'Lexus-ct-200h' 'Lexus-is-350' 'Lexus-nx-300h'\n",
      " 'Lexus-hs-250h' 'Lexus-lx-570' 'Lexus-es-350' 'Lexus-rc-300'\n",
      " 'Lexus-nx-200t' 'Lexus-rx-450h' 'Lexus-is-250' 'Lexus-is-300'\n",
      " 'Lexus-is-200t' 'Lexus-gs-350' 'Lexus-sc-430' 'Lexus-is-250c'\n",
      " 'Lexus-rc-350' 'Lexus-ls-460' 'Lexus-gs-450h' 'Lexus-gs-200t'\n",
      " 'Lexus-rc-200t' 'Lexus-is-350c' 'Lexus-gs-300' 'MINI-countryman'\n",
      " 'MINI-hardtop' 'MINI-cooper' 'MINI-coupe' 'MINI-cooper-convertible'\n",
      " 'MINI-roadster' 'MINI-cooper-hardtop' 'MINI-clubman'\n",
      " 'MINI-cooper-clubman' 'MINI-paceman' 'MINI-convertible'\n",
      " 'MINI-cooper-coupe' 'MINI-cooper-countryman' 'Mazda-mazda6' 'Mazda-cx-9'\n",
      " 'Mazda-mazda3' 'Mazda-cx-7' 'Mazda-mazda5' 'Mazda-cx-5' 'Mazda-mazda2'\n",
      " 'Mazda-mazdaspeed3' 'Mazda-tribute' 'Mazda-mx-5-miata' 'Mazda-cx-3'\n",
      " 'Mercedes-Benz-c-class' 'Mercedes-Benz-slk' 'Mercedes-Benz-m-class'\n",
      " 'Mercedes-Benz-cla' 'Mercedes-Benz-gla' 'Mercedes-Benz-cla-class'\n",
      " 'Mercedes-Benz-e-class' 'Mercedes-Benz-cls' 'Mercedes-Benz-glk-class'\n",
      " 'Mercedes-Benz-glk' 'Mercedes-Benz-s-class' 'Mercedes-Benz-metris'\n",
      " 'Mercedes-Benz-clk' 'Mercedes-Benz-sl-class' 'Mercedes-Benz-gl-class'\n",
      " 'Mercedes-Benz-cl-class' 'Mercedes-Benz-b-class'\n",
      " 'Mercedes-Benz-slk-class' 'Mercedes-Benz-r-class' 'Mitsubishi-lancer'\n",
      " 'Mitsubishi-outlander-sport' 'Mitsubishi-outlander' 'Mitsubishi-i-miev'\n",
      " 'Mitsubishi-lancer-sportback' 'Mitsubishi-lancer-evolution'\n",
      " 'Mitsubishi-endeavor' 'Mitsubishi-galant' 'Mitsubishi-mirage'\n",
      " 'Nissan-sentra' 'Nissan-rogue' 'Nissan-leaf' 'Nissan-altima'\n",
      " 'Nissan-cube' 'Nissan-frontier' 'Nissan-armada' 'Nissan-versa-note'\n",
      " 'Nissan-juke' 'Nissan-versa' 'Nissan-murano' 'Nissan-maxima'\n",
      " 'Nissan-pathfinder' 'Nissan-quest' 'Nissan-350z' 'Nissan-370z'\n",
      " 'Nissan-xterra' 'Nissan-rogue-select' 'Nissan-titan' 'Subaru-forester'\n",
      " 'Subaru-impreza' 'Subaru-outback' 'Subaru-xv-crosstrek' 'Subaru-wrx'\n",
      " 'Subaru-brz' 'Subaru-legacy' 'Toyota-highlander' 'Toyota-camry'\n",
      " 'Toyota-corolla' 'Toyota-tacoma' 'Toyota-rav4' 'Toyota-4runner'\n",
      " 'Toyota-sienna' 'Toyota-yaris' 'Toyota-prius-plug-in-hybrid'\n",
      " 'Toyota-prius' 'Toyota-camry-hybrid' 'Toyota-venza' 'Toyota-prius-c'\n",
      " 'Toyota-avalon' 'Toyota-prius-v' 'Toyota-tundra' 'Toyota-fj-cruiser'\n",
      " 'Toyota-sequoia' 'Toyota-avalon-hybrid' 'Volkswagen-jetta'\n",
      " 'Volkswagen-passat' 'Volkswagen-tiguan' 'Volkswagen-cc'\n",
      " 'Volkswagen-beetle' 'Volkswagen-touareg' 'Volkswagen-golf'\n",
      " 'Volkswagen-routan' 'Volkswagen-gti' 'Volkswagen-golf-gti' 'Volvo-s60'\n",
      " 'Volvo-xc70' 'Volvo-v60-cross-country' 'Volvo-xc60' 'Volvo-xc90']\n"
     ]
    }
   ],
   "source": [
    "print(selected_df[\"make_model\"].nunique())\n",
    "print(selected_df[\"make_model\"].unique())"
   ]
  },
  {
   "cell_type": "markdown",
   "metadata": {},
   "source": [
    "## selected_picturesディレクトリの作成 (400クラス分類問題を作成するためのディレクトリ)\n",
    "* ただし、データが巨大すぎるためCPUでの実行は現実的ではないので、GPUが使える環境、もしくは、気長に待つことができる方のみにおすすめします。\n",
    "* 他のファイルでの実行は下で作成をするmini_picturesディレクトリを用いて行います。"
   ]
  },
  {
   "cell_type": "code",
   "execution_count": 17,
   "metadata": {
    "scrolled": false
   },
   "outputs": [
    {
     "name": "stderr",
     "output_type": "stream",
     "text": [
      "100%|██████████████████████████████████████████████████████████████████████████████| 197/197 [1:59:04<00:00, 36.54s/it]\n",
      "100%|████████████████████████████████████████████████████████████████████████████████| 197/197 [39:07<00:00, 10.98s/it]\n",
      "100%|████████████████████████████████████████████████████████████████████████████████| 197/197 [39:36<00:00, 11.91s/it]\n"
     ]
    }
   ],
   "source": [
    "#以下,train_pictures, test_picturesを各ディレクトリ(selected_train_pictures, selected_test_pictures)に保存\n",
    "\n",
    "# 選択した画像すべてを格納するディレクトリ\n",
    "base_dir = \"selected_pictures\"\n",
    "os.mkdir(base_dir)\n",
    "\n",
    "train_dir = os.path.join(base_dir,'train')\n",
    "os.mkdir(train_dir)\n",
    "valid_dir = os.path.join(base_dir,'valid')\n",
    "os.mkdir(valid_dir)\n",
    "test_dir = os.path.join(base_dir,'test')\n",
    "os.mkdir(test_dir)\n",
    "\n",
    "# make_models...最終的な正解のラベル名\n",
    "make_models = selected_df[\"make_model\"].value_counts().index.tolist()\n",
    "\n",
    "copy_and_move_dir(selected_df, make_models, pictures_path, train_pictures_id, train_pictures, train_dir)\n",
    "copy_and_move_dir(selected_df, make_models, pictures_path, valid_pictures_id, valid_pictures, valid_dir)\n",
    "copy_and_move_dir(selected_df, make_models, pictures_path, test_pictures_id, test_pictures, test_dir)"
   ]
  },
  {
   "cell_type": "code",
   "execution_count": 18,
   "metadata": {
    "scrolled": false
   },
   "outputs": [
    {
     "name": "stdout",
     "output_type": "stream",
     "text": [
      "1912\n",
      "657\n",
      "663\n",
      "                         year  train_count  valid_count  test_count\n",
      "make_model                                                         \n",
      "MINI-countryman       22154.0          112           31          33\n",
      "Jeep-wrangler         26170.0          111           42          55\n",
      "Toyota-tacoma         28185.0          111           52          61\n",
      "Volkswagen-cc         22145.0          108           37          31\n",
      "Audi-a3               22167.0          106           42          28\n",
      "Audi-q5               22152.0          106           30          40\n",
      "Mercedes-Benz-gla     22167.0          105           39          32\n",
      "Mercedes-Benz-glk     22153.0          105           40          31\n",
      "Mazda-mazda5          22158.0          104           36          36\n",
      "BMW-x3                24161.0          103           43          46\n",
      "Nissan-370z           20140.0           98           28          34\n",
      "Honda-pilot           20135.0           98           26          36\n",
      "Mitsubishi-outlander  20145.0           90           33          37\n",
      "Audi-a5               18122.0           87           28          29\n",
      "Subaru-outback        16111.0           82           21          25\n",
      "BMW-1-series          18110.0           81           32          31\n",
      "Nissan-rogue-select   16116.0           79           31          18\n",
      "Nissan-quest          14098.0           78           14          20\n",
      "BMW-4-series          16115.0           75           31          22\n",
      "MINI-clubman          14095.0           73           21          18\n"
     ]
    }
   ],
   "source": [
    "check_data_ = selected_df.groupby(\"make_model\").sum().sort_values(\"train_count\", ascending=False)\n",
    "print(check_data_[65:85].train_count.sum())\n",
    "print(check_data_[65:85].valid_count.sum())\n",
    "print(check_data_[65:85].test_count.sum())\n",
    "print(check_data_[65:85])\n",
    "mini_make_models = list(check_data_[65:85].index)"
   ]
  },
  {
   "cell_type": "markdown",
   "metadata": {},
   "source": [
    "## ミニデータセットの作成\n",
    "* 今後は、今から作成をするmini_picturesディレクトリを用いて、モデルの作成を行っていきます。"
   ]
  },
  {
   "cell_type": "code",
   "execution_count": 19,
   "metadata": {},
   "outputs": [],
   "source": [
    "# 2015枚のmini_train_dataと,497枚のmini_test_data （約5%のデータで20クラス分類のモデル作成をする）\n",
    "# 本番では3万枚のtrain_dataと1万枚のvalid_dataと1万枚のtest_dataで400クラス分類のモデル作成\n",
    "#「trainデータに含まれていない、かつ、testデータに含まれている」という画像が存在しないことを確認する -> ok\n",
    "# mini_metadata.csvを作成\n",
    "mini_metadata_df = pd.DataFrame(columns=selected_df.columns)\n",
    "for make_model in mini_make_models:\n",
    "    mini_metadata_df = pd.concat([mini_metadata_df, selected_df[selected_df[\"make_model\"]==make_model]])\n",
    "    \n",
    "mini_metadata_df.reset_index(inplace=True,drop=True)\n",
    "mini_metadata_df.to_csv(\"mini_metadata.csv\")\n",
    "mini_metadata_df.tail()\n",
    "\n",
    "# 上と同様にリストから該当するidのみを取り出し、\n",
    "# mini_train_pictures,mini_valid_pictures, mini_test_pictures(写真ファイルの文字列リスト)を作成\n",
    "mini_train_pictures = []\n",
    "for i,id_ in enumerate(train_pictures_id):\n",
    "    if id_ in set(mini_metadata_df.id):\n",
    "        mini_train_pictures.append(train_pictures[i])\n",
    "        \n",
    "mini_valid_pictures = []\n",
    "for i,id_ in enumerate(valid_pictures_id):\n",
    "    if id_ in list(mini_metadata_df.id):\n",
    "        mini_valid_pictures.append(valid_pictures[i])\n",
    "    \n",
    "mini_test_pictures = []\n",
    "for i,id_ in enumerate(test_pictures_id):\n",
    "    if id_ in list(mini_metadata_df.id):\n",
    "        mini_test_pictures.append(test_pictures[i])"
   ]
  },
  {
   "cell_type": "code",
   "execution_count": 20,
   "metadata": {},
   "outputs": [
    {
     "name": "stderr",
     "output_type": "stream",
     "text": [
      "100%|██████████████████████████████████████████████████████████████████████████████████| 20/20 [08:11<00:00, 25.62s/it]\n",
      "100%|██████████████████████████████████████████████████████████████████████████████████| 20/20 [02:38<00:00,  7.61s/it]\n",
      "100%|██████████████████████████████████████████████████████████████████████████████████| 20/20 [02:35<00:00,  7.69s/it]\n"
     ]
    }
   ],
   "source": [
    "# mini_train_pictures, mini_valid_pictures, mini_test_pictures(写真ファイルの文字列リスト)を\n",
    "# mini_train, mini_test(各ディレクトリ)に保存\n",
    "\n",
    "# 選択した画像すべてを格納するディレクトリ\n",
    "mini_base_dir = \"mini_pictures\"\n",
    "os.mkdir(mini_base_dir)\n",
    "\n",
    "train_dir = os.path.join(mini_base_dir,'train')\n",
    "os.mkdir(train_dir)\n",
    "valid_dir = os.path.join(mini_base_dir,'valid')\n",
    "os.mkdir(valid_dir)\n",
    "test_dir = os.path.join(mini_base_dir,'test')\n",
    "os.mkdir(test_dir)\n",
    "\n",
    "# make_models...最終的にターゲットのクラス名となる、dataframeのカラム名\n",
    "mini_make_models = mini_metadata_df[\"make_model\"].value_counts().index.tolist()\n",
    "\n",
    "copy_and_move_dir(mini_metadata_df, mini_make_models, pictures_path, train_pictures_id, train_pictures, train_dir)\n",
    "copy_and_move_dir(mini_metadata_df, mini_make_models, pictures_path, valid_pictures_id, valid_pictures, valid_dir)\n",
    "copy_and_move_dir(mini_metadata_df, mini_make_models, pictures_path, test_pictures_id, test_pictures, test_dir)"
   ]
  }
 ],
 "metadata": {
  "kernelspec": {
   "display_name": "Python 3",
   "language": "python",
   "name": "python3"
  },
  "language_info": {
   "codemirror_mode": {
    "name": "ipython",
    "version": 3
   },
   "file_extension": ".py",
   "mimetype": "text/x-python",
   "name": "python",
   "nbconvert_exporter": "python",
   "pygments_lexer": "ipython3",
   "version": "3.7.3"
  }
 },
 "nbformat": 4,
 "nbformat_minor": 2
}
